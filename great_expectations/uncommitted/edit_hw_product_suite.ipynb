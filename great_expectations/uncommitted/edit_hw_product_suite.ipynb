{
 "cells": [
  {
   "cell_type": "markdown",
   "id": "204d5ee6",
   "metadata": {},
   "source": [
    "# Edit Your Expectation Suite\n",
    "Use this notebook to recreate and modify your expectation suite:\n",
    "\n",
    "**Expectation Suite Name**: `hw_product_suite`\n"
   ]
  },
  {
   "cell_type": "code",
   "execution_count": 1,
   "id": "b702f1bb",
   "metadata": {},
   "outputs": [
    {
     "name": "stdout",
     "output_type": "stream",
     "text": [
      "2023-04-29T22:46:11+0200 - INFO - Great Expectations logging enabled at 20 level by JupyterUX module.\n",
      "2023-04-29T22:46:12+0200 - INFO - FileDataContext loading fluent config\n",
      "2023-04-29T22:46:12+0200 - INFO - GxConfig.parse_yaml() failed with errors - [{'loc': ('fluent_datasources',), 'msg': 'field required', 'type': 'value_error.missing'}]\n",
      "2023-04-29T22:46:12+0200 - INFO - GxConfig.parse_yaml() returning empty `fluent_datasources`\n",
      "2023-04-29T22:46:12+0200 - INFO - Loading 'datasources' ->\n",
      "{}\n",
      "2023-04-29T22:46:12+0200 - INFO - Loaded 'datasources' ->\n",
      "{}\n",
      "Loaded ExpectationSuite \"hw_product_suite\" containing 48 expectations.\n"
     ]
    },
    {
     "data": {
      "application/vnd.jupyter.widget-view+json": {
       "model_id": "ded44e9b909240d191c1ef448260230e",
       "version_major": 2,
       "version_minor": 0
      },
      "text/plain": [
       "Calculating Metrics:   0%|          | 0/2 [00:00<?, ?it/s]"
      ]
     },
     "metadata": {},
     "output_type": "display_data"
    },
    {
     "name": "stdout",
     "output_type": "stream",
     "text": [
      "Columns: \"ProductID\", \"Name\", \"ProductNumber\", \"MakeFlag\", \"FinishedGoodsFlag\", \"Color\", \"SafetyStockLevel\", \"ReorderPoint\", \"StandardCost\", \"ListPrice\", \"SizeUnitMeasureCode\", \"WeightUnitMeasureCode\", \"Weight\", \"DaysToManufacture\", \"ProductLine\", \"Class\", \"Style\", \"ProductSubcategoryID\", \"ProductModelID\", \"SellStartDate\", \"SellEndDate\", \"DiscontinuedDate\", \"rowguid\", \"ModifiedDate\".\n"
     ]
    }
   ],
   "source": [
    "import datetime\n",
    "\n",
    "import pandas as pd\n",
    "\n",
    "import great_expectations as gx\n",
    "import great_expectations.jupyter_ux\n",
    "from great_expectations.core.batch import BatchRequest\n",
    "from great_expectations.checkpoint import SimpleCheckpoint\n",
    "from great_expectations.exceptions import DataContextError\n",
    "\n",
    "context = gx.get_context()\n",
    "\n",
    "# Note that if you modify this batch request, you may save the new version as a .json file\n",
    "#  to pass in later via the --batch-request option\n",
    "batch_request = {'datasource_name': 'my_datasource', 'data_connector_name': 'default_configured_data_connector_name', 'data_asset_name': 'Product', 'limit': 1000}\n",
    "\n",
    "\n",
    "# Feel free to change the name of your suite here. Renaming this will not remove the other one.\n",
    "expectation_suite_name = \"hw_product_suite\"\n",
    "try:\n",
    "    suite = context.get_expectation_suite(expectation_suite_name=expectation_suite_name)\n",
    "    print(f'Loaded ExpectationSuite \"{suite.expectation_suite_name}\" containing {len(suite.expectations)} expectations.')\n",
    "except DataContextError:\n",
    "    suite = context.add_expectation_suite(expectation_suite_name=expectation_suite_name)\n",
    "    print(f'Created ExpectationSuite \"{suite.expectation_suite_name}\".')\n",
    "\n",
    "\n",
    "validator = context.get_validator(\n",
    "    batch_request=BatchRequest(**batch_request),\n",
    "    expectation_suite_name=expectation_suite_name\n",
    ")\n",
    "column_names = [f'\"{column_name}\"' for column_name in validator.columns()]\n",
    "print(f\"Columns: {', '.join(column_names)}.\")\n",
    "# validator.head(n_rows=5, fetch_all=False)"
   ]
  },
  {
   "cell_type": "markdown",
   "id": "6b276804",
   "metadata": {},
   "source": [
    "## Create & Edit Expectations\n",
    "\n",
    "\n",
    "Add expectations by calling specific expectation methods on the `validator` object. They all begin with `.expect_` which makes autocompleting easy using tab.\n",
    "\n",
    "Because you selected interactive mode, you are now creating or editing an Expectation Suite with validator feedback from the sample batch of data that you specified (see `batch_request`).\n",
    "\n",
    "Note that if you select manual mode you may still create or edit an Expectation Suite directly, without feedback from the `validator`. See our documentation for more info and examples: [How to create a new Expectation Suite without a sample batch](https://docs.greatexpectations.io/docs/guides/expectations/how_to_create_and_edit_expectations_based_on_domain_knowledge_without_inspecting_data_directly).\n",
    "\n",
    "\n",
    "\n",
    "You can see all the available expectations in the **[expectation gallery](https://greatexpectations.io/expectations)**."
   ]
  },
  {
   "cell_type": "markdown",
   "id": "b2cfb87e",
   "metadata": {},
   "source": [
    "### Table Expectation(s)"
   ]
  },
  {
   "cell_type": "code",
   "execution_count": 2,
   "id": "2dc98c9b",
   "metadata": {},
   "outputs": [
    {
     "data": {
      "application/vnd.jupyter.widget-view+json": {
       "model_id": "a8752956023c4b8ab11914159f9dcd8d",
       "version_major": 2,
       "version_minor": 0
      },
      "text/plain": [
       "Calculating Metrics:   0%|          | 0/2 [00:00<?, ?it/s]"
      ]
     },
     "metadata": {},
     "output_type": "display_data"
    },
    {
     "data": {
      "text/plain": [
       "{\n",
       "  \"meta\": {},\n",
       "  \"exception_info\": {\n",
       "    \"raised_exception\": false,\n",
       "    \"exception_traceback\": null,\n",
       "    \"exception_message\": null\n",
       "  },\n",
       "  \"result\": {\n",
       "    \"observed_value\": 504\n",
       "  },\n",
       "  \"success\": true\n",
       "}"
      ]
     },
     "execution_count": 2,
     "metadata": {},
     "output_type": "execute_result"
    }
   ],
   "source": [
    "\n",
    "validator.expect_table_row_count_to_be_between(max_value=504, min_value=504)"
   ]
  },
  {
   "cell_type": "code",
   "execution_count": 3,
   "id": "0a1c3031",
   "metadata": {},
   "outputs": [
    {
     "data": {
      "application/vnd.jupyter.widget-view+json": {
       "model_id": "3a5dbd8a484d4e928c6973559218cff9",
       "version_major": 2,
       "version_minor": 0
      },
      "text/plain": [
       "Calculating Metrics:   0%|          | 0/2 [00:00<?, ?it/s]"
      ]
     },
     "metadata": {},
     "output_type": "display_data"
    },
    {
     "data": {
      "text/plain": [
       "{\n",
       "  \"meta\": {},\n",
       "  \"exception_info\": {\n",
       "    \"raised_exception\": false,\n",
       "    \"exception_traceback\": null,\n",
       "    \"exception_message\": null\n",
       "  },\n",
       "  \"result\": {\n",
       "    \"observed_value\": [\n",
       "      \"Class\",\n",
       "      \"Color\",\n",
       "      \"DaysToManufacture\",\n",
       "      \"DiscontinuedDate\",\n",
       "      \"FinishedGoodsFlag\",\n",
       "      \"ListPrice\",\n",
       "      \"MakeFlag\",\n",
       "      \"ModifiedDate\",\n",
       "      \"Name\",\n",
       "      \"ProductID\",\n",
       "      \"ProductLine\",\n",
       "      \"ProductModelID\",\n",
       "      \"ProductNumber\",\n",
       "      \"ProductSubcategoryID\",\n",
       "      \"ReorderPoint\",\n",
       "      \"SafetyStockLevel\",\n",
       "      \"SellEndDate\",\n",
       "      \"SellStartDate\",\n",
       "      \"SizeUnitMeasureCode\",\n",
       "      \"StandardCost\",\n",
       "      \"Style\",\n",
       "      \"Weight\",\n",
       "      \"WeightUnitMeasureCode\",\n",
       "      \"rowguid\"\n",
       "    ],\n",
       "    \"details\": {\n",
       "      \"mismatched\": {\n",
       "        \"missing\": [\n",
       "          \"Size\"\n",
       "        ]\n",
       "      }\n",
       "    }\n",
       "  },\n",
       "  \"success\": false\n",
       "}"
      ]
     },
     "execution_count": 3,
     "metadata": {},
     "output_type": "execute_result"
    }
   ],
   "source": [
    "\n",
    "validator.expect_table_columns_to_match_set(column_set=['MakeFlag', 'ProductNumber', 'Style', 'FinishedGoodsFlag', 'Weight', 'SafetyStockLevel', 'SellEndDate', 'ModifiedDate', 'Color', 'ProductID', 'ProductSubcategoryID', 'Name', 'ListPrice', 'ReorderPoint', 'ProductModelID', 'Size', 'SizeUnitMeasureCode', 'ProductLine', 'DaysToManufacture', 'rowguid', 'StandardCost', 'Class', 'WeightUnitMeasureCode', 'DiscontinuedDate', 'SellStartDate'])"
   ]
  },
  {
   "cell_type": "markdown",
   "id": "e17a62a1",
   "metadata": {},
   "source": [
    "### Column Expectation(s)"
   ]
  },
  {
   "cell_type": "markdown",
   "id": "e8f8b291",
   "metadata": {},
   "source": [
    "#### `ProductID`"
   ]
  },
  {
   "cell_type": "code",
   "execution_count": 4,
   "id": "3b147eb4",
   "metadata": {},
   "outputs": [
    {
     "data": {
      "application/vnd.jupyter.widget-view+json": {
       "model_id": "26562cb959bb4d878a4964709273ebfe",
       "version_major": 2,
       "version_minor": 0
      },
      "text/plain": [
       "Calculating Metrics:   0%|          | 0/10 [00:00<?, ?it/s]"
      ]
     },
     "metadata": {},
     "output_type": "display_data"
    },
    {
     "data": {
      "text/plain": [
       "{\n",
       "  \"meta\": {},\n",
       "  \"exception_info\": {\n",
       "    \"raised_exception\": false,\n",
       "    \"exception_traceback\": null,\n",
       "    \"exception_message\": null\n",
       "  },\n",
       "  \"result\": {\n",
       "    \"element_count\": 504,\n",
       "    \"unexpected_count\": 0,\n",
       "    \"unexpected_percent\": 0.0,\n",
       "    \"partial_unexpected_list\": [],\n",
       "    \"missing_count\": 0,\n",
       "    \"missing_percent\": 0.0,\n",
       "    \"unexpected_percent_total\": 0.0,\n",
       "    \"unexpected_percent_nonmissing\": 0.0\n",
       "  },\n",
       "  \"success\": true\n",
       "}"
      ]
     },
     "execution_count": 4,
     "metadata": {},
     "output_type": "execute_result"
    }
   ],
   "source": [
    "\n",
    "validator.expect_column_values_to_be_unique(column='ProductID', meta={'profiler_details': {'metric_configuration': {'domain_kwargs': {'column': 'ProductID'}, 'metric_name': 'column_values.unique.unexpected_count', 'metric_value_kwargs': None}, 'num_batches': 1}})"
   ]
  },
  {
   "cell_type": "code",
   "execution_count": 5,
   "id": "4ced5a9b",
   "metadata": {},
   "outputs": [
    {
     "data": {
      "application/vnd.jupyter.widget-view+json": {
       "model_id": "f6a24fa7e8634b9d9a960fc6e70bcd7e",
       "version_major": 2,
       "version_minor": 0
      },
      "text/plain": [
       "Calculating Metrics:   0%|          | 0/8 [00:00<?, ?it/s]"
      ]
     },
     "metadata": {},
     "output_type": "display_data"
    },
    {
     "data": {
      "text/plain": [
       "{\n",
       "  \"meta\": {},\n",
       "  \"exception_info\": {\n",
       "    \"raised_exception\": false,\n",
       "    \"exception_traceback\": null,\n",
       "    \"exception_message\": null\n",
       "  },\n",
       "  \"result\": {\n",
       "    \"element_count\": 504,\n",
       "    \"unexpected_count\": 0,\n",
       "    \"unexpected_percent\": 0.0,\n",
       "    \"partial_unexpected_list\": []\n",
       "  },\n",
       "  \"success\": true\n",
       "}"
      ]
     },
     "execution_count": 5,
     "metadata": {},
     "output_type": "execute_result"
    }
   ],
   "source": [
    "\n",
    "validator.expect_column_values_to_not_be_null(column='ProductID', meta={'profiler_details': {'metric_configuration': {'domain_kwargs': {'column': 'ProductID'}, 'metric_name': 'column_values.nonnull.unexpected_count', 'metric_value_kwargs': None}, 'num_batches': 1}})"
   ]
  },
  {
   "cell_type": "code",
   "execution_count": 6,
   "id": "a75294ed",
   "metadata": {},
   "outputs": [
    {
     "data": {
      "application/vnd.jupyter.widget-view+json": {
       "model_id": "754f1937d27943a3a41098a2f6955c94",
       "version_major": 2,
       "version_minor": 0
      },
      "text/plain": [
       "Calculating Metrics:   0%|          | 0/6 [00:00<?, ?it/s]"
      ]
     },
     "metadata": {},
     "output_type": "display_data"
    },
    {
     "data": {
      "text/plain": [
       "{\n",
       "  \"meta\": {},\n",
       "  \"exception_info\": {\n",
       "    \"raised_exception\": false,\n",
       "    \"exception_traceback\": null,\n",
       "    \"exception_message\": null\n",
       "  },\n",
       "  \"result\": {\n",
       "    \"observed_value\": 1\n",
       "  },\n",
       "  \"success\": true\n",
       "}"
      ]
     },
     "execution_count": 6,
     "metadata": {},
     "output_type": "execute_result"
    }
   ],
   "source": [
    "\n",
    "validator.expect_column_min_to_be_between(column='ProductID', max_value=1, min_value=1, strict_max=False, strict_min=False, meta={'profiler_details': {'metric_configuration': {'domain_kwargs': {'column': 'ProductID'}, 'metric_name': 'column.min', 'metric_value_kwargs': None}, 'num_batches': 1}})"
   ]
  },
  {
   "cell_type": "code",
   "execution_count": 7,
   "id": "b44620d2",
   "metadata": {},
   "outputs": [
    {
     "data": {
      "application/vnd.jupyter.widget-view+json": {
       "model_id": "28df4de1920441659b55dcebcabf76f8",
       "version_major": 2,
       "version_minor": 0
      },
      "text/plain": [
       "Calculating Metrics:   0%|          | 0/6 [00:00<?, ?it/s]"
      ]
     },
     "metadata": {},
     "output_type": "display_data"
    },
    {
     "data": {
      "text/plain": [
       "{\n",
       "  \"meta\": {},\n",
       "  \"exception_info\": {\n",
       "    \"raised_exception\": false,\n",
       "    \"exception_traceback\": null,\n",
       "    \"exception_message\": null\n",
       "  },\n",
       "  \"result\": {\n",
       "    \"observed_value\": 999\n",
       "  },\n",
       "  \"success\": true\n",
       "}"
      ]
     },
     "execution_count": 7,
     "metadata": {},
     "output_type": "execute_result"
    }
   ],
   "source": [
    "\n",
    "validator.expect_column_max_to_be_between(column='ProductID', max_value=999, min_value=999, strict_max=False, strict_min=False, meta={'profiler_details': {'metric_configuration': {'domain_kwargs': {'column': 'ProductID'}, 'metric_name': 'column.max', 'metric_value_kwargs': None}, 'num_batches': 1}})"
   ]
  },
  {
   "cell_type": "code",
   "execution_count": 8,
   "id": "eaa57495",
   "metadata": {},
   "outputs": [
    {
     "data": {
      "application/vnd.jupyter.widget-view+json": {
       "model_id": "f98c87ce932246649b78e3908ff456d7",
       "version_major": 2,
       "version_minor": 0
      },
      "text/plain": [
       "Calculating Metrics:   0%|          | 0/11 [00:00<?, ?it/s]"
      ]
     },
     "metadata": {},
     "output_type": "display_data"
    },
    {
     "data": {
      "text/plain": [
       "{\n",
       "  \"meta\": {},\n",
       "  \"exception_info\": {\n",
       "    \"raised_exception\": false,\n",
       "    \"exception_traceback\": null,\n",
       "    \"exception_message\": null\n",
       "  },\n",
       "  \"result\": {\n",
       "    \"element_count\": 504,\n",
       "    \"unexpected_count\": 0,\n",
       "    \"unexpected_percent\": 0.0,\n",
       "    \"partial_unexpected_list\": [],\n",
       "    \"missing_count\": 0,\n",
       "    \"missing_percent\": 0.0,\n",
       "    \"unexpected_percent_total\": 0.0,\n",
       "    \"unexpected_percent_nonmissing\": 0.0\n",
       "  },\n",
       "  \"success\": true\n",
       "}"
      ]
     },
     "execution_count": 8,
     "metadata": {},
     "output_type": "execute_result"
    }
   ],
   "source": [
    "\n",
    "validator.expect_column_values_to_be_between(column='ProductID', max_value=999, min_value=1, mostly=1.0, strict_max=False, strict_min=False, meta={'profiler_details': {'column_max_values_range_estimator': {'metric_configuration': {'domain_kwargs': {'column': 'ProductID'}, 'metric_name': 'column.max', 'metric_value_kwargs': None}, 'num_batches': 1}, 'column_min_values_range_estimator': {'metric_configuration': {'domain_kwargs': {'column': 'ProductID'}, 'metric_name': 'column.min', 'metric_value_kwargs': None}, 'num_batches': 1}}})"
   ]
  },
  {
   "cell_type": "code",
   "execution_count": 9,
   "id": "77ba40c2",
   "metadata": {},
   "outputs": [
    {
     "data": {
      "application/vnd.jupyter.widget-view+json": {
       "model_id": "35766065773f427497a605f347a228f9",
       "version_major": 2,
       "version_minor": 0
      },
      "text/plain": [
       "Calculating Metrics:   0%|          | 0/5 [00:00<?, ?it/s]"
      ]
     },
     "metadata": {},
     "output_type": "display_data"
    },
    {
     "data": {
      "text/plain": [
       "{\n",
       "  \"meta\": {},\n",
       "  \"exception_info\": {\n",
       "    \"raised_exception\": false,\n",
       "    \"exception_traceback\": null,\n",
       "    \"exception_message\": null\n",
       "  },\n",
       "  \"result\": {\n",
       "    \"observed_value\": {\n",
       "      \"quantiles\": [\n",
       "        0.25,\n",
       "        0.5,\n",
       "        0.75\n",
       "      ],\n",
       "      \"values\": [\n",
       "        447,\n",
       "        747,\n",
       "        873\n",
       "      ]\n",
       "    },\n",
       "    \"details\": {\n",
       "      \"success_details\": [\n",
       "        true,\n",
       "        true,\n",
       "        true\n",
       "      ]\n",
       "    }\n",
       "  },\n",
       "  \"success\": true\n",
       "}"
      ]
     },
     "execution_count": 9,
     "metadata": {},
     "output_type": "execute_result"
    }
   ],
   "source": [
    "\n",
    "validator.expect_column_quantile_values_to_be_between(column='ProductID', allow_relative_error=False, quantile_ranges={'quantiles': [0.25, 0.5, 0.75], 'value_ranges': [[447, 447], [747, 747], [873, 873]]}, meta={'profiler_details': {'metric_configuration': {'domain_kwargs': {'column': 'ProductID'}, 'metric_name': 'column.quantile_values', 'metric_value_kwargs': {'allow_relative_error': False, 'quantiles': [0.25, 0.5, 0.75]}}, 'num_batches': 1}})"
   ]
  },
  {
   "cell_type": "code",
   "execution_count": 10,
   "id": "ef64869e",
   "metadata": {},
   "outputs": [
    {
     "data": {
      "application/vnd.jupyter.widget-view+json": {
       "model_id": "1984d274e8b244df8e54b676aa18e187",
       "version_major": 2,
       "version_minor": 0
      },
      "text/plain": [
       "Calculating Metrics:   0%|          | 0/9 [00:00<?, ?it/s]"
      ]
     },
     "metadata": {},
     "output_type": "display_data"
    },
    {
     "data": {
      "text/plain": [
       "{\n",
       "  \"meta\": {},\n",
       "  \"exception_info\": {\n",
       "    \"raised_exception\": false,\n",
       "    \"exception_traceback\": null,\n",
       "    \"exception_message\": null\n",
       "  },\n",
       "  \"result\": {\n",
       "    \"observed_value\": 747.5\n",
       "  },\n",
       "  \"success\": true\n",
       "}"
      ]
     },
     "execution_count": 10,
     "metadata": {},
     "output_type": "execute_result"
    }
   ],
   "source": [
    "\n",
    "validator.expect_column_median_to_be_between(column='ProductID', max_value=747.5, min_value=747.5, strict_max=False, strict_min=False, meta={'profiler_details': {'metric_configuration': {'domain_kwargs': {'column': 'ProductID'}, 'metric_name': 'column.median', 'metric_value_kwargs': None}, 'num_batches': 1}})"
   ]
  },
  {
   "cell_type": "code",
   "execution_count": 11,
   "id": "5fd58ce8",
   "metadata": {},
   "outputs": [
    {
     "data": {
      "application/vnd.jupyter.widget-view+json": {
       "model_id": "b59b9b36846d44eaac97f327a55a5be7",
       "version_major": 2,
       "version_minor": 0
      },
      "text/plain": [
       "Calculating Metrics:   0%|          | 0/6 [00:00<?, ?it/s]"
      ]
     },
     "metadata": {},
     "output_type": "display_data"
    },
    {
     "data": {
      "text/plain": [
       "{\n",
       "  \"meta\": {},\n",
       "  \"exception_info\": {\n",
       "    \"raised_exception\": false,\n",
       "    \"exception_traceback\": null,\n",
       "    \"exception_message\": null\n",
       "  },\n",
       "  \"result\": {\n",
       "    \"observed_value\": 673.0396825396825\n",
       "  },\n",
       "  \"success\": true\n",
       "}"
      ]
     },
     "execution_count": 11,
     "metadata": {},
     "output_type": "execute_result"
    }
   ],
   "source": [
    "\n",
    "validator.expect_column_mean_to_be_between(column='ProductID', max_value=673.0396825396825, min_value=673.0396825396825, strict_max=False, strict_min=False, meta={'profiler_details': {'metric_configuration': {'domain_kwargs': {'column': 'ProductID'}, 'metric_name': 'column.mean', 'metric_value_kwargs': None}, 'num_batches': 1}})"
   ]
  },
  {
   "cell_type": "code",
   "execution_count": 12,
   "id": "e635a4e1",
   "metadata": {},
   "outputs": [
    {
     "data": {
      "application/vnd.jupyter.widget-view+json": {
       "model_id": "865e1bfbf22f4a0e83e6a5a7ade89255",
       "version_major": 2,
       "version_minor": 0
      },
      "text/plain": [
       "Calculating Metrics:   0%|          | 0/11 [00:00<?, ?it/s]"
      ]
     },
     "metadata": {},
     "output_type": "display_data"
    },
    {
     "data": {
      "text/plain": [
       "{\n",
       "  \"meta\": {},\n",
       "  \"exception_info\": {\n",
       "    \"raised_exception\": false,\n",
       "    \"exception_traceback\": null,\n",
       "    \"exception_message\": null\n",
       "  },\n",
       "  \"result\": {\n",
       "    \"observed_value\": 229.37314180957807\n",
       "  },\n",
       "  \"success\": true\n",
       "}"
      ]
     },
     "execution_count": 12,
     "metadata": {},
     "output_type": "execute_result"
    }
   ],
   "source": [
    "\n",
    "validator.expect_column_stdev_to_be_between(column='ProductID', max_value=229.37314180957807, min_value=229.37314180957807, strict_max=False, strict_min=False, meta={'profiler_details': {'metric_configuration': {'domain_kwargs': {'column': 'ProductID'}, 'metric_name': 'column.standard_deviation', 'metric_value_kwargs': None}, 'num_batches': 1}})"
   ]
  },
  {
   "cell_type": "markdown",
   "id": "23ac4ec4",
   "metadata": {},
   "source": [
    "#### `Name`"
   ]
  },
  {
   "cell_type": "code",
   "execution_count": 13,
   "id": "416c5118",
   "metadata": {},
   "outputs": [
    {
     "data": {
      "application/vnd.jupyter.widget-view+json": {
       "model_id": "19e23fa533174fb88e9bbaa91a55afa3",
       "version_major": 2,
       "version_minor": 0
      },
      "text/plain": [
       "Calculating Metrics:   0%|          | 0/10 [00:00<?, ?it/s]"
      ]
     },
     "metadata": {},
     "output_type": "display_data"
    },
    {
     "data": {
      "text/plain": [
       "{\n",
       "  \"meta\": {},\n",
       "  \"exception_info\": {\n",
       "    \"raised_exception\": false,\n",
       "    \"exception_traceback\": null,\n",
       "    \"exception_message\": null\n",
       "  },\n",
       "  \"result\": {\n",
       "    \"element_count\": 504,\n",
       "    \"unexpected_count\": 0,\n",
       "    \"unexpected_percent\": 0.0,\n",
       "    \"partial_unexpected_list\": [],\n",
       "    \"missing_count\": 0,\n",
       "    \"missing_percent\": 0.0,\n",
       "    \"unexpected_percent_total\": 0.0,\n",
       "    \"unexpected_percent_nonmissing\": 0.0\n",
       "  },\n",
       "  \"success\": true\n",
       "}"
      ]
     },
     "execution_count": 13,
     "metadata": {},
     "output_type": "execute_result"
    }
   ],
   "source": [
    "\n",
    "validator.expect_column_values_to_be_unique(column='Name', meta={'profiler_details': {'metric_configuration': {'domain_kwargs': {'column': 'Name'}, 'metric_name': 'column_values.unique.unexpected_count', 'metric_value_kwargs': None}, 'num_batches': 1}})"
   ]
  },
  {
   "cell_type": "code",
   "execution_count": 14,
   "id": "66790ac3",
   "metadata": {},
   "outputs": [
    {
     "data": {
      "application/vnd.jupyter.widget-view+json": {
       "model_id": "83b6d3027d3547f889bd607829867d34",
       "version_major": 2,
       "version_minor": 0
      },
      "text/plain": [
       "Calculating Metrics:   0%|          | 0/8 [00:00<?, ?it/s]"
      ]
     },
     "metadata": {},
     "output_type": "display_data"
    },
    {
     "data": {
      "text/plain": [
       "{\n",
       "  \"meta\": {},\n",
       "  \"exception_info\": {\n",
       "    \"raised_exception\": false,\n",
       "    \"exception_traceback\": null,\n",
       "    \"exception_message\": null\n",
       "  },\n",
       "  \"result\": {\n",
       "    \"element_count\": 504,\n",
       "    \"unexpected_count\": 0,\n",
       "    \"unexpected_percent\": 0.0,\n",
       "    \"partial_unexpected_list\": []\n",
       "  },\n",
       "  \"success\": true\n",
       "}"
      ]
     },
     "execution_count": 14,
     "metadata": {},
     "output_type": "execute_result"
    }
   ],
   "source": [
    "\n",
    "validator.expect_column_values_to_not_be_null(column='Name', meta={'profiler_details': {'metric_configuration': {'domain_kwargs': {'column': 'Name'}, 'metric_name': 'column_values.nonnull.unexpected_count', 'metric_value_kwargs': None}, 'num_batches': 1}})"
   ]
  },
  {
   "cell_type": "markdown",
   "id": "4ab8845d",
   "metadata": {},
   "source": [
    "#### `ProductNumber`"
   ]
  },
  {
   "cell_type": "code",
   "execution_count": 15,
   "id": "7d14d80f",
   "metadata": {},
   "outputs": [
    {
     "data": {
      "application/vnd.jupyter.widget-view+json": {
       "model_id": "38246f0e3f4f474a97436f444c64c5f3",
       "version_major": 2,
       "version_minor": 0
      },
      "text/plain": [
       "Calculating Metrics:   0%|          | 0/10 [00:00<?, ?it/s]"
      ]
     },
     "metadata": {},
     "output_type": "display_data"
    },
    {
     "data": {
      "text/plain": [
       "{\n",
       "  \"meta\": {},\n",
       "  \"exception_info\": {\n",
       "    \"raised_exception\": false,\n",
       "    \"exception_traceback\": null,\n",
       "    \"exception_message\": null\n",
       "  },\n",
       "  \"result\": {\n",
       "    \"element_count\": 504,\n",
       "    \"unexpected_count\": 0,\n",
       "    \"unexpected_percent\": 0.0,\n",
       "    \"partial_unexpected_list\": [],\n",
       "    \"missing_count\": 0,\n",
       "    \"missing_percent\": 0.0,\n",
       "    \"unexpected_percent_total\": 0.0,\n",
       "    \"unexpected_percent_nonmissing\": 0.0\n",
       "  },\n",
       "  \"success\": true\n",
       "}"
      ]
     },
     "execution_count": 15,
     "metadata": {},
     "output_type": "execute_result"
    }
   ],
   "source": [
    "\n",
    "validator.expect_column_values_to_be_unique(column='ProductNumber', meta={'profiler_details': {'metric_configuration': {'domain_kwargs': {'column': 'ProductNumber'}, 'metric_name': 'column_values.unique.unexpected_count', 'metric_value_kwargs': None}, 'num_batches': 1}})"
   ]
  },
  {
   "cell_type": "code",
   "execution_count": 16,
   "id": "1547a7c9",
   "metadata": {},
   "outputs": [
    {
     "data": {
      "application/vnd.jupyter.widget-view+json": {
       "model_id": "4ea24344c43b44a4a60ccf0b01f9bbbd",
       "version_major": 2,
       "version_minor": 0
      },
      "text/plain": [
       "Calculating Metrics:   0%|          | 0/8 [00:00<?, ?it/s]"
      ]
     },
     "metadata": {},
     "output_type": "display_data"
    },
    {
     "data": {
      "text/plain": [
       "{\n",
       "  \"meta\": {},\n",
       "  \"exception_info\": {\n",
       "    \"raised_exception\": false,\n",
       "    \"exception_traceback\": null,\n",
       "    \"exception_message\": null\n",
       "  },\n",
       "  \"result\": {\n",
       "    \"element_count\": 504,\n",
       "    \"unexpected_count\": 0,\n",
       "    \"unexpected_percent\": 0.0,\n",
       "    \"partial_unexpected_list\": []\n",
       "  },\n",
       "  \"success\": true\n",
       "}"
      ]
     },
     "execution_count": 16,
     "metadata": {},
     "output_type": "execute_result"
    }
   ],
   "source": [
    "\n",
    "validator.expect_column_values_to_not_be_null(column='ProductNumber', meta={'profiler_details': {'metric_configuration': {'domain_kwargs': {'column': 'ProductNumber'}, 'metric_name': 'column_values.nonnull.unexpected_count', 'metric_value_kwargs': None}, 'num_batches': 1}})"
   ]
  },
  {
   "cell_type": "markdown",
   "id": "1ba58447",
   "metadata": {},
   "source": [
    "#### `StandardCost`"
   ]
  },
  {
   "cell_type": "code",
   "execution_count": 17,
   "id": "a8691155",
   "metadata": {},
   "outputs": [
    {
     "data": {
      "application/vnd.jupyter.widget-view+json": {
       "model_id": "b201ed4a094e49d593de98ad8b93d2b1",
       "version_major": 2,
       "version_minor": 0
      },
      "text/plain": [
       "Calculating Metrics:   0%|          | 0/8 [00:00<?, ?it/s]"
      ]
     },
     "metadata": {},
     "output_type": "display_data"
    },
    {
     "data": {
      "text/plain": [
       "{\n",
       "  \"meta\": {},\n",
       "  \"exception_info\": {\n",
       "    \"raised_exception\": false,\n",
       "    \"exception_traceback\": null,\n",
       "    \"exception_message\": null\n",
       "  },\n",
       "  \"result\": {\n",
       "    \"element_count\": 504,\n",
       "    \"unexpected_count\": 0,\n",
       "    \"unexpected_percent\": 0.0,\n",
       "    \"partial_unexpected_list\": []\n",
       "  },\n",
       "  \"success\": true\n",
       "}"
      ]
     },
     "execution_count": 17,
     "metadata": {},
     "output_type": "execute_result"
    }
   ],
   "source": [
    "\n",
    "validator.expect_column_values_to_not_be_null(column='StandardCost', meta={'profiler_details': {'metric_configuration': {'domain_kwargs': {'column': 'StandardCost'}, 'metric_name': 'column_values.nonnull.unexpected_count', 'metric_value_kwargs': None}, 'num_batches': 1}})"
   ]
  },
  {
   "cell_type": "markdown",
   "id": "80dcbc9f",
   "metadata": {},
   "source": [
    "#### `ListPrice`"
   ]
  },
  {
   "cell_type": "code",
   "execution_count": 18,
   "id": "fa08979e",
   "metadata": {},
   "outputs": [
    {
     "data": {
      "application/vnd.jupyter.widget-view+json": {
       "model_id": "9145c11beefe41f3b24ef232c54f4da2",
       "version_major": 2,
       "version_minor": 0
      },
      "text/plain": [
       "Calculating Metrics:   0%|          | 0/8 [00:00<?, ?it/s]"
      ]
     },
     "metadata": {},
     "output_type": "display_data"
    },
    {
     "data": {
      "text/plain": [
       "{\n",
       "  \"meta\": {},\n",
       "  \"exception_info\": {\n",
       "    \"raised_exception\": false,\n",
       "    \"exception_traceback\": null,\n",
       "    \"exception_message\": null\n",
       "  },\n",
       "  \"result\": {\n",
       "    \"element_count\": 504,\n",
       "    \"unexpected_count\": 0,\n",
       "    \"unexpected_percent\": 0.0,\n",
       "    \"partial_unexpected_list\": []\n",
       "  },\n",
       "  \"success\": true\n",
       "}"
      ]
     },
     "execution_count": 18,
     "metadata": {},
     "output_type": "execute_result"
    }
   ],
   "source": [
    "\n",
    "validator.expect_column_values_to_not_be_null(column='ListPrice', meta={'profiler_details': {'metric_configuration': {'domain_kwargs': {'column': 'ListPrice'}, 'metric_name': 'column_values.nonnull.unexpected_count', 'metric_value_kwargs': None}, 'num_batches': 1}})"
   ]
  },
  {
   "cell_type": "markdown",
   "id": "f25db764",
   "metadata": {},
   "source": [
    "#### `SellStartDate`"
   ]
  },
  {
   "cell_type": "code",
   "execution_count": 19,
   "id": "afaad688",
   "metadata": {},
   "outputs": [
    {
     "data": {
      "application/vnd.jupyter.widget-view+json": {
       "model_id": "18c8241468ff49d19d18487b3c18f012",
       "version_major": 2,
       "version_minor": 0
      },
      "text/plain": [
       "Calculating Metrics:   0%|          | 0/8 [00:00<?, ?it/s]"
      ]
     },
     "metadata": {},
     "output_type": "display_data"
    },
    {
     "data": {
      "text/plain": [
       "{\n",
       "  \"meta\": {},\n",
       "  \"exception_info\": {\n",
       "    \"raised_exception\": false,\n",
       "    \"exception_traceback\": null,\n",
       "    \"exception_message\": null\n",
       "  },\n",
       "  \"result\": {\n",
       "    \"element_count\": 504,\n",
       "    \"unexpected_count\": 0,\n",
       "    \"unexpected_percent\": 0.0,\n",
       "    \"partial_unexpected_list\": []\n",
       "  },\n",
       "  \"success\": true\n",
       "}"
      ]
     },
     "execution_count": 19,
     "metadata": {},
     "output_type": "execute_result"
    }
   ],
   "source": [
    "\n",
    "validator.expect_column_values_to_not_be_null(column='SellStartDate', meta={'profiler_details': {'metric_configuration': {'domain_kwargs': {'column': 'SellStartDate'}, 'metric_name': 'column_values.nonnull.unexpected_count', 'metric_value_kwargs': None}, 'num_batches': 1}})"
   ]
  },
  {
   "cell_type": "code",
   "execution_count": 20,
   "id": "5764c03f",
   "metadata": {},
   "outputs": [
    {
     "data": {
      "application/vnd.jupyter.widget-view+json": {
       "model_id": "f4f727a0452a473fbfc30978b0dab37f",
       "version_major": 2,
       "version_minor": 0
      },
      "text/plain": [
       "Calculating Metrics:   0%|          | 0/6 [00:00<?, ?it/s]"
      ]
     },
     "metadata": {},
     "output_type": "display_data"
    },
    {
     "data": {
      "text/plain": [
       "{\n",
       "  \"meta\": {},\n",
       "  \"exception_info\": {\n",
       "    \"raised_exception\": false,\n",
       "    \"exception_traceback\": null,\n",
       "    \"exception_message\": null\n",
       "  },\n",
       "  \"result\": {\n",
       "    \"observed_value\": \"2008-04-30T00:00:00\"\n",
       "  },\n",
       "  \"success\": true\n",
       "}"
      ]
     },
     "execution_count": 20,
     "metadata": {},
     "output_type": "execute_result"
    }
   ],
   "source": [
    "\n",
    "validator.expect_column_min_to_be_between(column='SellStartDate', max_value='2008-04-30T00:00:00', min_value='2008-04-30T00:00:00', strict_max=False, strict_min=False, meta={'profiler_details': {'metric_configuration': {'domain_kwargs': {'column': 'SellStartDate'}, 'metric_name': 'column.min', 'metric_value_kwargs': None}, 'num_batches': 1}})"
   ]
  },
  {
   "cell_type": "code",
   "execution_count": 21,
   "id": "642bcbb0",
   "metadata": {},
   "outputs": [
    {
     "data": {
      "application/vnd.jupyter.widget-view+json": {
       "model_id": "8d872cc389144a3c8f40bf4725633467",
       "version_major": 2,
       "version_minor": 0
      },
      "text/plain": [
       "Calculating Metrics:   0%|          | 0/6 [00:00<?, ?it/s]"
      ]
     },
     "metadata": {},
     "output_type": "display_data"
    },
    {
     "data": {
      "text/plain": [
       "{\n",
       "  \"meta\": {},\n",
       "  \"exception_info\": {\n",
       "    \"raised_exception\": false,\n",
       "    \"exception_traceback\": null,\n",
       "    \"exception_message\": null\n",
       "  },\n",
       "  \"result\": {\n",
       "    \"observed_value\": \"2013-05-30T00:00:00\"\n",
       "  },\n",
       "  \"success\": true\n",
       "}"
      ]
     },
     "execution_count": 21,
     "metadata": {},
     "output_type": "execute_result"
    }
   ],
   "source": [
    "\n",
    "validator.expect_column_max_to_be_between(column='SellStartDate', max_value='2013-05-30T00:00:00', min_value='2013-05-30T00:00:00', strict_max=False, strict_min=False, meta={'profiler_details': {'metric_configuration': {'domain_kwargs': {'column': 'SellStartDate'}, 'metric_name': 'column.max', 'metric_value_kwargs': None}, 'num_batches': 1}})"
   ]
  },
  {
   "cell_type": "code",
   "execution_count": 22,
   "id": "1eeb2aaa",
   "metadata": {},
   "outputs": [
    {
     "data": {
      "application/vnd.jupyter.widget-view+json": {
       "model_id": "5ab4a2151d2f481e8ce9d4586ff78148",
       "version_major": 2,
       "version_minor": 0
      },
      "text/plain": [
       "Calculating Metrics:   0%|          | 0/11 [00:00<?, ?it/s]"
      ]
     },
     "metadata": {},
     "output_type": "display_data"
    },
    {
     "data": {
      "text/plain": [
       "{\n",
       "  \"meta\": {},\n",
       "  \"exception_info\": {\n",
       "    \"raised_exception\": false,\n",
       "    \"exception_traceback\": null,\n",
       "    \"exception_message\": null\n",
       "  },\n",
       "  \"result\": {\n",
       "    \"element_count\": 504,\n",
       "    \"unexpected_count\": 0,\n",
       "    \"unexpected_percent\": 0.0,\n",
       "    \"partial_unexpected_list\": [],\n",
       "    \"missing_count\": 0,\n",
       "    \"missing_percent\": 0.0,\n",
       "    \"unexpected_percent_total\": 0.0,\n",
       "    \"unexpected_percent_nonmissing\": 0.0\n",
       "  },\n",
       "  \"success\": true\n",
       "}"
      ]
     },
     "execution_count": 22,
     "metadata": {},
     "output_type": "execute_result"
    }
   ],
   "source": [
    "\n",
    "validator.expect_column_values_to_be_between(column='SellStartDate', max_value='2013-05-30T00:00:00', min_value='2008-04-30T00:00:00', mostly=1.0, strict_max=False, strict_min=False, meta={'profiler_details': {'column_max_values_range_estimator': {'metric_configuration': {'domain_kwargs': {'column': 'SellStartDate'}, 'metric_name': 'column.max', 'metric_value_kwargs': None}, 'num_batches': 1}, 'column_min_values_range_estimator': {'metric_configuration': {'domain_kwargs': {'column': 'SellStartDate'}, 'metric_name': 'column.min', 'metric_value_kwargs': None}, 'num_batches': 1}}})"
   ]
  },
  {
   "cell_type": "code",
   "execution_count": 23,
   "id": "80b301c0",
   "metadata": {},
   "outputs": [
    {
     "data": {
      "application/vnd.jupyter.widget-view+json": {
       "model_id": "94f3bde246af4fbd86bfd7eb998bc51e",
       "version_major": 2,
       "version_minor": 0
      },
      "text/plain": [
       "Calculating Metrics:   0%|          | 0/6 [00:00<?, ?it/s]"
      ]
     },
     "metadata": {},
     "output_type": "display_data"
    },
    {
     "data": {
      "text/plain": [
       "{\n",
       "  \"meta\": {},\n",
       "  \"exception_info\": {\n",
       "    \"raised_exception\": false,\n",
       "    \"exception_traceback\": null,\n",
       "    \"exception_message\": null\n",
       "  },\n",
       "  \"result\": {\n",
       "    \"observed_value\": 4\n",
       "  },\n",
       "  \"success\": true\n",
       "}"
      ]
     },
     "execution_count": 23,
     "metadata": {},
     "output_type": "execute_result"
    }
   ],
   "source": [
    "\n",
    "validator.expect_column_unique_value_count_to_be_between(column='SellStartDate', max_value=4, min_value=4, strict_max=False, strict_min=False, meta={'profiler_details': {'metric_configuration': {'domain_kwargs': {'column': 'SellStartDate'}, 'metric_name': 'column.distinct_values.count', 'metric_value_kwargs': None}, 'num_batches': 1}})"
   ]
  },
  {
   "cell_type": "code",
   "execution_count": 24,
   "id": "eb17fd36",
   "metadata": {},
   "outputs": [
    {
     "data": {
      "application/vnd.jupyter.widget-view+json": {
       "model_id": "e84a6529c6fe4eca9261207bb300b95d",
       "version_major": 2,
       "version_minor": 0
      },
      "text/plain": [
       "Calculating Metrics:   0%|          | 0/10 [00:00<?, ?it/s]"
      ]
     },
     "metadata": {},
     "output_type": "display_data"
    },
    {
     "data": {
      "text/plain": [
       "{\n",
       "  \"meta\": {},\n",
       "  \"exception_info\": {\n",
       "    \"raised_exception\": false,\n",
       "    \"exception_traceback\": null,\n",
       "    \"exception_message\": null\n",
       "  },\n",
       "  \"result\": {\n",
       "    \"observed_value\": 0.007936507936507936\n",
       "  },\n",
       "  \"success\": true\n",
       "}"
      ]
     },
     "execution_count": 24,
     "metadata": {},
     "output_type": "execute_result"
    }
   ],
   "source": [
    "\n",
    "validator.expect_column_proportion_of_unique_values_to_be_between(column='SellStartDate', max_value=0.007936507936507936, min_value=0.007936507936507936, strict_max=False, strict_min=False, meta={'profiler_details': {'metric_configuration': {'domain_kwargs': {'column': 'SellStartDate'}, 'metric_name': 'column.unique_proportion', 'metric_value_kwargs': None}, 'num_batches': 1}})"
   ]
  },
  {
   "cell_type": "markdown",
   "id": "bd96f81f",
   "metadata": {},
   "source": [
    "#### `ProductSubcategoryID`"
   ]
  },
  {
   "cell_type": "code",
   "execution_count": 25,
   "id": "c8255e4b",
   "metadata": {},
   "outputs": [
    {
     "data": {
      "application/vnd.jupyter.widget-view+json": {
       "model_id": "d883d8b06ef14ae784f9d8d69ebdbdfb",
       "version_major": 2,
       "version_minor": 0
      },
      "text/plain": [
       "Calculating Metrics:   0%|          | 0/6 [00:00<?, ?it/s]"
      ]
     },
     "metadata": {},
     "output_type": "display_data"
    },
    {
     "data": {
      "text/plain": [
       "{\n",
       "  \"meta\": {},\n",
       "  \"exception_info\": {\n",
       "    \"raised_exception\": false,\n",
       "    \"exception_traceback\": null,\n",
       "    \"exception_message\": null\n",
       "  },\n",
       "  \"result\": {\n",
       "    \"observed_value\": 1\n",
       "  },\n",
       "  \"success\": true\n",
       "}"
      ]
     },
     "execution_count": 25,
     "metadata": {},
     "output_type": "execute_result"
    }
   ],
   "source": [
    "\n",
    "validator.expect_column_min_to_be_between(column='ProductSubcategoryID', max_value=1, min_value=1, strict_max=False, strict_min=False, meta={'profiler_details': {'metric_configuration': {'domain_kwargs': {'column': 'ProductSubcategoryID'}, 'metric_name': 'column.min', 'metric_value_kwargs': None}, 'num_batches': 1}})"
   ]
  },
  {
   "cell_type": "code",
   "execution_count": 26,
   "id": "a2640bf7",
   "metadata": {},
   "outputs": [
    {
     "data": {
      "application/vnd.jupyter.widget-view+json": {
       "model_id": "ccfdb4d1916d4979861989665eb458d0",
       "version_major": 2,
       "version_minor": 0
      },
      "text/plain": [
       "Calculating Metrics:   0%|          | 0/6 [00:00<?, ?it/s]"
      ]
     },
     "metadata": {},
     "output_type": "display_data"
    },
    {
     "data": {
      "text/plain": [
       "{\n",
       "  \"meta\": {},\n",
       "  \"exception_info\": {\n",
       "    \"raised_exception\": false,\n",
       "    \"exception_traceback\": null,\n",
       "    \"exception_message\": null\n",
       "  },\n",
       "  \"result\": {\n",
       "    \"observed_value\": 37\n",
       "  },\n",
       "  \"success\": true\n",
       "}"
      ]
     },
     "execution_count": 26,
     "metadata": {},
     "output_type": "execute_result"
    }
   ],
   "source": [
    "\n",
    "validator.expect_column_max_to_be_between(column='ProductSubcategoryID', max_value=37, min_value=37, strict_max=False, strict_min=False, meta={'profiler_details': {'metric_configuration': {'domain_kwargs': {'column': 'ProductSubcategoryID'}, 'metric_name': 'column.max', 'metric_value_kwargs': None}, 'num_batches': 1}})"
   ]
  },
  {
   "cell_type": "code",
   "execution_count": 27,
   "id": "fd40ff01",
   "metadata": {},
   "outputs": [
    {
     "data": {
      "application/vnd.jupyter.widget-view+json": {
       "model_id": "c4c8a21e38bd4b4ab3000043904ede11",
       "version_major": 2,
       "version_minor": 0
      },
      "text/plain": [
       "Calculating Metrics:   0%|          | 0/11 [00:00<?, ?it/s]"
      ]
     },
     "metadata": {},
     "output_type": "display_data"
    },
    {
     "data": {
      "text/plain": [
       "{\n",
       "  \"meta\": {},\n",
       "  \"exception_info\": {\n",
       "    \"raised_exception\": false,\n",
       "    \"exception_traceback\": null,\n",
       "    \"exception_message\": null\n",
       "  },\n",
       "  \"result\": {\n",
       "    \"element_count\": 504,\n",
       "    \"unexpected_count\": 0,\n",
       "    \"unexpected_percent\": 0.0,\n",
       "    \"partial_unexpected_list\": [],\n",
       "    \"missing_count\": 209,\n",
       "    \"missing_percent\": 41.46825396825397,\n",
       "    \"unexpected_percent_total\": 0.0,\n",
       "    \"unexpected_percent_nonmissing\": 0.0\n",
       "  },\n",
       "  \"success\": true\n",
       "}"
      ]
     },
     "execution_count": 27,
     "metadata": {},
     "output_type": "execute_result"
    }
   ],
   "source": [
    "\n",
    "validator.expect_column_values_to_be_between(column='ProductSubcategoryID', max_value=37, min_value=1, mostly=1.0, strict_max=False, strict_min=False, meta={'profiler_details': {'column_max_values_range_estimator': {'metric_configuration': {'domain_kwargs': {'column': 'ProductSubcategoryID'}, 'metric_name': 'column.max', 'metric_value_kwargs': None}, 'num_batches': 1}, 'column_min_values_range_estimator': {'metric_configuration': {'domain_kwargs': {'column': 'ProductSubcategoryID'}, 'metric_name': 'column.min', 'metric_value_kwargs': None}, 'num_batches': 1}}})"
   ]
  },
  {
   "cell_type": "code",
   "execution_count": 28,
   "id": "6ee6d934",
   "metadata": {},
   "outputs": [
    {
     "data": {
      "application/vnd.jupyter.widget-view+json": {
       "model_id": "a05d67bb402041df8a0c1c567a1b21bc",
       "version_major": 2,
       "version_minor": 0
      },
      "text/plain": [
       "Calculating Metrics:   0%|          | 0/5 [00:00<?, ?it/s]"
      ]
     },
     "metadata": {},
     "output_type": "display_data"
    },
    {
     "data": {
      "text/plain": [
       "{\n",
       "  \"meta\": {},\n",
       "  \"exception_info\": {\n",
       "    \"raised_exception\": false,\n",
       "    \"exception_traceback\": null,\n",
       "    \"exception_message\": null\n",
       "  },\n",
       "  \"result\": {\n",
       "    \"observed_value\": {\n",
       "      \"quantiles\": [\n",
       "        0.25,\n",
       "        0.5,\n",
       "        0.75\n",
       "      ],\n",
       "      \"values\": [\n",
       "        2,\n",
       "        12,\n",
       "        17\n",
       "      ]\n",
       "    },\n",
       "    \"details\": {\n",
       "      \"success_details\": [\n",
       "        true,\n",
       "        true,\n",
       "        true\n",
       "      ]\n",
       "    }\n",
       "  },\n",
       "  \"success\": true\n",
       "}"
      ]
     },
     "execution_count": 28,
     "metadata": {},
     "output_type": "execute_result"
    }
   ],
   "source": [
    "\n",
    "validator.expect_column_quantile_values_to_be_between(column='ProductSubcategoryID', allow_relative_error=False, quantile_ranges={'quantiles': [0.25, 0.5, 0.75], 'value_ranges': [[2, 2], [12, 12], [17, 17]]}, meta={'profiler_details': {'metric_configuration': {'domain_kwargs': {'column': 'ProductSubcategoryID'}, 'metric_name': 'column.quantile_values', 'metric_value_kwargs': {'allow_relative_error': False, 'quantiles': [0.25, 0.5, 0.75]}}, 'num_batches': 1}})"
   ]
  },
  {
   "cell_type": "code",
   "execution_count": 29,
   "id": "2202c805",
   "metadata": {},
   "outputs": [
    {
     "data": {
      "application/vnd.jupyter.widget-view+json": {
       "model_id": "8398f9c6c79d41aca7c0993d90d9835a",
       "version_major": 2,
       "version_minor": 0
      },
      "text/plain": [
       "Calculating Metrics:   0%|          | 0/9 [00:00<?, ?it/s]"
      ]
     },
     "metadata": {},
     "output_type": "display_data"
    },
    {
     "data": {
      "text/plain": [
       "{\n",
       "  \"meta\": {},\n",
       "  \"exception_info\": {\n",
       "    \"raised_exception\": false,\n",
       "    \"exception_traceback\": null,\n",
       "    \"exception_message\": null\n",
       "  },\n",
       "  \"result\": {\n",
       "    \"observed_value\": 12\n",
       "  },\n",
       "  \"success\": true\n",
       "}"
      ]
     },
     "execution_count": 29,
     "metadata": {},
     "output_type": "execute_result"
    }
   ],
   "source": [
    "\n",
    "validator.expect_column_median_to_be_between(column='ProductSubcategoryID', max_value=12, min_value=12, strict_max=False, strict_min=False, meta={'profiler_details': {'metric_configuration': {'domain_kwargs': {'column': 'ProductSubcategoryID'}, 'metric_name': 'column.median', 'metric_value_kwargs': None}, 'num_batches': 1}})"
   ]
  },
  {
   "cell_type": "code",
   "execution_count": 30,
   "id": "21088e5c",
   "metadata": {},
   "outputs": [
    {
     "data": {
      "application/vnd.jupyter.widget-view+json": {
       "model_id": "fc770919771845bc8a0206a605d23983",
       "version_major": 2,
       "version_minor": 0
      },
      "text/plain": [
       "Calculating Metrics:   0%|          | 0/6 [00:00<?, ?it/s]"
      ]
     },
     "metadata": {},
     "output_type": "display_data"
    },
    {
     "data": {
      "text/plain": [
       "{\n",
       "  \"meta\": {},\n",
       "  \"exception_info\": {\n",
       "    \"raised_exception\": false,\n",
       "    \"exception_traceback\": null,\n",
       "    \"exception_message\": null\n",
       "  },\n",
       "  \"result\": {\n",
       "    \"observed_value\": 12.294915254237289\n",
       "  },\n",
       "  \"success\": true\n",
       "}"
      ]
     },
     "execution_count": 30,
     "metadata": {},
     "output_type": "execute_result"
    }
   ],
   "source": [
    "\n",
    "validator.expect_column_mean_to_be_between(column='ProductSubcategoryID', max_value=12.294915254237289, min_value=12.294915254237289, strict_max=False, strict_min=False, meta={'profiler_details': {'metric_configuration': {'domain_kwargs': {'column': 'ProductSubcategoryID'}, 'metric_name': 'column.mean', 'metric_value_kwargs': None}, 'num_batches': 1}})"
   ]
  },
  {
   "cell_type": "code",
   "execution_count": 31,
   "id": "1d2bf7bb",
   "metadata": {},
   "outputs": [
    {
     "data": {
      "application/vnd.jupyter.widget-view+json": {
       "model_id": "5a4eecacf69845459c4f5c9a336cc5ff",
       "version_major": 2,
       "version_minor": 0
      },
      "text/plain": [
       "Calculating Metrics:   0%|          | 0/11 [00:00<?, ?it/s]"
      ]
     },
     "metadata": {},
     "output_type": "display_data"
    },
    {
     "data": {
      "text/plain": [
       "{\n",
       "  \"meta\": {},\n",
       "  \"exception_info\": {\n",
       "    \"raised_exception\": false,\n",
       "    \"exception_traceback\": null,\n",
       "    \"exception_message\": null\n",
       "  },\n",
       "  \"result\": {\n",
       "    \"observed_value\": 9.860134530977973\n",
       "  },\n",
       "  \"success\": true\n",
       "}"
      ]
     },
     "execution_count": 31,
     "metadata": {},
     "output_type": "execute_result"
    }
   ],
   "source": [
    "\n",
    "validator.expect_column_stdev_to_be_between(column='ProductSubcategoryID', max_value=9.860134530977973, min_value=9.860134530977973, strict_max=False, strict_min=False, meta={'profiler_details': {'metric_configuration': {'domain_kwargs': {'column': 'ProductSubcategoryID'}, 'metric_name': 'column.standard_deviation', 'metric_value_kwargs': None}, 'num_batches': 1}})"
   ]
  },
  {
   "cell_type": "code",
   "execution_count": 32,
   "id": "cf14341a",
   "metadata": {},
   "outputs": [
    {
     "data": {
      "application/vnd.jupyter.widget-view+json": {
       "model_id": "f65c891b046948d6b0ed7e409d78b13f",
       "version_major": 2,
       "version_minor": 0
      },
      "text/plain": [
       "Calculating Metrics:   0%|          | 0/11 [00:00<?, ?it/s]"
      ]
     },
     "metadata": {},
     "output_type": "display_data"
    },
    {
     "data": {
      "text/plain": [
       "{\n",
       "  \"meta\": {},\n",
       "  \"exception_info\": {\n",
       "    \"raised_exception\": false,\n",
       "    \"exception_traceback\": null,\n",
       "    \"exception_message\": null\n",
       "  },\n",
       "  \"result\": {\n",
       "    \"element_count\": 504,\n",
       "    \"unexpected_count\": 0,\n",
       "    \"unexpected_percent\": 0.0,\n",
       "    \"partial_unexpected_list\": [],\n",
       "    \"missing_count\": 209,\n",
       "    \"missing_percent\": 41.46825396825397,\n",
       "    \"unexpected_percent_total\": 0.0,\n",
       "    \"unexpected_percent_nonmissing\": 0.0\n",
       "  },\n",
       "  \"success\": true\n",
       "}"
      ]
     },
     "execution_count": 32,
     "metadata": {},
     "output_type": "execute_result"
    }
   ],
   "source": [
    "\n",
    "validator.expect_column_values_to_be_in_set(column='ProductSubcategoryID', mostly=1.0, value_set=[1, 2, 3, 4, 5, 6, 7, 8, 9, 10, 11, 12, 13, 14, 15, 16, 17, 18, 19, 20, 21, 22, 23, 24, 25, 26, 27, 28, 29, 30, 31, 32, 33, 34, 35, 36, 37], meta={'profiler_details': {'metric_configuration': {'domain_kwargs': {'column': 'ProductSubcategoryID'}, 'metric_name': 'column.distinct_values', 'metric_value_kwargs': None}, 'num_batches': 1, 'parse_strings_as_datetimes': False}})"
   ]
  },
  {
   "cell_type": "code",
   "execution_count": 33,
   "id": "60d6d204",
   "metadata": {},
   "outputs": [
    {
     "data": {
      "application/vnd.jupyter.widget-view+json": {
       "model_id": "784d9b27c09f4101a32de1fb9f0e357b",
       "version_major": 2,
       "version_minor": 0
      },
      "text/plain": [
       "Calculating Metrics:   0%|          | 0/6 [00:00<?, ?it/s]"
      ]
     },
     "metadata": {},
     "output_type": "display_data"
    },
    {
     "data": {
      "text/plain": [
       "{\n",
       "  \"meta\": {},\n",
       "  \"exception_info\": {\n",
       "    \"raised_exception\": false,\n",
       "    \"exception_traceback\": null,\n",
       "    \"exception_message\": null\n",
       "  },\n",
       "  \"result\": {\n",
       "    \"observed_value\": 37\n",
       "  },\n",
       "  \"success\": true\n",
       "}"
      ]
     },
     "execution_count": 33,
     "metadata": {},
     "output_type": "execute_result"
    }
   ],
   "source": [
    "\n",
    "validator.expect_column_unique_value_count_to_be_between(column='ProductSubcategoryID', max_value=37, min_value=37, strict_max=False, strict_min=False, meta={'profiler_details': {'metric_configuration': {'domain_kwargs': {'column': 'ProductSubcategoryID'}, 'metric_name': 'column.distinct_values.count', 'metric_value_kwargs': None}, 'num_batches': 1}})"
   ]
  },
  {
   "cell_type": "code",
   "execution_count": 34,
   "id": "a56e86d1",
   "metadata": {},
   "outputs": [
    {
     "data": {
      "application/vnd.jupyter.widget-view+json": {
       "model_id": "4caa50472f524dd0ad5a7cc6916c4722",
       "version_major": 2,
       "version_minor": 0
      },
      "text/plain": [
       "Calculating Metrics:   0%|          | 0/10 [00:00<?, ?it/s]"
      ]
     },
     "metadata": {},
     "output_type": "display_data"
    },
    {
     "data": {
      "text/plain": [
       "{\n",
       "  \"meta\": {},\n",
       "  \"exception_info\": {\n",
       "    \"raised_exception\": false,\n",
       "    \"exception_traceback\": null,\n",
       "    \"exception_message\": null\n",
       "  },\n",
       "  \"result\": {\n",
       "    \"observed_value\": 0.12542372881355932\n",
       "  },\n",
       "  \"success\": true\n",
       "}"
      ]
     },
     "execution_count": 34,
     "metadata": {},
     "output_type": "execute_result"
    }
   ],
   "source": [
    "\n",
    "validator.expect_column_proportion_of_unique_values_to_be_between(column='ProductSubcategoryID', max_value=0.12542372881355932, min_value=0.12542372881355932, strict_max=False, strict_min=False, meta={'profiler_details': {'metric_configuration': {'domain_kwargs': {'column': 'ProductSubcategoryID'}, 'metric_name': 'column.unique_proportion', 'metric_value_kwargs': None}, 'num_batches': 1}})"
   ]
  },
  {
   "cell_type": "markdown",
   "id": "2e64b5bd",
   "metadata": {},
   "source": [
    "#### `ProductModelID`"
   ]
  },
  {
   "cell_type": "code",
   "execution_count": 35,
   "id": "a525bd2f",
   "metadata": {},
   "outputs": [
    {
     "data": {
      "application/vnd.jupyter.widget-view+json": {
       "model_id": "c040c0fb665640e5aea3e035dc39c6ea",
       "version_major": 2,
       "version_minor": 0
      },
      "text/plain": [
       "Calculating Metrics:   0%|          | 0/6 [00:00<?, ?it/s]"
      ]
     },
     "metadata": {},
     "output_type": "display_data"
    },
    {
     "data": {
      "text/plain": [
       "{\n",
       "  \"meta\": {},\n",
       "  \"exception_info\": {\n",
       "    \"raised_exception\": false,\n",
       "    \"exception_traceback\": null,\n",
       "    \"exception_message\": null\n",
       "  },\n",
       "  \"result\": {\n",
       "    \"observed_value\": 1\n",
       "  },\n",
       "  \"success\": true\n",
       "}"
      ]
     },
     "execution_count": 35,
     "metadata": {},
     "output_type": "execute_result"
    }
   ],
   "source": [
    "\n",
    "validator.expect_column_min_to_be_between(column='ProductModelID', max_value=1, min_value=1, strict_max=False, strict_min=False, meta={'profiler_details': {'metric_configuration': {'domain_kwargs': {'column': 'ProductModelID'}, 'metric_name': 'column.min', 'metric_value_kwargs': None}, 'num_batches': 1}})"
   ]
  },
  {
   "cell_type": "code",
   "execution_count": 36,
   "id": "50ef0b00",
   "metadata": {},
   "outputs": [
    {
     "data": {
      "application/vnd.jupyter.widget-view+json": {
       "model_id": "df2c16459d6543718c0de7e821fb9a4b",
       "version_major": 2,
       "version_minor": 0
      },
      "text/plain": [
       "Calculating Metrics:   0%|          | 0/6 [00:00<?, ?it/s]"
      ]
     },
     "metadata": {},
     "output_type": "display_data"
    },
    {
     "data": {
      "text/plain": [
       "{\n",
       "  \"meta\": {},\n",
       "  \"exception_info\": {\n",
       "    \"raised_exception\": false,\n",
       "    \"exception_traceback\": null,\n",
       "    \"exception_message\": null\n",
       "  },\n",
       "  \"result\": {\n",
       "    \"observed_value\": 128\n",
       "  },\n",
       "  \"success\": true\n",
       "}"
      ]
     },
     "execution_count": 36,
     "metadata": {},
     "output_type": "execute_result"
    }
   ],
   "source": [
    "\n",
    "validator.expect_column_max_to_be_between(column='ProductModelID', max_value=128, min_value=128, strict_max=False, strict_min=False, meta={'profiler_details': {'metric_configuration': {'domain_kwargs': {'column': 'ProductModelID'}, 'metric_name': 'column.max', 'metric_value_kwargs': None}, 'num_batches': 1}})"
   ]
  },
  {
   "cell_type": "code",
   "execution_count": 37,
   "id": "a040127d",
   "metadata": {},
   "outputs": [
    {
     "data": {
      "application/vnd.jupyter.widget-view+json": {
       "model_id": "83f73447d4d04d8c81a53bc51cde2b88",
       "version_major": 2,
       "version_minor": 0
      },
      "text/plain": [
       "Calculating Metrics:   0%|          | 0/11 [00:00<?, ?it/s]"
      ]
     },
     "metadata": {},
     "output_type": "display_data"
    },
    {
     "data": {
      "text/plain": [
       "{\n",
       "  \"meta\": {},\n",
       "  \"exception_info\": {\n",
       "    \"raised_exception\": false,\n",
       "    \"exception_traceback\": null,\n",
       "    \"exception_message\": null\n",
       "  },\n",
       "  \"result\": {\n",
       "    \"element_count\": 504,\n",
       "    \"unexpected_count\": 0,\n",
       "    \"unexpected_percent\": 0.0,\n",
       "    \"partial_unexpected_list\": [],\n",
       "    \"missing_count\": 209,\n",
       "    \"missing_percent\": 41.46825396825397,\n",
       "    \"unexpected_percent_total\": 0.0,\n",
       "    \"unexpected_percent_nonmissing\": 0.0\n",
       "  },\n",
       "  \"success\": true\n",
       "}"
      ]
     },
     "execution_count": 37,
     "metadata": {},
     "output_type": "execute_result"
    }
   ],
   "source": [
    "\n",
    "validator.expect_column_values_to_be_between(column='ProductModelID', max_value=128, min_value=1, mostly=1.0, strict_max=False, strict_min=False, meta={'profiler_details': {'column_max_values_range_estimator': {'metric_configuration': {'domain_kwargs': {'column': 'ProductModelID'}, 'metric_name': 'column.max', 'metric_value_kwargs': None}, 'num_batches': 1}, 'column_min_values_range_estimator': {'metric_configuration': {'domain_kwargs': {'column': 'ProductModelID'}, 'metric_name': 'column.min', 'metric_value_kwargs': None}, 'num_batches': 1}}})"
   ]
  },
  {
   "cell_type": "code",
   "execution_count": 38,
   "id": "b61ec722",
   "metadata": {},
   "outputs": [
    {
     "data": {
      "application/vnd.jupyter.widget-view+json": {
       "model_id": "0eea4c571f994628ac999a605eb5552f",
       "version_major": 2,
       "version_minor": 0
      },
      "text/plain": [
       "Calculating Metrics:   0%|          | 0/5 [00:00<?, ?it/s]"
      ]
     },
     "metadata": {},
     "output_type": "display_data"
    },
    {
     "data": {
      "text/plain": [
       "{\n",
       "  \"meta\": {},\n",
       "  \"exception_info\": {\n",
       "    \"raised_exception\": false,\n",
       "    \"exception_traceback\": null,\n",
       "    \"exception_message\": null\n",
       "  },\n",
       "  \"result\": {\n",
       "    \"observed_value\": {\n",
       "      \"quantiles\": [\n",
       "        0.25,\n",
       "        0.5,\n",
       "        0.75\n",
       "      ],\n",
       "      \"values\": [\n",
       "        11,\n",
       "        26,\n",
       "        49\n",
       "      ]\n",
       "    },\n",
       "    \"details\": {\n",
       "      \"success_details\": [\n",
       "        true,\n",
       "        true,\n",
       "        true\n",
       "      ]\n",
       "    }\n",
       "  },\n",
       "  \"success\": true\n",
       "}"
      ]
     },
     "execution_count": 38,
     "metadata": {},
     "output_type": "execute_result"
    }
   ],
   "source": [
    "\n",
    "validator.expect_column_quantile_values_to_be_between(column='ProductModelID', allow_relative_error=False, quantile_ranges={'quantiles': [0.25, 0.5, 0.75], 'value_ranges': [[11, 11], [26, 26], [49, 49]]}, meta={'profiler_details': {'metric_configuration': {'domain_kwargs': {'column': 'ProductModelID'}, 'metric_name': 'column.quantile_values', 'metric_value_kwargs': {'allow_relative_error': False, 'quantiles': [0.25, 0.5, 0.75]}}, 'num_batches': 1}})"
   ]
  },
  {
   "cell_type": "code",
   "execution_count": 39,
   "id": "33bbc088",
   "metadata": {},
   "outputs": [
    {
     "data": {
      "application/vnd.jupyter.widget-view+json": {
       "model_id": "183b2c06463f461e91a802e763001d25",
       "version_major": 2,
       "version_minor": 0
      },
      "text/plain": [
       "Calculating Metrics:   0%|          | 0/9 [00:00<?, ?it/s]"
      ]
     },
     "metadata": {},
     "output_type": "display_data"
    },
    {
     "data": {
      "text/plain": [
       "{\n",
       "  \"meta\": {},\n",
       "  \"exception_info\": {\n",
       "    \"raised_exception\": false,\n",
       "    \"exception_traceback\": null,\n",
       "    \"exception_message\": null\n",
       "  },\n",
       "  \"result\": {\n",
       "    \"observed_value\": 26\n",
       "  },\n",
       "  \"success\": true\n",
       "}"
      ]
     },
     "execution_count": 39,
     "metadata": {},
     "output_type": "execute_result"
    }
   ],
   "source": [
    "\n",
    "validator.expect_column_median_to_be_between(column='ProductModelID', max_value=26, min_value=26, strict_max=False, strict_min=False, meta={'profiler_details': {'metric_configuration': {'domain_kwargs': {'column': 'ProductModelID'}, 'metric_name': 'column.median', 'metric_value_kwargs': None}, 'num_batches': 1}})"
   ]
  },
  {
   "cell_type": "code",
   "execution_count": 40,
   "id": "ce924a26",
   "metadata": {},
   "outputs": [
    {
     "data": {
      "application/vnd.jupyter.widget-view+json": {
       "model_id": "8e8d0d5733674038a74066fcefe1ca45",
       "version_major": 2,
       "version_minor": 0
      },
      "text/plain": [
       "Calculating Metrics:   0%|          | 0/6 [00:00<?, ?it/s]"
      ]
     },
     "metadata": {},
     "output_type": "display_data"
    },
    {
     "data": {
      "text/plain": [
       "{\n",
       "  \"meta\": {},\n",
       "  \"exception_info\": {\n",
       "    \"raised_exception\": false,\n",
       "    \"exception_traceback\": null,\n",
       "    \"exception_message\": null\n",
       "  },\n",
       "  \"result\": {\n",
       "    \"observed_value\": 37.44406779661017\n",
       "  },\n",
       "  \"success\": true\n",
       "}"
      ]
     },
     "execution_count": 40,
     "metadata": {},
     "output_type": "execute_result"
    }
   ],
   "source": [
    "\n",
    "validator.expect_column_mean_to_be_between(column='ProductModelID', max_value=37.44406779661017, min_value=37.44406779661017, strict_max=False, strict_min=False, meta={'profiler_details': {'metric_configuration': {'domain_kwargs': {'column': 'ProductModelID'}, 'metric_name': 'column.mean', 'metric_value_kwargs': None}, 'num_batches': 1}})"
   ]
  },
  {
   "cell_type": "code",
   "execution_count": 41,
   "id": "1f1f078c",
   "metadata": {},
   "outputs": [
    {
     "data": {
      "application/vnd.jupyter.widget-view+json": {
       "model_id": "d286f57022734e988f00abe41808c849",
       "version_major": 2,
       "version_minor": 0
      },
      "text/plain": [
       "Calculating Metrics:   0%|          | 0/11 [00:00<?, ?it/s]"
      ]
     },
     "metadata": {},
     "output_type": "display_data"
    },
    {
     "data": {
      "text/plain": [
       "{\n",
       "  \"meta\": {},\n",
       "  \"exception_info\": {\n",
       "    \"raised_exception\": false,\n",
       "    \"exception_traceback\": null,\n",
       "    \"exception_message\": null\n",
       "  },\n",
       "  \"result\": {\n",
       "    \"observed_value\": 34.025442017484266\n",
       "  },\n",
       "  \"success\": true\n",
       "}"
      ]
     },
     "execution_count": 41,
     "metadata": {},
     "output_type": "execute_result"
    }
   ],
   "source": [
    "\n",
    "validator.expect_column_stdev_to_be_between(column='ProductModelID', max_value=34.025442017484266, min_value=34.025442017484266, strict_max=False, strict_min=False, meta={'profiler_details': {'metric_configuration': {'domain_kwargs': {'column': 'ProductModelID'}, 'metric_name': 'column.standard_deviation', 'metric_value_kwargs': None}, 'num_batches': 1}})"
   ]
  },
  {
   "cell_type": "markdown",
   "id": "9f790139",
   "metadata": {},
   "source": [
    "#### `SellEndDate`"
   ]
  },
  {
   "cell_type": "code",
   "execution_count": 42,
   "id": "9ae5d840",
   "metadata": {},
   "outputs": [
    {
     "data": {
      "application/vnd.jupyter.widget-view+json": {
       "model_id": "6e91c863940d4486825a95cd666ed7bb",
       "version_major": 2,
       "version_minor": 0
      },
      "text/plain": [
       "Calculating Metrics:   0%|          | 0/6 [00:00<?, ?it/s]"
      ]
     },
     "metadata": {},
     "output_type": "display_data"
    },
    {
     "data": {
      "text/plain": [
       "{\n",
       "  \"meta\": {},\n",
       "  \"exception_info\": {\n",
       "    \"raised_exception\": false,\n",
       "    \"exception_traceback\": null,\n",
       "    \"exception_message\": null\n",
       "  },\n",
       "  \"result\": {\n",
       "    \"observed_value\": \"2012-05-29T00:00:00\"\n",
       "  },\n",
       "  \"success\": true\n",
       "}"
      ]
     },
     "execution_count": 42,
     "metadata": {},
     "output_type": "execute_result"
    }
   ],
   "source": [
    "\n",
    "validator.expect_column_min_to_be_between(column='SellEndDate', max_value='2012-05-29T00:00:00', min_value='2012-05-29T00:00:00', strict_max=False, strict_min=False, meta={'profiler_details': {'metric_configuration': {'domain_kwargs': {'column': 'SellEndDate'}, 'metric_name': 'column.min', 'metric_value_kwargs': None}, 'num_batches': 1}})"
   ]
  },
  {
   "cell_type": "code",
   "execution_count": 43,
   "id": "2faf5685",
   "metadata": {},
   "outputs": [
    {
     "data": {
      "application/vnd.jupyter.widget-view+json": {
       "model_id": "dd6368facf7240169dde41ec500f2f86",
       "version_major": 2,
       "version_minor": 0
      },
      "text/plain": [
       "Calculating Metrics:   0%|          | 0/6 [00:00<?, ?it/s]"
      ]
     },
     "metadata": {},
     "output_type": "display_data"
    },
    {
     "data": {
      "text/plain": [
       "{\n",
       "  \"meta\": {},\n",
       "  \"exception_info\": {\n",
       "    \"raised_exception\": false,\n",
       "    \"exception_traceback\": null,\n",
       "    \"exception_message\": null\n",
       "  },\n",
       "  \"result\": {\n",
       "    \"observed_value\": \"2013-05-29T00:00:00\"\n",
       "  },\n",
       "  \"success\": true\n",
       "}"
      ]
     },
     "execution_count": 43,
     "metadata": {},
     "output_type": "execute_result"
    }
   ],
   "source": [
    "\n",
    "validator.expect_column_max_to_be_between(column='SellEndDate', max_value='2013-05-29T00:00:00', min_value='2013-05-29T00:00:00', strict_max=False, strict_min=False, meta={'profiler_details': {'metric_configuration': {'domain_kwargs': {'column': 'SellEndDate'}, 'metric_name': 'column.max', 'metric_value_kwargs': None}, 'num_batches': 1}})"
   ]
  },
  {
   "cell_type": "code",
   "execution_count": 44,
   "id": "11ef6a64",
   "metadata": {},
   "outputs": [
    {
     "data": {
      "application/vnd.jupyter.widget-view+json": {
       "model_id": "426e1b3bbfd64b50bdc6372c2a4fb98d",
       "version_major": 2,
       "version_minor": 0
      },
      "text/plain": [
       "Calculating Metrics:   0%|          | 0/11 [00:00<?, ?it/s]"
      ]
     },
     "metadata": {},
     "output_type": "display_data"
    },
    {
     "data": {
      "text/plain": [
       "{\n",
       "  \"meta\": {},\n",
       "  \"exception_info\": {\n",
       "    \"raised_exception\": false,\n",
       "    \"exception_traceback\": null,\n",
       "    \"exception_message\": null\n",
       "  },\n",
       "  \"result\": {\n",
       "    \"element_count\": 504,\n",
       "    \"unexpected_count\": 0,\n",
       "    \"unexpected_percent\": 0.0,\n",
       "    \"partial_unexpected_list\": [],\n",
       "    \"missing_count\": 406,\n",
       "    \"missing_percent\": 80.55555555555556,\n",
       "    \"unexpected_percent_total\": 0.0,\n",
       "    \"unexpected_percent_nonmissing\": 0.0\n",
       "  },\n",
       "  \"success\": true\n",
       "}"
      ]
     },
     "execution_count": 44,
     "metadata": {},
     "output_type": "execute_result"
    }
   ],
   "source": [
    "\n",
    "validator.expect_column_values_to_be_between(column='SellEndDate', max_value='2013-05-29T00:00:00', min_value='2012-05-29T00:00:00', mostly=1.0, strict_max=False, strict_min=False, meta={'profiler_details': {'column_max_values_range_estimator': {'metric_configuration': {'domain_kwargs': {'column': 'SellEndDate'}, 'metric_name': 'column.max', 'metric_value_kwargs': None}, 'num_batches': 1}, 'column_min_values_range_estimator': {'metric_configuration': {'domain_kwargs': {'column': 'SellEndDate'}, 'metric_name': 'column.min', 'metric_value_kwargs': None}, 'num_batches': 1}}})"
   ]
  },
  {
   "cell_type": "code",
   "execution_count": 45,
   "id": "cf114781",
   "metadata": {},
   "outputs": [
    {
     "data": {
      "application/vnd.jupyter.widget-view+json": {
       "model_id": "cd8f89fddf1d476bbe75b6a08cc5f796",
       "version_major": 2,
       "version_minor": 0
      },
      "text/plain": [
       "Calculating Metrics:   0%|          | 0/6 [00:00<?, ?it/s]"
      ]
     },
     "metadata": {},
     "output_type": "display_data"
    },
    {
     "data": {
      "text/plain": [
       "{\n",
       "  \"meta\": {},\n",
       "  \"exception_info\": {\n",
       "    \"raised_exception\": false,\n",
       "    \"exception_traceback\": null,\n",
       "    \"exception_message\": null\n",
       "  },\n",
       "  \"result\": {\n",
       "    \"observed_value\": 2\n",
       "  },\n",
       "  \"success\": true\n",
       "}"
      ]
     },
     "execution_count": 45,
     "metadata": {},
     "output_type": "execute_result"
    }
   ],
   "source": [
    "\n",
    "validator.expect_column_unique_value_count_to_be_between(column='SellEndDate', max_value=2, min_value=2, strict_max=False, strict_min=False, meta={'profiler_details': {'metric_configuration': {'domain_kwargs': {'column': 'SellEndDate'}, 'metric_name': 'column.distinct_values.count', 'metric_value_kwargs': None}, 'num_batches': 1}})"
   ]
  },
  {
   "cell_type": "code",
   "execution_count": 46,
   "id": "48b86ce6",
   "metadata": {},
   "outputs": [
    {
     "data": {
      "application/vnd.jupyter.widget-view+json": {
       "model_id": "31d0586d91424790aa47a31e1c9041fd",
       "version_major": 2,
       "version_minor": 0
      },
      "text/plain": [
       "Calculating Metrics:   0%|          | 0/10 [00:00<?, ?it/s]"
      ]
     },
     "metadata": {},
     "output_type": "display_data"
    },
    {
     "data": {
      "text/plain": [
       "{\n",
       "  \"meta\": {},\n",
       "  \"exception_info\": {\n",
       "    \"raised_exception\": false,\n",
       "    \"exception_traceback\": null,\n",
       "    \"exception_message\": null\n",
       "  },\n",
       "  \"result\": {\n",
       "    \"observed_value\": 0.02040816326530612\n",
       "  },\n",
       "  \"success\": true\n",
       "}"
      ]
     },
     "execution_count": 46,
     "metadata": {},
     "output_type": "execute_result"
    }
   ],
   "source": [
    "\n",
    "validator.expect_column_proportion_of_unique_values_to_be_between(column='SellEndDate', max_value=0.02040816326530612, min_value=0.02040816326530612, strict_max=False, strict_min=False, meta={'profiler_details': {'metric_configuration': {'domain_kwargs': {'column': 'SellEndDate'}, 'metric_name': 'column.unique_proportion', 'metric_value_kwargs': None}, 'num_batches': 1}})"
   ]
  },
  {
   "cell_type": "markdown",
   "id": "6139b675",
   "metadata": {},
   "source": [
    "#### `Size`"
   ]
  },
  {
   "cell_type": "code",
   "execution_count": 47,
   "id": "42ff4b11",
   "metadata": {},
   "outputs": [
    {
     "data": {
      "application/vnd.jupyter.widget-view+json": {
       "model_id": "54a0ed4438484906b3cb194ddc676026",
       "version_major": 2,
       "version_minor": 0
      },
      "text/plain": [
       "Calculating Metrics:   0%|          | 0/11 [00:00<?, ?it/s]"
      ]
     },
     "metadata": {},
     "output_type": "display_data"
    },
    {
     "ename": "MetricResolutionError",
     "evalue": "Error: The column \"Size\" in BatchData does not exist.",
     "output_type": "error",
     "traceback": [
      "\u001b[1;31m---------------------------------------------------------------------------\u001b[0m",
      "\u001b[1;31mInvalidMetricAccessorDomainKwargsKeyError\u001b[0m Traceback (most recent call last)",
      "File \u001b[1;32m~\\AppData\\Local\\Programs\\Python\\Python311\\Lib\\site-packages\\great_expectations\\execution_engine\\execution_engine.py:555\u001b[0m, in \u001b[0;36mExecutionEngine._process_direct_and_bundled_metric_computation_configurations\u001b[1;34m(self, metric_fn_direct_configurations, metric_fn_bundle_configurations)\u001b[0m\n\u001b[0;32m    552\u001b[0m \u001b[38;5;28;01mtry\u001b[39;00m:\n\u001b[0;32m    553\u001b[0m     resolved_metrics[\n\u001b[0;32m    554\u001b[0m         metric_computation_configuration\u001b[38;5;241m.\u001b[39mmetric_configuration\u001b[38;5;241m.\u001b[39mid\n\u001b[1;32m--> 555\u001b[0m     ] \u001b[38;5;241m=\u001b[39m \u001b[43mmetric_computation_configuration\u001b[49m\u001b[38;5;241;43m.\u001b[39;49m\u001b[43mmetric_fn\u001b[49m\u001b[43m(\u001b[49m\u001b[43m  \u001b[49m\u001b[38;5;66;43;03m# type: ignore[misc] # F not callable\u001b[39;49;00m\n\u001b[0;32m    556\u001b[0m \u001b[43m        \u001b[49m\u001b[38;5;241;43m*\u001b[39;49m\u001b[38;5;241;43m*\u001b[39;49m\u001b[43mmetric_computation_configuration\u001b[49m\u001b[38;5;241;43m.\u001b[39;49m\u001b[43mmetric_provider_kwargs\u001b[49m\n\u001b[0;32m    557\u001b[0m \u001b[43m    \u001b[49m\u001b[43m)\u001b[49m\n\u001b[0;32m    558\u001b[0m \u001b[38;5;28;01mexcept\u001b[39;00m \u001b[38;5;167;01mException\u001b[39;00m \u001b[38;5;28;01mas\u001b[39;00m e:\n",
      "File \u001b[1;32m~\\AppData\\Local\\Programs\\Python\\Python311\\Lib\\site-packages\\great_expectations\\expectations\\metrics\\metric_provider.py:90\u001b[0m, in \u001b[0;36mmetric_partial.<locals>.wrapper.<locals>.inner_func\u001b[1;34m(*args, **kwargs)\u001b[0m\n\u001b[0;32m     88\u001b[0m \u001b[38;5;129m@wraps\u001b[39m(metric_fn)\n\u001b[0;32m     89\u001b[0m \u001b[38;5;28;01mdef\u001b[39;00m \u001b[38;5;21minner_func\u001b[39m(\u001b[38;5;241m*\u001b[39margs, \u001b[38;5;241m*\u001b[39m\u001b[38;5;241m*\u001b[39mkwargs):\n\u001b[1;32m---> 90\u001b[0m     \u001b[38;5;28;01mreturn\u001b[39;00m \u001b[43mmetric_fn\u001b[49m\u001b[43m(\u001b[49m\u001b[38;5;241;43m*\u001b[39;49m\u001b[43margs\u001b[49m\u001b[43m,\u001b[49m\u001b[43m \u001b[49m\u001b[38;5;241;43m*\u001b[39;49m\u001b[38;5;241;43m*\u001b[39;49m\u001b[43mkwargs\u001b[49m\u001b[43m)\u001b[49m\n",
      "File \u001b[1;32m~\\AppData\\Local\\Programs\\Python\\Python311\\Lib\\site-packages\\great_expectations\\expectations\\metrics\\map_metric_provider.py:427\u001b[0m, in \u001b[0;36mcolumn_condition_partial.<locals>.wrapper.<locals>.inner_func\u001b[1;34m(cls, execution_engine, metric_domain_kwargs, metric_value_kwargs, metrics, runtime_configuration)\u001b[0m\n\u001b[0;32m    425\u001b[0m column_name: Union[\u001b[38;5;28mstr\u001b[39m, quoted_name] \u001b[38;5;241m=\u001b[39m accessor_domain_kwargs[\u001b[38;5;124m\"\u001b[39m\u001b[38;5;124mcolumn\u001b[39m\u001b[38;5;124m\"\u001b[39m]\n\u001b[1;32m--> 427\u001b[0m column_name \u001b[38;5;241m=\u001b[39m \u001b[43mget_dbms_compatible_column_names\u001b[49m\u001b[43m(\u001b[49m\n\u001b[0;32m    428\u001b[0m \u001b[43m    \u001b[49m\u001b[43mcolumn_names\u001b[49m\u001b[38;5;241;43m=\u001b[39;49m\u001b[43mcolumn_name\u001b[49m\u001b[43m,\u001b[49m\n\u001b[0;32m    429\u001b[0m \u001b[43m    \u001b[49m\u001b[43mbatch_columns_list\u001b[49m\u001b[38;5;241;43m=\u001b[39;49m\u001b[43mmetrics\u001b[49m\u001b[43m[\u001b[49m\u001b[38;5;124;43m\"\u001b[39;49m\u001b[38;5;124;43mtable.columns\u001b[39;49m\u001b[38;5;124;43m\"\u001b[39;49m\u001b[43m]\u001b[49m\u001b[43m,\u001b[49m\n\u001b[0;32m    430\u001b[0m \u001b[43m\u001b[49m\u001b[43m)\u001b[49m\n\u001b[0;32m    432\u001b[0m sqlalchemy_engine: Engine \u001b[38;5;241m=\u001b[39m execution_engine\u001b[38;5;241m.\u001b[39mengine\n",
      "File \u001b[1;32m~\\AppData\\Local\\Programs\\Python\\Python311\\Lib\\site-packages\\great_expectations\\expectations\\metrics\\util.py:675\u001b[0m, in \u001b[0;36mget_dbms_compatible_column_names\u001b[1;34m(column_names, batch_columns_list, error_message_template)\u001b[0m\n\u001b[0;32m    655\u001b[0m \u001b[38;5;250m\u001b[39m\u001b[38;5;124;03m\"\"\"\u001b[39;00m\n\u001b[0;32m    656\u001b[0m \u001b[38;5;124;03mCase non-sensitivity is expressed in upper case by common DBMS backends and in lower case by SQLAlchemy, with any\u001b[39;00m\n\u001b[0;32m    657\u001b[0m \u001b[38;5;124;03mdeviations enclosed with double quotes.\u001b[39;00m\n\u001b[1;32m   (...)\u001b[0m\n\u001b[0;32m    670\u001b[0m \u001b[38;5;124;03m    Single property-typed column name object or list of property-typed column name objects (depending on input).\u001b[39;00m\n\u001b[0;32m    671\u001b[0m \u001b[38;5;124;03m\"\"\"\u001b[39;00m\n\u001b[0;32m    672\u001b[0m normalized_typed_batch_columns_mappings: List[\n\u001b[0;32m    673\u001b[0m     Tuple[\u001b[38;5;28mstr\u001b[39m, \u001b[38;5;28mstr\u001b[39m \u001b[38;5;241m|\u001b[39m sqlalchemy\u001b[38;5;241m.\u001b[39msql\u001b[38;5;241m.\u001b[39mquoted_name]\n\u001b[0;32m    674\u001b[0m ] \u001b[38;5;241m=\u001b[39m (\n\u001b[1;32m--> 675\u001b[0m     \u001b[43m_verify_column_names_exist_and_get_normalized_typed_column_names_map\u001b[49m\u001b[43m(\u001b[49m\n\u001b[0;32m    676\u001b[0m \u001b[43m        \u001b[49m\u001b[43mcolumn_names\u001b[49m\u001b[38;5;241;43m=\u001b[39;49m\u001b[43mcolumn_names\u001b[49m\u001b[43m,\u001b[49m\n\u001b[0;32m    677\u001b[0m \u001b[43m        \u001b[49m\u001b[43mbatch_columns_list\u001b[49m\u001b[38;5;241;43m=\u001b[39;49m\u001b[43mbatch_columns_list\u001b[49m\u001b[43m,\u001b[49m\n\u001b[0;32m    678\u001b[0m \u001b[43m        \u001b[49m\u001b[43merror_message_template\u001b[49m\u001b[38;5;241;43m=\u001b[39;49m\u001b[43merror_message_template\u001b[49m\u001b[43m,\u001b[49m\n\u001b[0;32m    679\u001b[0m \u001b[43m    \u001b[49m\u001b[43m)\u001b[49m\n\u001b[0;32m    680\u001b[0m     \u001b[38;5;129;01mor\u001b[39;00m []\n\u001b[0;32m    681\u001b[0m )\n\u001b[0;32m    683\u001b[0m element: Tuple[\u001b[38;5;28mstr\u001b[39m, \u001b[38;5;28mstr\u001b[39m \u001b[38;5;241m|\u001b[39m sqlalchemy\u001b[38;5;241m.\u001b[39msql\u001b[38;5;241m.\u001b[39mquoted_name]\n",
      "File \u001b[1;32m~\\AppData\\Local\\Programs\\Python\\Python311\\Lib\\site-packages\\great_expectations\\expectations\\metrics\\util.py:754\u001b[0m, in \u001b[0;36m_verify_column_names_exist_and_get_normalized_typed_column_names_map\u001b[1;34m(column_names, batch_columns_list, error_message_template, verify_only)\u001b[0m\n\u001b[0;32m    753\u001b[0m \u001b[38;5;28;01mif\u001b[39;00m normalized_column_name_mapping \u001b[38;5;129;01mis\u001b[39;00m \u001b[38;5;28;01mNone\u001b[39;00m:\n\u001b[1;32m--> 754\u001b[0m     \u001b[38;5;28;01mraise\u001b[39;00m gx_exceptions\u001b[38;5;241m.\u001b[39mInvalidMetricAccessorDomainKwargsKeyError(\n\u001b[0;32m    755\u001b[0m         message\u001b[38;5;241m=\u001b[39merror_message_template\u001b[38;5;241m.\u001b[39mformat(column_name\u001b[38;5;241m=\u001b[39mcolumn_name)\n\u001b[0;32m    756\u001b[0m     )\n\u001b[0;32m    757\u001b[0m \u001b[38;5;28;01melse\u001b[39;00m:\n",
      "\u001b[1;31mInvalidMetricAccessorDomainKwargsKeyError\u001b[0m: Error: The column \"Size\" in BatchData does not exist.",
      "\nThe above exception was the direct cause of the following exception:\n",
      "\u001b[1;31mMetricResolutionError\u001b[0m                     Traceback (most recent call last)",
      "Cell \u001b[1;32mIn[47], line 1\u001b[0m\n\u001b[1;32m----> 1\u001b[0m \u001b[43mvalidator\u001b[49m\u001b[38;5;241;43m.\u001b[39;49m\u001b[43mexpect_column_values_to_be_in_set\u001b[49m\u001b[43m(\u001b[49m\u001b[43mcolumn\u001b[49m\u001b[38;5;241;43m=\u001b[39;49m\u001b[38;5;124;43m'\u001b[39;49m\u001b[38;5;124;43mSize\u001b[39;49m\u001b[38;5;124;43m'\u001b[39;49m\u001b[43m,\u001b[49m\u001b[43m \u001b[49m\u001b[43mmostly\u001b[49m\u001b[38;5;241;43m=\u001b[39;49m\u001b[38;5;241;43m1.0\u001b[39;49m\u001b[43m,\u001b[49m\u001b[43m \u001b[49m\u001b[43mvalue_set\u001b[49m\u001b[38;5;241;43m=\u001b[39;49m\u001b[43m[\u001b[49m\u001b[38;5;124;43m'\u001b[39;49m\u001b[38;5;124;43mL\u001b[39;49m\u001b[38;5;124;43m'\u001b[39;49m\u001b[43m,\u001b[49m\u001b[43m \u001b[49m\u001b[38;5;124;43m'\u001b[39;49m\u001b[38;5;124;43m46\u001b[39;49m\u001b[38;5;124;43m'\u001b[39;49m\u001b[43m,\u001b[49m\u001b[43m \u001b[49m\u001b[38;5;124;43m'\u001b[39;49m\u001b[38;5;124;43m40\u001b[39;49m\u001b[38;5;124;43m'\u001b[39;49m\u001b[43m,\u001b[49m\u001b[43m \u001b[49m\u001b[38;5;124;43m'\u001b[39;49m\u001b[38;5;124;43mS\u001b[39;49m\u001b[38;5;124;43m'\u001b[39;49m\u001b[43m,\u001b[49m\u001b[43m \u001b[49m\u001b[38;5;124;43m'\u001b[39;49m\u001b[38;5;124;43m56\u001b[39;49m\u001b[38;5;124;43m'\u001b[39;49m\u001b[43m,\u001b[49m\u001b[43m \u001b[49m\u001b[38;5;124;43m'\u001b[39;49m\u001b[38;5;124;43mXL\u001b[39;49m\u001b[38;5;124;43m'\u001b[39;49m\u001b[43m,\u001b[49m\u001b[43m \u001b[49m\u001b[38;5;124;43m'\u001b[39;49m\u001b[38;5;124;43m38\u001b[39;49m\u001b[38;5;124;43m'\u001b[39;49m\u001b[43m,\u001b[49m\u001b[43m \u001b[49m\u001b[38;5;124;43m'\u001b[39;49m\u001b[38;5;124;43m42\u001b[39;49m\u001b[38;5;124;43m'\u001b[39;49m\u001b[43m,\u001b[49m\u001b[43m \u001b[49m\u001b[38;5;124;43m'\u001b[39;49m\u001b[38;5;124;43m48\u001b[39;49m\u001b[38;5;124;43m'\u001b[39;49m\u001b[43m,\u001b[49m\u001b[43m \u001b[49m\u001b[38;5;124;43m'\u001b[39;49m\u001b[38;5;124;43m50\u001b[39;49m\u001b[38;5;124;43m'\u001b[39;49m\u001b[43m,\u001b[49m\u001b[43m \u001b[49m\u001b[38;5;124;43m'\u001b[39;49m\u001b[38;5;124;43m58\u001b[39;49m\u001b[38;5;124;43m'\u001b[39;49m\u001b[43m,\u001b[49m\u001b[43m \u001b[49m\u001b[38;5;124;43m'\u001b[39;49m\u001b[38;5;124;43m70\u001b[39;49m\u001b[38;5;124;43m'\u001b[39;49m\u001b[43m,\u001b[49m\u001b[43m \u001b[49m\u001b[38;5;124;43m'\u001b[39;49m\u001b[38;5;124;43mM\u001b[39;49m\u001b[38;5;124;43m'\u001b[39;49m\u001b[43m,\u001b[49m\u001b[43m \u001b[49m\u001b[38;5;124;43m'\u001b[39;49m\u001b[38;5;124;43m44\u001b[39;49m\u001b[38;5;124;43m'\u001b[39;49m\u001b[43m,\u001b[49m\u001b[43m \u001b[49m\u001b[38;5;124;43m'\u001b[39;49m\u001b[38;5;124;43m62\u001b[39;49m\u001b[38;5;124;43m'\u001b[39;49m\u001b[43m,\u001b[49m\u001b[43m \u001b[49m\u001b[38;5;124;43m'\u001b[39;49m\u001b[38;5;124;43m60\u001b[39;49m\u001b[38;5;124;43m'\u001b[39;49m\u001b[43m,\u001b[49m\u001b[43m \u001b[49m\u001b[38;5;124;43m'\u001b[39;49m\u001b[38;5;124;43m54\u001b[39;49m\u001b[38;5;124;43m'\u001b[39;49m\u001b[43m,\u001b[49m\u001b[43m \u001b[49m\u001b[38;5;124;43m'\u001b[39;49m\u001b[38;5;124;43m52\u001b[39;49m\u001b[38;5;124;43m'\u001b[39;49m\u001b[43m]\u001b[49m\u001b[43m,\u001b[49m\u001b[43m \u001b[49m\u001b[43mmeta\u001b[49m\u001b[38;5;241;43m=\u001b[39;49m\u001b[43m{\u001b[49m\u001b[38;5;124;43m'\u001b[39;49m\u001b[38;5;124;43mprofiler_details\u001b[39;49m\u001b[38;5;124;43m'\u001b[39;49m\u001b[43m:\u001b[49m\u001b[43m \u001b[49m\u001b[43m{\u001b[49m\u001b[38;5;124;43m'\u001b[39;49m\u001b[38;5;124;43mmetric_configuration\u001b[39;49m\u001b[38;5;124;43m'\u001b[39;49m\u001b[43m:\u001b[49m\u001b[43m \u001b[49m\u001b[43m{\u001b[49m\u001b[38;5;124;43m'\u001b[39;49m\u001b[38;5;124;43mdomain_kwargs\u001b[39;49m\u001b[38;5;124;43m'\u001b[39;49m\u001b[43m:\u001b[49m\u001b[43m \u001b[49m\u001b[43m{\u001b[49m\u001b[38;5;124;43m'\u001b[39;49m\u001b[38;5;124;43mcolumn\u001b[39;49m\u001b[38;5;124;43m'\u001b[39;49m\u001b[43m:\u001b[49m\u001b[43m \u001b[49m\u001b[38;5;124;43m'\u001b[39;49m\u001b[38;5;124;43mSize\u001b[39;49m\u001b[38;5;124;43m'\u001b[39;49m\u001b[43m}\u001b[49m\u001b[43m,\u001b[49m\u001b[43m \u001b[49m\u001b[38;5;124;43m'\u001b[39;49m\u001b[38;5;124;43mmetric_name\u001b[39;49m\u001b[38;5;124;43m'\u001b[39;49m\u001b[43m:\u001b[49m\u001b[43m \u001b[49m\u001b[38;5;124;43m'\u001b[39;49m\u001b[38;5;124;43mcolumn.distinct_values\u001b[39;49m\u001b[38;5;124;43m'\u001b[39;49m\u001b[43m,\u001b[49m\u001b[43m \u001b[49m\u001b[38;5;124;43m'\u001b[39;49m\u001b[38;5;124;43mmetric_value_kwargs\u001b[39;49m\u001b[38;5;124;43m'\u001b[39;49m\u001b[43m:\u001b[49m\u001b[43m \u001b[49m\u001b[38;5;28;43;01mNone\u001b[39;49;00m\u001b[43m}\u001b[49m\u001b[43m,\u001b[49m\u001b[43m \u001b[49m\u001b[38;5;124;43m'\u001b[39;49m\u001b[38;5;124;43mnum_batches\u001b[39;49m\u001b[38;5;124;43m'\u001b[39;49m\u001b[43m:\u001b[49m\u001b[43m \u001b[49m\u001b[38;5;241;43m1\u001b[39;49m\u001b[43m,\u001b[49m\u001b[43m \u001b[49m\u001b[38;5;124;43m'\u001b[39;49m\u001b[38;5;124;43mparse_strings_as_datetimes\u001b[39;49m\u001b[38;5;124;43m'\u001b[39;49m\u001b[43m:\u001b[49m\u001b[43m \u001b[49m\u001b[38;5;28;43;01mFalse\u001b[39;49;00m\u001b[43m}\u001b[49m\u001b[43m}\u001b[49m\u001b[43m)\u001b[49m\n",
      "File \u001b[1;32m~\\AppData\\Local\\Programs\\Python\\Python311\\Lib\\site-packages\\great_expectations\\validator\\validator.py:608\u001b[0m, in \u001b[0;36mValidator.validate_expectation.<locals>.inst_expectation\u001b[1;34m(*args, **kwargs)\u001b[0m\n\u001b[0;32m    602\u001b[0m         validation_result \u001b[38;5;241m=\u001b[39m ExpectationValidationResult(\n\u001b[0;32m    603\u001b[0m             success\u001b[38;5;241m=\u001b[39m\u001b[38;5;28;01mFalse\u001b[39;00m,\n\u001b[0;32m    604\u001b[0m             exception_info\u001b[38;5;241m=\u001b[39mexception_info,\n\u001b[0;32m    605\u001b[0m             expectation_config\u001b[38;5;241m=\u001b[39mconfiguration,\n\u001b[0;32m    606\u001b[0m         )\n\u001b[0;32m    607\u001b[0m     \u001b[38;5;28;01melse\u001b[39;00m:\n\u001b[1;32m--> 608\u001b[0m         \u001b[38;5;28;01mraise\u001b[39;00m err\n\u001b[0;32m    610\u001b[0m \u001b[38;5;28;01mif\u001b[39;00m \u001b[38;5;28mself\u001b[39m\u001b[38;5;241m.\u001b[39m_include_rendered_content:\n\u001b[0;32m    611\u001b[0m     validation_result\u001b[38;5;241m.\u001b[39mrender()\n",
      "File \u001b[1;32m~\\AppData\\Local\\Programs\\Python\\Python311\\Lib\\site-packages\\great_expectations\\validator\\validator.py:571\u001b[0m, in \u001b[0;36mValidator.validate_expectation.<locals>.inst_expectation\u001b[1;34m(*args, **kwargs)\u001b[0m\n\u001b[0;32m    567\u001b[0m     validation_result \u001b[38;5;241m=\u001b[39m ExpectationValidationResult(\n\u001b[0;32m    568\u001b[0m         expectation_config\u001b[38;5;241m=\u001b[39mcopy\u001b[38;5;241m.\u001b[39mdeepcopy(expectation\u001b[38;5;241m.\u001b[39mconfiguration)\n\u001b[0;32m    569\u001b[0m     )\n\u001b[0;32m    570\u001b[0m \u001b[38;5;28;01melse\u001b[39;00m:\n\u001b[1;32m--> 571\u001b[0m     validation_result \u001b[38;5;241m=\u001b[39m \u001b[43mexpectation\u001b[49m\u001b[38;5;241;43m.\u001b[39;49m\u001b[43mvalidate\u001b[49m\u001b[43m(\u001b[49m\n\u001b[0;32m    572\u001b[0m \u001b[43m        \u001b[49m\u001b[43mvalidator\u001b[49m\u001b[38;5;241;43m=\u001b[39;49m\u001b[38;5;28;43mself\u001b[39;49m\u001b[43m,\u001b[49m\n\u001b[0;32m    573\u001b[0m \u001b[43m        \u001b[49m\u001b[43mevaluation_parameters\u001b[49m\u001b[38;5;241;43m=\u001b[39;49m\u001b[38;5;28;43mself\u001b[39;49m\u001b[38;5;241;43m.\u001b[39;49m\u001b[43m_expectation_suite\u001b[49m\u001b[38;5;241;43m.\u001b[39;49m\u001b[43mevaluation_parameters\u001b[49m\u001b[43m,\u001b[49m\n\u001b[0;32m    574\u001b[0m \u001b[43m        \u001b[49m\u001b[43mdata_context\u001b[49m\u001b[38;5;241;43m=\u001b[39;49m\u001b[38;5;28;43mself\u001b[39;49m\u001b[38;5;241;43m.\u001b[39;49m\u001b[43m_data_context\u001b[49m\u001b[43m,\u001b[49m\n\u001b[0;32m    575\u001b[0m \u001b[43m        \u001b[49m\u001b[43mruntime_configuration\u001b[49m\u001b[38;5;241;43m=\u001b[39;49m\u001b[43mbasic_runtime_configuration\u001b[49m\u001b[43m,\u001b[49m\n\u001b[0;32m    576\u001b[0m \u001b[43m    \u001b[49m\u001b[43m)\u001b[49m\n\u001b[0;32m    578\u001b[0m \u001b[38;5;66;03m# If validate has set active_validation to true, then we do not save the config to avoid\u001b[39;00m\n\u001b[0;32m    579\u001b[0m \u001b[38;5;66;03m# saving updating expectation configs to the same suite during validation runs\u001b[39;00m\n\u001b[0;32m    580\u001b[0m \u001b[38;5;28;01mif\u001b[39;00m \u001b[38;5;28mself\u001b[39m\u001b[38;5;241m.\u001b[39m_active_validation \u001b[38;5;129;01mis\u001b[39;00m \u001b[38;5;28;01mTrue\u001b[39;00m:\n",
      "File \u001b[1;32m~\\AppData\\Local\\Programs\\Python\\Python311\\Lib\\site-packages\\great_expectations\\expectations\\expectation.py:1264\u001b[0m, in \u001b[0;36mExpectation.validate\u001b[1;34m(self, validator, configuration, evaluation_parameters, interactive_evaluation, data_context, runtime_configuration)\u001b[0m\n\u001b[0;32m   1255\u001b[0m \u001b[38;5;28mself\u001b[39m\u001b[38;5;241m.\u001b[39m_warn_if_result_format_config_in_expectation_configuration(\n\u001b[0;32m   1256\u001b[0m     configuration\u001b[38;5;241m=\u001b[39mconfiguration\n\u001b[0;32m   1257\u001b[0m )\n\u001b[0;32m   1259\u001b[0m configuration\u001b[38;5;241m.\u001b[39mprocess_evaluation_parameters(\n\u001b[0;32m   1260\u001b[0m     evaluation_parameters, interactive_evaluation, data_context\n\u001b[0;32m   1261\u001b[0m )\n\u001b[0;32m   1262\u001b[0m expectation_validation_result_list: \u001b[38;5;28mlist\u001b[39m[\n\u001b[0;32m   1263\u001b[0m     ExpectationValidationResult\n\u001b[1;32m-> 1264\u001b[0m ] \u001b[38;5;241m=\u001b[39m \u001b[43mvalidator\u001b[49m\u001b[38;5;241;43m.\u001b[39;49m\u001b[43mgraph_validate\u001b[49m\u001b[43m(\u001b[49m\n\u001b[0;32m   1265\u001b[0m \u001b[43m    \u001b[49m\u001b[43mconfigurations\u001b[49m\u001b[38;5;241;43m=\u001b[39;49m\u001b[43m[\u001b[49m\u001b[43mconfiguration\u001b[49m\u001b[43m]\u001b[49m\u001b[43m,\u001b[49m\n\u001b[0;32m   1266\u001b[0m \u001b[43m    \u001b[49m\u001b[43mruntime_configuration\u001b[49m\u001b[38;5;241;43m=\u001b[39;49m\u001b[43mruntime_configuration\u001b[49m\u001b[43m,\u001b[49m\n\u001b[0;32m   1267\u001b[0m \u001b[43m\u001b[49m\u001b[43m)\u001b[49m\n\u001b[0;32m   1268\u001b[0m \u001b[38;5;28;01mreturn\u001b[39;00m expectation_validation_result_list[\u001b[38;5;241m0\u001b[39m]\n",
      "File \u001b[1;32m~\\AppData\\Local\\Programs\\Python\\Python311\\Lib\\site-packages\\great_expectations\\validator\\validator.py:1059\u001b[0m, in \u001b[0;36mValidator.graph_validate\u001b[1;34m(self, configurations, runtime_configuration)\u001b[0m\n\u001b[0;32m   1057\u001b[0m         \u001b[38;5;28;01mreturn\u001b[39;00m evrs\n\u001b[0;32m   1058\u001b[0m     \u001b[38;5;28;01melse\u001b[39;00m:\n\u001b[1;32m-> 1059\u001b[0m         \u001b[38;5;28;01mraise\u001b[39;00m err\n\u001b[0;32m   1061\u001b[0m configuration: ExpectationConfiguration\n\u001b[0;32m   1062\u001b[0m result: ExpectationValidationResult\n",
      "File \u001b[1;32m~\\AppData\\Local\\Programs\\Python\\Python311\\Lib\\site-packages\\great_expectations\\validator\\validator.py:1038\u001b[0m, in \u001b[0;36mValidator.graph_validate\u001b[1;34m(self, configurations, runtime_configuration)\u001b[0m\n\u001b[0;32m   1031\u001b[0m resolved_metrics: Dict[Tuple[\u001b[38;5;28mstr\u001b[39m, \u001b[38;5;28mstr\u001b[39m, \u001b[38;5;28mstr\u001b[39m], MetricValue]\n\u001b[0;32m   1033\u001b[0m \u001b[38;5;28;01mtry\u001b[39;00m:\n\u001b[0;32m   1034\u001b[0m     (\n\u001b[0;32m   1035\u001b[0m         resolved_metrics,\n\u001b[0;32m   1036\u001b[0m         evrs,\n\u001b[0;32m   1037\u001b[0m         processed_configurations,\n\u001b[1;32m-> 1038\u001b[0m     ) \u001b[38;5;241m=\u001b[39m \u001b[38;5;28;43mself\u001b[39;49m\u001b[38;5;241;43m.\u001b[39;49m\u001b[43m_resolve_suite_level_graph_and_process_metric_evaluation_errors\u001b[49m\u001b[43m(\u001b[49m\n\u001b[0;32m   1039\u001b[0m \u001b[43m        \u001b[49m\u001b[43mgraph\u001b[49m\u001b[38;5;241;43m=\u001b[39;49m\u001b[43mgraph\u001b[49m\u001b[43m,\u001b[49m\n\u001b[0;32m   1040\u001b[0m \u001b[43m        \u001b[49m\u001b[43mruntime_configuration\u001b[49m\u001b[38;5;241;43m=\u001b[39;49m\u001b[43mruntime_configuration\u001b[49m\u001b[43m,\u001b[49m\n\u001b[0;32m   1041\u001b[0m \u001b[43m        \u001b[49m\u001b[43mexpectation_validation_graphs\u001b[49m\u001b[38;5;241;43m=\u001b[39;49m\u001b[43mexpectation_validation_graphs\u001b[49m\u001b[43m,\u001b[49m\n\u001b[0;32m   1042\u001b[0m \u001b[43m        \u001b[49m\u001b[43mevrs\u001b[49m\u001b[38;5;241;43m=\u001b[39;49m\u001b[43mevrs\u001b[49m\u001b[43m,\u001b[49m\n\u001b[0;32m   1043\u001b[0m \u001b[43m        \u001b[49m\u001b[43mprocessed_configurations\u001b[49m\u001b[38;5;241;43m=\u001b[39;49m\u001b[43mprocessed_configurations\u001b[49m\u001b[43m,\u001b[49m\n\u001b[0;32m   1044\u001b[0m \u001b[43m        \u001b[49m\u001b[43mshow_progress_bars\u001b[49m\u001b[38;5;241;43m=\u001b[39;49m\u001b[38;5;28;43mself\u001b[39;49m\u001b[38;5;241;43m.\u001b[39;49m\u001b[43m_determine_progress_bars\u001b[49m\u001b[43m(\u001b[49m\u001b[43m)\u001b[49m\u001b[43m,\u001b[49m\n\u001b[0;32m   1045\u001b[0m \u001b[43m    \u001b[49m\u001b[43m)\u001b[49m\n\u001b[0;32m   1046\u001b[0m \u001b[38;5;28;01mexcept\u001b[39;00m \u001b[38;5;167;01mException\u001b[39;00m \u001b[38;5;28;01mas\u001b[39;00m err:\n\u001b[0;32m   1047\u001b[0m     \u001b[38;5;66;03m# If a general Exception occurs during the execution of \"ValidationGraph.resolve()\", then\u001b[39;00m\n\u001b[0;32m   1048\u001b[0m     \u001b[38;5;66;03m# all expectations in the suite are impacted, because it is impossible to attribute the failure to a metric.\u001b[39;00m\n\u001b[0;32m   1049\u001b[0m     \u001b[38;5;28;01mif\u001b[39;00m catch_exceptions:\n",
      "File \u001b[1;32m~\\AppData\\Local\\Programs\\Python\\Python311\\Lib\\site-packages\\great_expectations\\validator\\validator.py:1197\u001b[0m, in \u001b[0;36mValidator._resolve_suite_level_graph_and_process_metric_evaluation_errors\u001b[1;34m(self, graph, runtime_configuration, expectation_validation_graphs, evrs, processed_configurations, show_progress_bars)\u001b[0m\n\u001b[0;32m   1189\u001b[0m resolved_metrics: Dict[Tuple[\u001b[38;5;28mstr\u001b[39m, \u001b[38;5;28mstr\u001b[39m, \u001b[38;5;28mstr\u001b[39m], MetricValue]\n\u001b[0;32m   1190\u001b[0m aborted_metrics_info: Dict[\n\u001b[0;32m   1191\u001b[0m     Tuple[\u001b[38;5;28mstr\u001b[39m, \u001b[38;5;28mstr\u001b[39m, \u001b[38;5;28mstr\u001b[39m],\n\u001b[0;32m   1192\u001b[0m     Dict[\u001b[38;5;28mstr\u001b[39m, Union[MetricConfiguration, Set[ExceptionInfo], \u001b[38;5;28mint\u001b[39m]],\n\u001b[0;32m   1193\u001b[0m ]\n\u001b[0;32m   1194\u001b[0m (\n\u001b[0;32m   1195\u001b[0m     resolved_metrics,\n\u001b[0;32m   1196\u001b[0m     aborted_metrics_info,\n\u001b[1;32m-> 1197\u001b[0m ) \u001b[38;5;241m=\u001b[39m \u001b[38;5;28;43mself\u001b[39;49m\u001b[38;5;241;43m.\u001b[39;49m\u001b[43m_metrics_calculator\u001b[49m\u001b[38;5;241;43m.\u001b[39;49m\u001b[43mresolve_validation_graph\u001b[49m\u001b[43m(\u001b[49m\n\u001b[0;32m   1198\u001b[0m \u001b[43m    \u001b[49m\u001b[43mgraph\u001b[49m\u001b[38;5;241;43m=\u001b[39;49m\u001b[43mgraph\u001b[49m\u001b[43m,\u001b[49m\n\u001b[0;32m   1199\u001b[0m \u001b[43m    \u001b[49m\u001b[43mruntime_configuration\u001b[49m\u001b[38;5;241;43m=\u001b[39;49m\u001b[43mruntime_configuration\u001b[49m\u001b[43m,\u001b[49m\n\u001b[0;32m   1200\u001b[0m \u001b[43m    \u001b[49m\u001b[43mmin_graph_edges_pbar_enable\u001b[49m\u001b[38;5;241;43m=\u001b[39;49m\u001b[38;5;241;43m0\u001b[39;49m\u001b[43m,\u001b[49m\n\u001b[0;32m   1201\u001b[0m \u001b[43m\u001b[49m\u001b[43m)\u001b[49m\n\u001b[0;32m   1203\u001b[0m \u001b[38;5;66;03m# Trace MetricResolutionError occurrences to expectations relying on corresponding malfunctioning metrics.\u001b[39;00m\n\u001b[0;32m   1204\u001b[0m rejected_configurations: List[ExpectationConfiguration] \u001b[38;5;241m=\u001b[39m []\n",
      "File \u001b[1;32m~\\AppData\\Local\\Programs\\Python\\Python311\\Lib\\site-packages\\great_expectations\\validator\\metrics_calculator.py:268\u001b[0m, in \u001b[0;36mMetricsCalculator.resolve_validation_graph\u001b[1;34m(self, graph, runtime_configuration, min_graph_edges_pbar_enable)\u001b[0m\n\u001b[0;32m    263\u001b[0m resolved_metrics: Dict[Tuple[\u001b[38;5;28mstr\u001b[39m, \u001b[38;5;28mstr\u001b[39m, \u001b[38;5;28mstr\u001b[39m], MetricValue]\n\u001b[0;32m    264\u001b[0m aborted_metrics_info: Dict[\n\u001b[0;32m    265\u001b[0m     Tuple[\u001b[38;5;28mstr\u001b[39m, \u001b[38;5;28mstr\u001b[39m, \u001b[38;5;28mstr\u001b[39m],\n\u001b[0;32m    266\u001b[0m     Dict[\u001b[38;5;28mstr\u001b[39m, Union[MetricConfiguration, Set[ExceptionInfo], \u001b[38;5;28mint\u001b[39m]],\n\u001b[0;32m    267\u001b[0m ]\n\u001b[1;32m--> 268\u001b[0m resolved_metrics, aborted_metrics_info \u001b[38;5;241m=\u001b[39m \u001b[43mgraph\u001b[49m\u001b[38;5;241;43m.\u001b[39;49m\u001b[43mresolve\u001b[49m\u001b[43m(\u001b[49m\n\u001b[0;32m    269\u001b[0m \u001b[43m    \u001b[49m\u001b[43mruntime_configuration\u001b[49m\u001b[38;5;241;43m=\u001b[39;49m\u001b[43mruntime_configuration\u001b[49m\u001b[43m,\u001b[49m\n\u001b[0;32m    270\u001b[0m \u001b[43m    \u001b[49m\u001b[43mmin_graph_edges_pbar_enable\u001b[49m\u001b[38;5;241;43m=\u001b[39;49m\u001b[43mmin_graph_edges_pbar_enable\u001b[49m\u001b[43m,\u001b[49m\n\u001b[0;32m    271\u001b[0m \u001b[43m    \u001b[49m\u001b[43mshow_progress_bars\u001b[49m\u001b[38;5;241;43m=\u001b[39;49m\u001b[38;5;28;43mself\u001b[39;49m\u001b[38;5;241;43m.\u001b[39;49m\u001b[43m_show_progress_bars\u001b[49m\u001b[43m,\u001b[49m\n\u001b[0;32m    272\u001b[0m \u001b[43m\u001b[49m\u001b[43m)\u001b[49m\n\u001b[0;32m    273\u001b[0m \u001b[38;5;28;01mreturn\u001b[39;00m resolved_metrics, aborted_metrics_info\n",
      "File \u001b[1;32m~\\AppData\\Local\\Programs\\Python\\Python311\\Lib\\site-packages\\great_expectations\\validator\\validation_graph.py:200\u001b[0m, in \u001b[0;36mValidationGraph.resolve\u001b[1;34m(self, runtime_configuration, min_graph_edges_pbar_enable, show_progress_bars)\u001b[0m\n\u001b[0;32m    194\u001b[0m resolved_metrics: Dict[Tuple[\u001b[38;5;28mstr\u001b[39m, \u001b[38;5;28mstr\u001b[39m, \u001b[38;5;28mstr\u001b[39m], MetricValue] \u001b[38;5;241m=\u001b[39m {}\n\u001b[0;32m    196\u001b[0m \u001b[38;5;66;03m# updates graph with aborted metrics\u001b[39;00m\n\u001b[0;32m    197\u001b[0m aborted_metrics_info: Dict[\n\u001b[0;32m    198\u001b[0m     Tuple[\u001b[38;5;28mstr\u001b[39m, \u001b[38;5;28mstr\u001b[39m, \u001b[38;5;28mstr\u001b[39m],\n\u001b[0;32m    199\u001b[0m     Dict[\u001b[38;5;28mstr\u001b[39m, Union[MetricConfiguration, Set[ExceptionInfo], \u001b[38;5;28mint\u001b[39m]],\n\u001b[1;32m--> 200\u001b[0m ] \u001b[38;5;241m=\u001b[39m \u001b[38;5;28;43mself\u001b[39;49m\u001b[38;5;241;43m.\u001b[39;49m\u001b[43m_resolve\u001b[49m\u001b[43m(\u001b[49m\n\u001b[0;32m    201\u001b[0m \u001b[43m    \u001b[49m\u001b[43mmetrics\u001b[49m\u001b[38;5;241;43m=\u001b[39;49m\u001b[43mresolved_metrics\u001b[49m\u001b[43m,\u001b[49m\n\u001b[0;32m    202\u001b[0m \u001b[43m    \u001b[49m\u001b[43mruntime_configuration\u001b[49m\u001b[38;5;241;43m=\u001b[39;49m\u001b[43mruntime_configuration\u001b[49m\u001b[43m,\u001b[49m\n\u001b[0;32m    203\u001b[0m \u001b[43m    \u001b[49m\u001b[43mmin_graph_edges_pbar_enable\u001b[49m\u001b[38;5;241;43m=\u001b[39;49m\u001b[43mmin_graph_edges_pbar_enable\u001b[49m\u001b[43m,\u001b[49m\n\u001b[0;32m    204\u001b[0m \u001b[43m    \u001b[49m\u001b[43mshow_progress_bars\u001b[49m\u001b[38;5;241;43m=\u001b[39;49m\u001b[43mshow_progress_bars\u001b[49m\u001b[43m,\u001b[49m\n\u001b[0;32m    205\u001b[0m \u001b[43m\u001b[49m\u001b[43m)\u001b[49m\n\u001b[0;32m    207\u001b[0m \u001b[38;5;28;01mreturn\u001b[39;00m resolved_metrics, aborted_metrics_info\n",
      "File \u001b[1;32m~\\AppData\\Local\\Programs\\Python\\Python311\\Lib\\site-packages\\great_expectations\\validator\\validation_graph.py:306\u001b[0m, in \u001b[0;36mValidationGraph._resolve\u001b[1;34m(self, metrics, runtime_configuration, min_graph_edges_pbar_enable, show_progress_bars)\u001b[0m\n\u001b[0;32m    302\u001b[0m                 failed_metric_info[failed_metric\u001b[38;5;241m.\u001b[39mid][\u001b[38;5;124m\"\u001b[39m\u001b[38;5;124mexception_info\u001b[39m\u001b[38;5;124m\"\u001b[39m] \u001b[38;5;241m=\u001b[39m {\n\u001b[0;32m    303\u001b[0m                     exception_info\n\u001b[0;32m    304\u001b[0m                 }\n\u001b[0;32m    305\u001b[0m     \u001b[38;5;28;01melse\u001b[39;00m:\n\u001b[1;32m--> 306\u001b[0m         \u001b[38;5;28;01mraise\u001b[39;00m err\n\u001b[0;32m    307\u001b[0m \u001b[38;5;28;01mexcept\u001b[39;00m \u001b[38;5;167;01mException\u001b[39;00m \u001b[38;5;28;01mas\u001b[39;00m e:\n\u001b[0;32m    308\u001b[0m     \u001b[38;5;28;01mif\u001b[39;00m catch_exceptions:\n",
      "File \u001b[1;32m~\\AppData\\Local\\Programs\\Python\\Python311\\Lib\\site-packages\\great_expectations\\validator\\validation_graph.py:276\u001b[0m, in \u001b[0;36mValidationGraph._resolve\u001b[1;34m(self, metrics, runtime_configuration, min_graph_edges_pbar_enable, show_progress_bars)\u001b[0m\n\u001b[0;32m    271\u001b[0m         computable_metrics\u001b[38;5;241m.\u001b[39madd(metric)\n\u001b[0;32m    273\u001b[0m \u001b[38;5;28;01mtry\u001b[39;00m:\n\u001b[0;32m    274\u001b[0m     \u001b[38;5;66;03m# Access \"ExecutionEngine.resolve_metrics()\" method, to resolve missing \"MetricConfiguration\" objects.\u001b[39;00m\n\u001b[0;32m    275\u001b[0m     metrics\u001b[38;5;241m.\u001b[39mupdate(\n\u001b[1;32m--> 276\u001b[0m         \u001b[38;5;28;43mself\u001b[39;49m\u001b[38;5;241;43m.\u001b[39;49m\u001b[43m_execution_engine\u001b[49m\u001b[38;5;241;43m.\u001b[39;49m\u001b[43mresolve_metrics\u001b[49m\u001b[43m(\u001b[49m\n\u001b[0;32m    277\u001b[0m \u001b[43m            \u001b[49m\u001b[43mmetrics_to_resolve\u001b[49m\u001b[38;5;241;43m=\u001b[39;49m\u001b[43mcomputable_metrics\u001b[49m\u001b[43m,\u001b[49m\n\u001b[0;32m    278\u001b[0m \u001b[43m            \u001b[49m\u001b[43mmetrics\u001b[49m\u001b[38;5;241;43m=\u001b[39;49m\u001b[43mmetrics\u001b[49m\u001b[43m,\u001b[49m\n\u001b[0;32m    279\u001b[0m \u001b[43m            \u001b[49m\u001b[43mruntime_configuration\u001b[49m\u001b[38;5;241;43m=\u001b[39;49m\u001b[43mruntime_configuration\u001b[49m\u001b[43m,\u001b[49m\n\u001b[0;32m    280\u001b[0m \u001b[43m        \u001b[49m\u001b[43m)\u001b[49m\n\u001b[0;32m    281\u001b[0m     )\n\u001b[0;32m    282\u001b[0m     progress_bar\u001b[38;5;241m.\u001b[39mupdate(\u001b[38;5;28mlen\u001b[39m(computable_metrics))\n\u001b[0;32m    283\u001b[0m     progress_bar\u001b[38;5;241m.\u001b[39mrefresh()\n",
      "File \u001b[1;32m~\\AppData\\Local\\Programs\\Python\\Python311\\Lib\\site-packages\\great_expectations\\execution_engine\\execution_engine.py:290\u001b[0m, in \u001b[0;36mExecutionEngine.resolve_metrics\u001b[1;34m(self, metrics_to_resolve, metrics, runtime_configuration)\u001b[0m\n\u001b[0;32m    281\u001b[0m metric_fn_bundle_configurations: List[MetricComputationConfiguration]\n\u001b[0;32m    282\u001b[0m (\n\u001b[0;32m    283\u001b[0m     metric_fn_direct_configurations,\n\u001b[0;32m    284\u001b[0m     metric_fn_bundle_configurations,\n\u001b[1;32m   (...)\u001b[0m\n\u001b[0;32m    288\u001b[0m     runtime_configuration\u001b[38;5;241m=\u001b[39mruntime_configuration,\n\u001b[0;32m    289\u001b[0m )\n\u001b[1;32m--> 290\u001b[0m \u001b[38;5;28;01mreturn\u001b[39;00m \u001b[38;5;28;43mself\u001b[39;49m\u001b[38;5;241;43m.\u001b[39;49m\u001b[43m_process_direct_and_bundled_metric_computation_configurations\u001b[49m\u001b[43m(\u001b[49m\n\u001b[0;32m    291\u001b[0m \u001b[43m    \u001b[49m\u001b[43mmetric_fn_direct_configurations\u001b[49m\u001b[38;5;241;43m=\u001b[39;49m\u001b[43mmetric_fn_direct_configurations\u001b[49m\u001b[43m,\u001b[49m\n\u001b[0;32m    292\u001b[0m \u001b[43m    \u001b[49m\u001b[43mmetric_fn_bundle_configurations\u001b[49m\u001b[38;5;241;43m=\u001b[39;49m\u001b[43mmetric_fn_bundle_configurations\u001b[49m\u001b[43m,\u001b[49m\n\u001b[0;32m    293\u001b[0m \u001b[43m\u001b[49m\u001b[43m)\u001b[49m\n",
      "File \u001b[1;32m~\\AppData\\Local\\Programs\\Python\\Python311\\Lib\\site-packages\\great_expectations\\execution_engine\\execution_engine.py:559\u001b[0m, in \u001b[0;36mExecutionEngine._process_direct_and_bundled_metric_computation_configurations\u001b[1;34m(self, metric_fn_direct_configurations, metric_fn_bundle_configurations)\u001b[0m\n\u001b[0;32m    553\u001b[0m         resolved_metrics[\n\u001b[0;32m    554\u001b[0m             metric_computation_configuration\u001b[38;5;241m.\u001b[39mmetric_configuration\u001b[38;5;241m.\u001b[39mid\n\u001b[0;32m    555\u001b[0m         ] \u001b[38;5;241m=\u001b[39m metric_computation_configuration\u001b[38;5;241m.\u001b[39mmetric_fn(  \u001b[38;5;66;03m# type: ignore[misc] # F not callable\u001b[39;00m\n\u001b[0;32m    556\u001b[0m             \u001b[38;5;241m*\u001b[39m\u001b[38;5;241m*\u001b[39mmetric_computation_configuration\u001b[38;5;241m.\u001b[39mmetric_provider_kwargs\n\u001b[0;32m    557\u001b[0m         )\n\u001b[0;32m    558\u001b[0m     \u001b[38;5;28;01mexcept\u001b[39;00m \u001b[38;5;167;01mException\u001b[39;00m \u001b[38;5;28;01mas\u001b[39;00m e:\n\u001b[1;32m--> 559\u001b[0m         \u001b[38;5;28;01mraise\u001b[39;00m gx_exceptions\u001b[38;5;241m.\u001b[39mMetricResolutionError(\n\u001b[0;32m    560\u001b[0m             message\u001b[38;5;241m=\u001b[39m\u001b[38;5;28mstr\u001b[39m(e),\n\u001b[0;32m    561\u001b[0m             failed_metrics\u001b[38;5;241m=\u001b[39m(\n\u001b[0;32m    562\u001b[0m                 metric_computation_configuration\u001b[38;5;241m.\u001b[39mmetric_configuration,\n\u001b[0;32m    563\u001b[0m             ),\n\u001b[0;32m    564\u001b[0m         ) \u001b[38;5;28;01mfrom\u001b[39;00m \u001b[38;5;21;01me\u001b[39;00m\n\u001b[0;32m    566\u001b[0m \u001b[38;5;28;01mtry\u001b[39;00m:\n\u001b[0;32m    567\u001b[0m     \u001b[38;5;66;03m# an engine-specific way of computing metrics together\u001b[39;00m\n\u001b[0;32m    568\u001b[0m     resolved_metric_bundle: Dict[\n\u001b[0;32m    569\u001b[0m         Tuple[\u001b[38;5;28mstr\u001b[39m, \u001b[38;5;28mstr\u001b[39m, \u001b[38;5;28mstr\u001b[39m], MetricValue\n\u001b[0;32m    570\u001b[0m     ] \u001b[38;5;241m=\u001b[39m \u001b[38;5;28mself\u001b[39m\u001b[38;5;241m.\u001b[39mresolve_metric_bundle(\n\u001b[0;32m    571\u001b[0m         metric_fn_bundle\u001b[38;5;241m=\u001b[39mmetric_fn_bundle_configurations\n\u001b[0;32m    572\u001b[0m     )\n",
      "\u001b[1;31mMetricResolutionError\u001b[0m: Error: The column \"Size\" in BatchData does not exist."
     ]
    }
   ],
   "source": [
    "\n",
    "validator.expect_column_values_to_be_in_set(column='Size', mostly=1.0, value_set=['L', '46', '40', 'S', '56', 'XL', '38', '42', '48', '50', '58', '70', 'M', '44', '62', '60', '54', '52'], meta={'profiler_details': {'metric_configuration': {'domain_kwargs': {'column': 'Size'}, 'metric_name': 'column.distinct_values', 'metric_value_kwargs': None}, 'num_batches': 1, 'parse_strings_as_datetimes': False}})"
   ]
  },
  {
   "cell_type": "code",
   "execution_count": 48,
   "id": "4acd2fda",
   "metadata": {},
   "outputs": [
    {
     "data": {
      "application/vnd.jupyter.widget-view+json": {
       "model_id": "cf9f35ccc3ff46d9bfde5db32de2654b",
       "version_major": 2,
       "version_minor": 0
      },
      "text/plain": [
       "Calculating Metrics:   0%|          | 0/6 [00:00<?, ?it/s]"
      ]
     },
     "metadata": {},
     "output_type": "display_data"
    },
    {
     "ename": "MetricResolutionError",
     "evalue": "Error: The column \"Size\" in BatchData does not exist.",
     "output_type": "error",
     "traceback": [
      "\u001b[1;31m---------------------------------------------------------------------------\u001b[0m",
      "\u001b[1;31mInvalidMetricAccessorDomainKwargsKeyError\u001b[0m Traceback (most recent call last)",
      "File \u001b[1;32m~\\AppData\\Local\\Programs\\Python\\Python311\\Lib\\site-packages\\great_expectations\\execution_engine\\execution_engine.py:555\u001b[0m, in \u001b[0;36mExecutionEngine._process_direct_and_bundled_metric_computation_configurations\u001b[1;34m(self, metric_fn_direct_configurations, metric_fn_bundle_configurations)\u001b[0m\n\u001b[0;32m    552\u001b[0m \u001b[38;5;28;01mtry\u001b[39;00m:\n\u001b[0;32m    553\u001b[0m     resolved_metrics[\n\u001b[0;32m    554\u001b[0m         metric_computation_configuration\u001b[38;5;241m.\u001b[39mmetric_configuration\u001b[38;5;241m.\u001b[39mid\n\u001b[1;32m--> 555\u001b[0m     ] \u001b[38;5;241m=\u001b[39m \u001b[43mmetric_computation_configuration\u001b[49m\u001b[38;5;241;43m.\u001b[39;49m\u001b[43mmetric_fn\u001b[49m\u001b[43m(\u001b[49m\u001b[43m  \u001b[49m\u001b[38;5;66;43;03m# type: ignore[misc] # F not callable\u001b[39;49;00m\n\u001b[0;32m    556\u001b[0m \u001b[43m        \u001b[49m\u001b[38;5;241;43m*\u001b[39;49m\u001b[38;5;241;43m*\u001b[39;49m\u001b[43mmetric_computation_configuration\u001b[49m\u001b[38;5;241;43m.\u001b[39;49m\u001b[43mmetric_provider_kwargs\u001b[49m\n\u001b[0;32m    557\u001b[0m \u001b[43m    \u001b[49m\u001b[43m)\u001b[49m\n\u001b[0;32m    558\u001b[0m \u001b[38;5;28;01mexcept\u001b[39;00m \u001b[38;5;167;01mException\u001b[39;00m \u001b[38;5;28;01mas\u001b[39;00m e:\n",
      "File \u001b[1;32m~\\AppData\\Local\\Programs\\Python\\Python311\\Lib\\site-packages\\great_expectations\\expectations\\metrics\\metric_provider.py:90\u001b[0m, in \u001b[0;36mmetric_partial.<locals>.wrapper.<locals>.inner_func\u001b[1;34m(*args, **kwargs)\u001b[0m\n\u001b[0;32m     88\u001b[0m \u001b[38;5;129m@wraps\u001b[39m(metric_fn)\n\u001b[0;32m     89\u001b[0m \u001b[38;5;28;01mdef\u001b[39;00m \u001b[38;5;21minner_func\u001b[39m(\u001b[38;5;241m*\u001b[39margs, \u001b[38;5;241m*\u001b[39m\u001b[38;5;241m*\u001b[39mkwargs):\n\u001b[1;32m---> 90\u001b[0m     \u001b[38;5;28;01mreturn\u001b[39;00m \u001b[43mmetric_fn\u001b[49m\u001b[43m(\u001b[49m\u001b[38;5;241;43m*\u001b[39;49m\u001b[43margs\u001b[49m\u001b[43m,\u001b[49m\u001b[43m \u001b[49m\u001b[38;5;241;43m*\u001b[39;49m\u001b[38;5;241;43m*\u001b[39;49m\u001b[43mkwargs\u001b[49m\u001b[43m)\u001b[49m\n",
      "File \u001b[1;32m~\\AppData\\Local\\Programs\\Python\\Python311\\Lib\\site-packages\\great_expectations\\expectations\\metrics\\column_aggregate_metric_provider.py:161\u001b[0m, in \u001b[0;36mcolumn_aggregate_partial.<locals>.wrapper.<locals>.inner_func\u001b[1;34m(cls, execution_engine, metric_domain_kwargs, metric_value_kwargs, metrics, runtime_configuration)\u001b[0m\n\u001b[0;32m    159\u001b[0m column_name: Union[\u001b[38;5;28mstr\u001b[39m, quoted_name] \u001b[38;5;241m=\u001b[39m accessor_domain_kwargs[\u001b[38;5;124m\"\u001b[39m\u001b[38;5;124mcolumn\u001b[39m\u001b[38;5;124m\"\u001b[39m]\n\u001b[1;32m--> 161\u001b[0m column_name \u001b[38;5;241m=\u001b[39m \u001b[43mget_dbms_compatible_column_names\u001b[49m\u001b[43m(\u001b[49m\n\u001b[0;32m    162\u001b[0m \u001b[43m    \u001b[49m\u001b[43mcolumn_names\u001b[49m\u001b[38;5;241;43m=\u001b[39;49m\u001b[43mcolumn_name\u001b[49m\u001b[43m,\u001b[49m\n\u001b[0;32m    163\u001b[0m \u001b[43m    \u001b[49m\u001b[43mbatch_columns_list\u001b[49m\u001b[38;5;241;43m=\u001b[39;49m\u001b[43mmetrics\u001b[49m\u001b[43m[\u001b[49m\u001b[38;5;124;43m\"\u001b[39;49m\u001b[38;5;124;43mtable.columns\u001b[39;49m\u001b[38;5;124;43m\"\u001b[39;49m\u001b[43m]\u001b[49m\u001b[43m,\u001b[49m\n\u001b[0;32m    164\u001b[0m \u001b[43m\u001b[49m\u001b[43m)\u001b[49m\n\u001b[0;32m    166\u001b[0m sqlalchemy_engine: sa\u001b[38;5;241m.\u001b[39mengine\u001b[38;5;241m.\u001b[39mEngine \u001b[38;5;241m=\u001b[39m execution_engine\u001b[38;5;241m.\u001b[39mengine\n",
      "File \u001b[1;32m~\\AppData\\Local\\Programs\\Python\\Python311\\Lib\\site-packages\\great_expectations\\expectations\\metrics\\util.py:675\u001b[0m, in \u001b[0;36mget_dbms_compatible_column_names\u001b[1;34m(column_names, batch_columns_list, error_message_template)\u001b[0m\n\u001b[0;32m    655\u001b[0m \u001b[38;5;250m\u001b[39m\u001b[38;5;124;03m\"\"\"\u001b[39;00m\n\u001b[0;32m    656\u001b[0m \u001b[38;5;124;03mCase non-sensitivity is expressed in upper case by common DBMS backends and in lower case by SQLAlchemy, with any\u001b[39;00m\n\u001b[0;32m    657\u001b[0m \u001b[38;5;124;03mdeviations enclosed with double quotes.\u001b[39;00m\n\u001b[1;32m   (...)\u001b[0m\n\u001b[0;32m    670\u001b[0m \u001b[38;5;124;03m    Single property-typed column name object or list of property-typed column name objects (depending on input).\u001b[39;00m\n\u001b[0;32m    671\u001b[0m \u001b[38;5;124;03m\"\"\"\u001b[39;00m\n\u001b[0;32m    672\u001b[0m normalized_typed_batch_columns_mappings: List[\n\u001b[0;32m    673\u001b[0m     Tuple[\u001b[38;5;28mstr\u001b[39m, \u001b[38;5;28mstr\u001b[39m \u001b[38;5;241m|\u001b[39m sqlalchemy\u001b[38;5;241m.\u001b[39msql\u001b[38;5;241m.\u001b[39mquoted_name]\n\u001b[0;32m    674\u001b[0m ] \u001b[38;5;241m=\u001b[39m (\n\u001b[1;32m--> 675\u001b[0m     \u001b[43m_verify_column_names_exist_and_get_normalized_typed_column_names_map\u001b[49m\u001b[43m(\u001b[49m\n\u001b[0;32m    676\u001b[0m \u001b[43m        \u001b[49m\u001b[43mcolumn_names\u001b[49m\u001b[38;5;241;43m=\u001b[39;49m\u001b[43mcolumn_names\u001b[49m\u001b[43m,\u001b[49m\n\u001b[0;32m    677\u001b[0m \u001b[43m        \u001b[49m\u001b[43mbatch_columns_list\u001b[49m\u001b[38;5;241;43m=\u001b[39;49m\u001b[43mbatch_columns_list\u001b[49m\u001b[43m,\u001b[49m\n\u001b[0;32m    678\u001b[0m \u001b[43m        \u001b[49m\u001b[43merror_message_template\u001b[49m\u001b[38;5;241;43m=\u001b[39;49m\u001b[43merror_message_template\u001b[49m\u001b[43m,\u001b[49m\n\u001b[0;32m    679\u001b[0m \u001b[43m    \u001b[49m\u001b[43m)\u001b[49m\n\u001b[0;32m    680\u001b[0m     \u001b[38;5;129;01mor\u001b[39;00m []\n\u001b[0;32m    681\u001b[0m )\n\u001b[0;32m    683\u001b[0m element: Tuple[\u001b[38;5;28mstr\u001b[39m, \u001b[38;5;28mstr\u001b[39m \u001b[38;5;241m|\u001b[39m sqlalchemy\u001b[38;5;241m.\u001b[39msql\u001b[38;5;241m.\u001b[39mquoted_name]\n",
      "File \u001b[1;32m~\\AppData\\Local\\Programs\\Python\\Python311\\Lib\\site-packages\\great_expectations\\expectations\\metrics\\util.py:754\u001b[0m, in \u001b[0;36m_verify_column_names_exist_and_get_normalized_typed_column_names_map\u001b[1;34m(column_names, batch_columns_list, error_message_template, verify_only)\u001b[0m\n\u001b[0;32m    753\u001b[0m \u001b[38;5;28;01mif\u001b[39;00m normalized_column_name_mapping \u001b[38;5;129;01mis\u001b[39;00m \u001b[38;5;28;01mNone\u001b[39;00m:\n\u001b[1;32m--> 754\u001b[0m     \u001b[38;5;28;01mraise\u001b[39;00m gx_exceptions\u001b[38;5;241m.\u001b[39mInvalidMetricAccessorDomainKwargsKeyError(\n\u001b[0;32m    755\u001b[0m         message\u001b[38;5;241m=\u001b[39merror_message_template\u001b[38;5;241m.\u001b[39mformat(column_name\u001b[38;5;241m=\u001b[39mcolumn_name)\n\u001b[0;32m    756\u001b[0m     )\n\u001b[0;32m    757\u001b[0m \u001b[38;5;28;01melse\u001b[39;00m:\n",
      "\u001b[1;31mInvalidMetricAccessorDomainKwargsKeyError\u001b[0m: Error: The column \"Size\" in BatchData does not exist.",
      "\nThe above exception was the direct cause of the following exception:\n",
      "\u001b[1;31mMetricResolutionError\u001b[0m                     Traceback (most recent call last)",
      "Cell \u001b[1;32mIn[48], line 1\u001b[0m\n\u001b[1;32m----> 1\u001b[0m \u001b[43mvalidator\u001b[49m\u001b[38;5;241;43m.\u001b[39;49m\u001b[43mexpect_column_unique_value_count_to_be_between\u001b[49m\u001b[43m(\u001b[49m\u001b[43mcolumn\u001b[49m\u001b[38;5;241;43m=\u001b[39;49m\u001b[38;5;124;43m'\u001b[39;49m\u001b[38;5;124;43mSize\u001b[39;49m\u001b[38;5;124;43m'\u001b[39;49m\u001b[43m,\u001b[49m\u001b[43m \u001b[49m\u001b[43mmax_value\u001b[49m\u001b[38;5;241;43m=\u001b[39;49m\u001b[38;5;241;43m18\u001b[39;49m\u001b[43m,\u001b[49m\u001b[43m \u001b[49m\u001b[43mmin_value\u001b[49m\u001b[38;5;241;43m=\u001b[39;49m\u001b[38;5;241;43m18\u001b[39;49m\u001b[43m,\u001b[49m\u001b[43m \u001b[49m\u001b[43mstrict_max\u001b[49m\u001b[38;5;241;43m=\u001b[39;49m\u001b[38;5;28;43;01mFalse\u001b[39;49;00m\u001b[43m,\u001b[49m\u001b[43m \u001b[49m\u001b[43mstrict_min\u001b[49m\u001b[38;5;241;43m=\u001b[39;49m\u001b[38;5;28;43;01mFalse\u001b[39;49;00m\u001b[43m,\u001b[49m\u001b[43m \u001b[49m\u001b[43mmeta\u001b[49m\u001b[38;5;241;43m=\u001b[39;49m\u001b[43m{\u001b[49m\u001b[38;5;124;43m'\u001b[39;49m\u001b[38;5;124;43mprofiler_details\u001b[39;49m\u001b[38;5;124;43m'\u001b[39;49m\u001b[43m:\u001b[49m\u001b[43m \u001b[49m\u001b[43m{\u001b[49m\u001b[38;5;124;43m'\u001b[39;49m\u001b[38;5;124;43mmetric_configuration\u001b[39;49m\u001b[38;5;124;43m'\u001b[39;49m\u001b[43m:\u001b[49m\u001b[43m \u001b[49m\u001b[43m{\u001b[49m\u001b[38;5;124;43m'\u001b[39;49m\u001b[38;5;124;43mdomain_kwargs\u001b[39;49m\u001b[38;5;124;43m'\u001b[39;49m\u001b[43m:\u001b[49m\u001b[43m \u001b[49m\u001b[43m{\u001b[49m\u001b[38;5;124;43m'\u001b[39;49m\u001b[38;5;124;43mcolumn\u001b[39;49m\u001b[38;5;124;43m'\u001b[39;49m\u001b[43m:\u001b[49m\u001b[43m \u001b[49m\u001b[38;5;124;43m'\u001b[39;49m\u001b[38;5;124;43mSize\u001b[39;49m\u001b[38;5;124;43m'\u001b[39;49m\u001b[43m}\u001b[49m\u001b[43m,\u001b[49m\u001b[43m \u001b[49m\u001b[38;5;124;43m'\u001b[39;49m\u001b[38;5;124;43mmetric_name\u001b[39;49m\u001b[38;5;124;43m'\u001b[39;49m\u001b[43m:\u001b[49m\u001b[43m \u001b[49m\u001b[38;5;124;43m'\u001b[39;49m\u001b[38;5;124;43mcolumn.distinct_values.count\u001b[39;49m\u001b[38;5;124;43m'\u001b[39;49m\u001b[43m,\u001b[49m\u001b[43m \u001b[49m\u001b[38;5;124;43m'\u001b[39;49m\u001b[38;5;124;43mmetric_value_kwargs\u001b[39;49m\u001b[38;5;124;43m'\u001b[39;49m\u001b[43m:\u001b[49m\u001b[43m \u001b[49m\u001b[38;5;28;43;01mNone\u001b[39;49;00m\u001b[43m}\u001b[49m\u001b[43m,\u001b[49m\u001b[43m \u001b[49m\u001b[38;5;124;43m'\u001b[39;49m\u001b[38;5;124;43mnum_batches\u001b[39;49m\u001b[38;5;124;43m'\u001b[39;49m\u001b[43m:\u001b[49m\u001b[43m \u001b[49m\u001b[38;5;241;43m1\u001b[39;49m\u001b[43m}\u001b[49m\u001b[43m}\u001b[49m\u001b[43m)\u001b[49m\n",
      "File \u001b[1;32m~\\AppData\\Local\\Programs\\Python\\Python311\\Lib\\site-packages\\great_expectations\\validator\\validator.py:608\u001b[0m, in \u001b[0;36mValidator.validate_expectation.<locals>.inst_expectation\u001b[1;34m(*args, **kwargs)\u001b[0m\n\u001b[0;32m    602\u001b[0m         validation_result \u001b[38;5;241m=\u001b[39m ExpectationValidationResult(\n\u001b[0;32m    603\u001b[0m             success\u001b[38;5;241m=\u001b[39m\u001b[38;5;28;01mFalse\u001b[39;00m,\n\u001b[0;32m    604\u001b[0m             exception_info\u001b[38;5;241m=\u001b[39mexception_info,\n\u001b[0;32m    605\u001b[0m             expectation_config\u001b[38;5;241m=\u001b[39mconfiguration,\n\u001b[0;32m    606\u001b[0m         )\n\u001b[0;32m    607\u001b[0m     \u001b[38;5;28;01melse\u001b[39;00m:\n\u001b[1;32m--> 608\u001b[0m         \u001b[38;5;28;01mraise\u001b[39;00m err\n\u001b[0;32m    610\u001b[0m \u001b[38;5;28;01mif\u001b[39;00m \u001b[38;5;28mself\u001b[39m\u001b[38;5;241m.\u001b[39m_include_rendered_content:\n\u001b[0;32m    611\u001b[0m     validation_result\u001b[38;5;241m.\u001b[39mrender()\n",
      "File \u001b[1;32m~\\AppData\\Local\\Programs\\Python\\Python311\\Lib\\site-packages\\great_expectations\\validator\\validator.py:571\u001b[0m, in \u001b[0;36mValidator.validate_expectation.<locals>.inst_expectation\u001b[1;34m(*args, **kwargs)\u001b[0m\n\u001b[0;32m    567\u001b[0m     validation_result \u001b[38;5;241m=\u001b[39m ExpectationValidationResult(\n\u001b[0;32m    568\u001b[0m         expectation_config\u001b[38;5;241m=\u001b[39mcopy\u001b[38;5;241m.\u001b[39mdeepcopy(expectation\u001b[38;5;241m.\u001b[39mconfiguration)\n\u001b[0;32m    569\u001b[0m     )\n\u001b[0;32m    570\u001b[0m \u001b[38;5;28;01melse\u001b[39;00m:\n\u001b[1;32m--> 571\u001b[0m     validation_result \u001b[38;5;241m=\u001b[39m \u001b[43mexpectation\u001b[49m\u001b[38;5;241;43m.\u001b[39;49m\u001b[43mvalidate\u001b[49m\u001b[43m(\u001b[49m\n\u001b[0;32m    572\u001b[0m \u001b[43m        \u001b[49m\u001b[43mvalidator\u001b[49m\u001b[38;5;241;43m=\u001b[39;49m\u001b[38;5;28;43mself\u001b[39;49m\u001b[43m,\u001b[49m\n\u001b[0;32m    573\u001b[0m \u001b[43m        \u001b[49m\u001b[43mevaluation_parameters\u001b[49m\u001b[38;5;241;43m=\u001b[39;49m\u001b[38;5;28;43mself\u001b[39;49m\u001b[38;5;241;43m.\u001b[39;49m\u001b[43m_expectation_suite\u001b[49m\u001b[38;5;241;43m.\u001b[39;49m\u001b[43mevaluation_parameters\u001b[49m\u001b[43m,\u001b[49m\n\u001b[0;32m    574\u001b[0m \u001b[43m        \u001b[49m\u001b[43mdata_context\u001b[49m\u001b[38;5;241;43m=\u001b[39;49m\u001b[38;5;28;43mself\u001b[39;49m\u001b[38;5;241;43m.\u001b[39;49m\u001b[43m_data_context\u001b[49m\u001b[43m,\u001b[49m\n\u001b[0;32m    575\u001b[0m \u001b[43m        \u001b[49m\u001b[43mruntime_configuration\u001b[49m\u001b[38;5;241;43m=\u001b[39;49m\u001b[43mbasic_runtime_configuration\u001b[49m\u001b[43m,\u001b[49m\n\u001b[0;32m    576\u001b[0m \u001b[43m    \u001b[49m\u001b[43m)\u001b[49m\n\u001b[0;32m    578\u001b[0m \u001b[38;5;66;03m# If validate has set active_validation to true, then we do not save the config to avoid\u001b[39;00m\n\u001b[0;32m    579\u001b[0m \u001b[38;5;66;03m# saving updating expectation configs to the same suite during validation runs\u001b[39;00m\n\u001b[0;32m    580\u001b[0m \u001b[38;5;28;01mif\u001b[39;00m \u001b[38;5;28mself\u001b[39m\u001b[38;5;241m.\u001b[39m_active_validation \u001b[38;5;129;01mis\u001b[39;00m \u001b[38;5;28;01mTrue\u001b[39;00m:\n",
      "File \u001b[1;32m~\\AppData\\Local\\Programs\\Python\\Python311\\Lib\\site-packages\\great_expectations\\expectations\\expectation.py:1264\u001b[0m, in \u001b[0;36mExpectation.validate\u001b[1;34m(self, validator, configuration, evaluation_parameters, interactive_evaluation, data_context, runtime_configuration)\u001b[0m\n\u001b[0;32m   1255\u001b[0m \u001b[38;5;28mself\u001b[39m\u001b[38;5;241m.\u001b[39m_warn_if_result_format_config_in_expectation_configuration(\n\u001b[0;32m   1256\u001b[0m     configuration\u001b[38;5;241m=\u001b[39mconfiguration\n\u001b[0;32m   1257\u001b[0m )\n\u001b[0;32m   1259\u001b[0m configuration\u001b[38;5;241m.\u001b[39mprocess_evaluation_parameters(\n\u001b[0;32m   1260\u001b[0m     evaluation_parameters, interactive_evaluation, data_context\n\u001b[0;32m   1261\u001b[0m )\n\u001b[0;32m   1262\u001b[0m expectation_validation_result_list: \u001b[38;5;28mlist\u001b[39m[\n\u001b[0;32m   1263\u001b[0m     ExpectationValidationResult\n\u001b[1;32m-> 1264\u001b[0m ] \u001b[38;5;241m=\u001b[39m \u001b[43mvalidator\u001b[49m\u001b[38;5;241;43m.\u001b[39;49m\u001b[43mgraph_validate\u001b[49m\u001b[43m(\u001b[49m\n\u001b[0;32m   1265\u001b[0m \u001b[43m    \u001b[49m\u001b[43mconfigurations\u001b[49m\u001b[38;5;241;43m=\u001b[39;49m\u001b[43m[\u001b[49m\u001b[43mconfiguration\u001b[49m\u001b[43m]\u001b[49m\u001b[43m,\u001b[49m\n\u001b[0;32m   1266\u001b[0m \u001b[43m    \u001b[49m\u001b[43mruntime_configuration\u001b[49m\u001b[38;5;241;43m=\u001b[39;49m\u001b[43mruntime_configuration\u001b[49m\u001b[43m,\u001b[49m\n\u001b[0;32m   1267\u001b[0m \u001b[43m\u001b[49m\u001b[43m)\u001b[49m\n\u001b[0;32m   1268\u001b[0m \u001b[38;5;28;01mreturn\u001b[39;00m expectation_validation_result_list[\u001b[38;5;241m0\u001b[39m]\n",
      "File \u001b[1;32m~\\AppData\\Local\\Programs\\Python\\Python311\\Lib\\site-packages\\great_expectations\\validator\\validator.py:1059\u001b[0m, in \u001b[0;36mValidator.graph_validate\u001b[1;34m(self, configurations, runtime_configuration)\u001b[0m\n\u001b[0;32m   1057\u001b[0m         \u001b[38;5;28;01mreturn\u001b[39;00m evrs\n\u001b[0;32m   1058\u001b[0m     \u001b[38;5;28;01melse\u001b[39;00m:\n\u001b[1;32m-> 1059\u001b[0m         \u001b[38;5;28;01mraise\u001b[39;00m err\n\u001b[0;32m   1061\u001b[0m configuration: ExpectationConfiguration\n\u001b[0;32m   1062\u001b[0m result: ExpectationValidationResult\n",
      "File \u001b[1;32m~\\AppData\\Local\\Programs\\Python\\Python311\\Lib\\site-packages\\great_expectations\\validator\\validator.py:1038\u001b[0m, in \u001b[0;36mValidator.graph_validate\u001b[1;34m(self, configurations, runtime_configuration)\u001b[0m\n\u001b[0;32m   1031\u001b[0m resolved_metrics: Dict[Tuple[\u001b[38;5;28mstr\u001b[39m, \u001b[38;5;28mstr\u001b[39m, \u001b[38;5;28mstr\u001b[39m], MetricValue]\n\u001b[0;32m   1033\u001b[0m \u001b[38;5;28;01mtry\u001b[39;00m:\n\u001b[0;32m   1034\u001b[0m     (\n\u001b[0;32m   1035\u001b[0m         resolved_metrics,\n\u001b[0;32m   1036\u001b[0m         evrs,\n\u001b[0;32m   1037\u001b[0m         processed_configurations,\n\u001b[1;32m-> 1038\u001b[0m     ) \u001b[38;5;241m=\u001b[39m \u001b[38;5;28;43mself\u001b[39;49m\u001b[38;5;241;43m.\u001b[39;49m\u001b[43m_resolve_suite_level_graph_and_process_metric_evaluation_errors\u001b[49m\u001b[43m(\u001b[49m\n\u001b[0;32m   1039\u001b[0m \u001b[43m        \u001b[49m\u001b[43mgraph\u001b[49m\u001b[38;5;241;43m=\u001b[39;49m\u001b[43mgraph\u001b[49m\u001b[43m,\u001b[49m\n\u001b[0;32m   1040\u001b[0m \u001b[43m        \u001b[49m\u001b[43mruntime_configuration\u001b[49m\u001b[38;5;241;43m=\u001b[39;49m\u001b[43mruntime_configuration\u001b[49m\u001b[43m,\u001b[49m\n\u001b[0;32m   1041\u001b[0m \u001b[43m        \u001b[49m\u001b[43mexpectation_validation_graphs\u001b[49m\u001b[38;5;241;43m=\u001b[39;49m\u001b[43mexpectation_validation_graphs\u001b[49m\u001b[43m,\u001b[49m\n\u001b[0;32m   1042\u001b[0m \u001b[43m        \u001b[49m\u001b[43mevrs\u001b[49m\u001b[38;5;241;43m=\u001b[39;49m\u001b[43mevrs\u001b[49m\u001b[43m,\u001b[49m\n\u001b[0;32m   1043\u001b[0m \u001b[43m        \u001b[49m\u001b[43mprocessed_configurations\u001b[49m\u001b[38;5;241;43m=\u001b[39;49m\u001b[43mprocessed_configurations\u001b[49m\u001b[43m,\u001b[49m\n\u001b[0;32m   1044\u001b[0m \u001b[43m        \u001b[49m\u001b[43mshow_progress_bars\u001b[49m\u001b[38;5;241;43m=\u001b[39;49m\u001b[38;5;28;43mself\u001b[39;49m\u001b[38;5;241;43m.\u001b[39;49m\u001b[43m_determine_progress_bars\u001b[49m\u001b[43m(\u001b[49m\u001b[43m)\u001b[49m\u001b[43m,\u001b[49m\n\u001b[0;32m   1045\u001b[0m \u001b[43m    \u001b[49m\u001b[43m)\u001b[49m\n\u001b[0;32m   1046\u001b[0m \u001b[38;5;28;01mexcept\u001b[39;00m \u001b[38;5;167;01mException\u001b[39;00m \u001b[38;5;28;01mas\u001b[39;00m err:\n\u001b[0;32m   1047\u001b[0m     \u001b[38;5;66;03m# If a general Exception occurs during the execution of \"ValidationGraph.resolve()\", then\u001b[39;00m\n\u001b[0;32m   1048\u001b[0m     \u001b[38;5;66;03m# all expectations in the suite are impacted, because it is impossible to attribute the failure to a metric.\u001b[39;00m\n\u001b[0;32m   1049\u001b[0m     \u001b[38;5;28;01mif\u001b[39;00m catch_exceptions:\n",
      "File \u001b[1;32m~\\AppData\\Local\\Programs\\Python\\Python311\\Lib\\site-packages\\great_expectations\\validator\\validator.py:1197\u001b[0m, in \u001b[0;36mValidator._resolve_suite_level_graph_and_process_metric_evaluation_errors\u001b[1;34m(self, graph, runtime_configuration, expectation_validation_graphs, evrs, processed_configurations, show_progress_bars)\u001b[0m\n\u001b[0;32m   1189\u001b[0m resolved_metrics: Dict[Tuple[\u001b[38;5;28mstr\u001b[39m, \u001b[38;5;28mstr\u001b[39m, \u001b[38;5;28mstr\u001b[39m], MetricValue]\n\u001b[0;32m   1190\u001b[0m aborted_metrics_info: Dict[\n\u001b[0;32m   1191\u001b[0m     Tuple[\u001b[38;5;28mstr\u001b[39m, \u001b[38;5;28mstr\u001b[39m, \u001b[38;5;28mstr\u001b[39m],\n\u001b[0;32m   1192\u001b[0m     Dict[\u001b[38;5;28mstr\u001b[39m, Union[MetricConfiguration, Set[ExceptionInfo], \u001b[38;5;28mint\u001b[39m]],\n\u001b[0;32m   1193\u001b[0m ]\n\u001b[0;32m   1194\u001b[0m (\n\u001b[0;32m   1195\u001b[0m     resolved_metrics,\n\u001b[0;32m   1196\u001b[0m     aborted_metrics_info,\n\u001b[1;32m-> 1197\u001b[0m ) \u001b[38;5;241m=\u001b[39m \u001b[38;5;28;43mself\u001b[39;49m\u001b[38;5;241;43m.\u001b[39;49m\u001b[43m_metrics_calculator\u001b[49m\u001b[38;5;241;43m.\u001b[39;49m\u001b[43mresolve_validation_graph\u001b[49m\u001b[43m(\u001b[49m\n\u001b[0;32m   1198\u001b[0m \u001b[43m    \u001b[49m\u001b[43mgraph\u001b[49m\u001b[38;5;241;43m=\u001b[39;49m\u001b[43mgraph\u001b[49m\u001b[43m,\u001b[49m\n\u001b[0;32m   1199\u001b[0m \u001b[43m    \u001b[49m\u001b[43mruntime_configuration\u001b[49m\u001b[38;5;241;43m=\u001b[39;49m\u001b[43mruntime_configuration\u001b[49m\u001b[43m,\u001b[49m\n\u001b[0;32m   1200\u001b[0m \u001b[43m    \u001b[49m\u001b[43mmin_graph_edges_pbar_enable\u001b[49m\u001b[38;5;241;43m=\u001b[39;49m\u001b[38;5;241;43m0\u001b[39;49m\u001b[43m,\u001b[49m\n\u001b[0;32m   1201\u001b[0m \u001b[43m\u001b[49m\u001b[43m)\u001b[49m\n\u001b[0;32m   1203\u001b[0m \u001b[38;5;66;03m# Trace MetricResolutionError occurrences to expectations relying on corresponding malfunctioning metrics.\u001b[39;00m\n\u001b[0;32m   1204\u001b[0m rejected_configurations: List[ExpectationConfiguration] \u001b[38;5;241m=\u001b[39m []\n",
      "File \u001b[1;32m~\\AppData\\Local\\Programs\\Python\\Python311\\Lib\\site-packages\\great_expectations\\validator\\metrics_calculator.py:268\u001b[0m, in \u001b[0;36mMetricsCalculator.resolve_validation_graph\u001b[1;34m(self, graph, runtime_configuration, min_graph_edges_pbar_enable)\u001b[0m\n\u001b[0;32m    263\u001b[0m resolved_metrics: Dict[Tuple[\u001b[38;5;28mstr\u001b[39m, \u001b[38;5;28mstr\u001b[39m, \u001b[38;5;28mstr\u001b[39m], MetricValue]\n\u001b[0;32m    264\u001b[0m aborted_metrics_info: Dict[\n\u001b[0;32m    265\u001b[0m     Tuple[\u001b[38;5;28mstr\u001b[39m, \u001b[38;5;28mstr\u001b[39m, \u001b[38;5;28mstr\u001b[39m],\n\u001b[0;32m    266\u001b[0m     Dict[\u001b[38;5;28mstr\u001b[39m, Union[MetricConfiguration, Set[ExceptionInfo], \u001b[38;5;28mint\u001b[39m]],\n\u001b[0;32m    267\u001b[0m ]\n\u001b[1;32m--> 268\u001b[0m resolved_metrics, aborted_metrics_info \u001b[38;5;241m=\u001b[39m \u001b[43mgraph\u001b[49m\u001b[38;5;241;43m.\u001b[39;49m\u001b[43mresolve\u001b[49m\u001b[43m(\u001b[49m\n\u001b[0;32m    269\u001b[0m \u001b[43m    \u001b[49m\u001b[43mruntime_configuration\u001b[49m\u001b[38;5;241;43m=\u001b[39;49m\u001b[43mruntime_configuration\u001b[49m\u001b[43m,\u001b[49m\n\u001b[0;32m    270\u001b[0m \u001b[43m    \u001b[49m\u001b[43mmin_graph_edges_pbar_enable\u001b[49m\u001b[38;5;241;43m=\u001b[39;49m\u001b[43mmin_graph_edges_pbar_enable\u001b[49m\u001b[43m,\u001b[49m\n\u001b[0;32m    271\u001b[0m \u001b[43m    \u001b[49m\u001b[43mshow_progress_bars\u001b[49m\u001b[38;5;241;43m=\u001b[39;49m\u001b[38;5;28;43mself\u001b[39;49m\u001b[38;5;241;43m.\u001b[39;49m\u001b[43m_show_progress_bars\u001b[49m\u001b[43m,\u001b[49m\n\u001b[0;32m    272\u001b[0m \u001b[43m\u001b[49m\u001b[43m)\u001b[49m\n\u001b[0;32m    273\u001b[0m \u001b[38;5;28;01mreturn\u001b[39;00m resolved_metrics, aborted_metrics_info\n",
      "File \u001b[1;32m~\\AppData\\Local\\Programs\\Python\\Python311\\Lib\\site-packages\\great_expectations\\validator\\validation_graph.py:200\u001b[0m, in \u001b[0;36mValidationGraph.resolve\u001b[1;34m(self, runtime_configuration, min_graph_edges_pbar_enable, show_progress_bars)\u001b[0m\n\u001b[0;32m    194\u001b[0m resolved_metrics: Dict[Tuple[\u001b[38;5;28mstr\u001b[39m, \u001b[38;5;28mstr\u001b[39m, \u001b[38;5;28mstr\u001b[39m], MetricValue] \u001b[38;5;241m=\u001b[39m {}\n\u001b[0;32m    196\u001b[0m \u001b[38;5;66;03m# updates graph with aborted metrics\u001b[39;00m\n\u001b[0;32m    197\u001b[0m aborted_metrics_info: Dict[\n\u001b[0;32m    198\u001b[0m     Tuple[\u001b[38;5;28mstr\u001b[39m, \u001b[38;5;28mstr\u001b[39m, \u001b[38;5;28mstr\u001b[39m],\n\u001b[0;32m    199\u001b[0m     Dict[\u001b[38;5;28mstr\u001b[39m, Union[MetricConfiguration, Set[ExceptionInfo], \u001b[38;5;28mint\u001b[39m]],\n\u001b[1;32m--> 200\u001b[0m ] \u001b[38;5;241m=\u001b[39m \u001b[38;5;28;43mself\u001b[39;49m\u001b[38;5;241;43m.\u001b[39;49m\u001b[43m_resolve\u001b[49m\u001b[43m(\u001b[49m\n\u001b[0;32m    201\u001b[0m \u001b[43m    \u001b[49m\u001b[43mmetrics\u001b[49m\u001b[38;5;241;43m=\u001b[39;49m\u001b[43mresolved_metrics\u001b[49m\u001b[43m,\u001b[49m\n\u001b[0;32m    202\u001b[0m \u001b[43m    \u001b[49m\u001b[43mruntime_configuration\u001b[49m\u001b[38;5;241;43m=\u001b[39;49m\u001b[43mruntime_configuration\u001b[49m\u001b[43m,\u001b[49m\n\u001b[0;32m    203\u001b[0m \u001b[43m    \u001b[49m\u001b[43mmin_graph_edges_pbar_enable\u001b[49m\u001b[38;5;241;43m=\u001b[39;49m\u001b[43mmin_graph_edges_pbar_enable\u001b[49m\u001b[43m,\u001b[49m\n\u001b[0;32m    204\u001b[0m \u001b[43m    \u001b[49m\u001b[43mshow_progress_bars\u001b[49m\u001b[38;5;241;43m=\u001b[39;49m\u001b[43mshow_progress_bars\u001b[49m\u001b[43m,\u001b[49m\n\u001b[0;32m    205\u001b[0m \u001b[43m\u001b[49m\u001b[43m)\u001b[49m\n\u001b[0;32m    207\u001b[0m \u001b[38;5;28;01mreturn\u001b[39;00m resolved_metrics, aborted_metrics_info\n",
      "File \u001b[1;32m~\\AppData\\Local\\Programs\\Python\\Python311\\Lib\\site-packages\\great_expectations\\validator\\validation_graph.py:306\u001b[0m, in \u001b[0;36mValidationGraph._resolve\u001b[1;34m(self, metrics, runtime_configuration, min_graph_edges_pbar_enable, show_progress_bars)\u001b[0m\n\u001b[0;32m    302\u001b[0m                 failed_metric_info[failed_metric\u001b[38;5;241m.\u001b[39mid][\u001b[38;5;124m\"\u001b[39m\u001b[38;5;124mexception_info\u001b[39m\u001b[38;5;124m\"\u001b[39m] \u001b[38;5;241m=\u001b[39m {\n\u001b[0;32m    303\u001b[0m                     exception_info\n\u001b[0;32m    304\u001b[0m                 }\n\u001b[0;32m    305\u001b[0m     \u001b[38;5;28;01melse\u001b[39;00m:\n\u001b[1;32m--> 306\u001b[0m         \u001b[38;5;28;01mraise\u001b[39;00m err\n\u001b[0;32m    307\u001b[0m \u001b[38;5;28;01mexcept\u001b[39;00m \u001b[38;5;167;01mException\u001b[39;00m \u001b[38;5;28;01mas\u001b[39;00m e:\n\u001b[0;32m    308\u001b[0m     \u001b[38;5;28;01mif\u001b[39;00m catch_exceptions:\n",
      "File \u001b[1;32m~\\AppData\\Local\\Programs\\Python\\Python311\\Lib\\site-packages\\great_expectations\\validator\\validation_graph.py:276\u001b[0m, in \u001b[0;36mValidationGraph._resolve\u001b[1;34m(self, metrics, runtime_configuration, min_graph_edges_pbar_enable, show_progress_bars)\u001b[0m\n\u001b[0;32m    271\u001b[0m         computable_metrics\u001b[38;5;241m.\u001b[39madd(metric)\n\u001b[0;32m    273\u001b[0m \u001b[38;5;28;01mtry\u001b[39;00m:\n\u001b[0;32m    274\u001b[0m     \u001b[38;5;66;03m# Access \"ExecutionEngine.resolve_metrics()\" method, to resolve missing \"MetricConfiguration\" objects.\u001b[39;00m\n\u001b[0;32m    275\u001b[0m     metrics\u001b[38;5;241m.\u001b[39mupdate(\n\u001b[1;32m--> 276\u001b[0m         \u001b[38;5;28;43mself\u001b[39;49m\u001b[38;5;241;43m.\u001b[39;49m\u001b[43m_execution_engine\u001b[49m\u001b[38;5;241;43m.\u001b[39;49m\u001b[43mresolve_metrics\u001b[49m\u001b[43m(\u001b[49m\n\u001b[0;32m    277\u001b[0m \u001b[43m            \u001b[49m\u001b[43mmetrics_to_resolve\u001b[49m\u001b[38;5;241;43m=\u001b[39;49m\u001b[43mcomputable_metrics\u001b[49m\u001b[43m,\u001b[49m\n\u001b[0;32m    278\u001b[0m \u001b[43m            \u001b[49m\u001b[43mmetrics\u001b[49m\u001b[38;5;241;43m=\u001b[39;49m\u001b[43mmetrics\u001b[49m\u001b[43m,\u001b[49m\n\u001b[0;32m    279\u001b[0m \u001b[43m            \u001b[49m\u001b[43mruntime_configuration\u001b[49m\u001b[38;5;241;43m=\u001b[39;49m\u001b[43mruntime_configuration\u001b[49m\u001b[43m,\u001b[49m\n\u001b[0;32m    280\u001b[0m \u001b[43m        \u001b[49m\u001b[43m)\u001b[49m\n\u001b[0;32m    281\u001b[0m     )\n\u001b[0;32m    282\u001b[0m     progress_bar\u001b[38;5;241m.\u001b[39mupdate(\u001b[38;5;28mlen\u001b[39m(computable_metrics))\n\u001b[0;32m    283\u001b[0m     progress_bar\u001b[38;5;241m.\u001b[39mrefresh()\n",
      "File \u001b[1;32m~\\AppData\\Local\\Programs\\Python\\Python311\\Lib\\site-packages\\great_expectations\\execution_engine\\execution_engine.py:290\u001b[0m, in \u001b[0;36mExecutionEngine.resolve_metrics\u001b[1;34m(self, metrics_to_resolve, metrics, runtime_configuration)\u001b[0m\n\u001b[0;32m    281\u001b[0m metric_fn_bundle_configurations: List[MetricComputationConfiguration]\n\u001b[0;32m    282\u001b[0m (\n\u001b[0;32m    283\u001b[0m     metric_fn_direct_configurations,\n\u001b[0;32m    284\u001b[0m     metric_fn_bundle_configurations,\n\u001b[1;32m   (...)\u001b[0m\n\u001b[0;32m    288\u001b[0m     runtime_configuration\u001b[38;5;241m=\u001b[39mruntime_configuration,\n\u001b[0;32m    289\u001b[0m )\n\u001b[1;32m--> 290\u001b[0m \u001b[38;5;28;01mreturn\u001b[39;00m \u001b[38;5;28;43mself\u001b[39;49m\u001b[38;5;241;43m.\u001b[39;49m\u001b[43m_process_direct_and_bundled_metric_computation_configurations\u001b[49m\u001b[43m(\u001b[49m\n\u001b[0;32m    291\u001b[0m \u001b[43m    \u001b[49m\u001b[43mmetric_fn_direct_configurations\u001b[49m\u001b[38;5;241;43m=\u001b[39;49m\u001b[43mmetric_fn_direct_configurations\u001b[49m\u001b[43m,\u001b[49m\n\u001b[0;32m    292\u001b[0m \u001b[43m    \u001b[49m\u001b[43mmetric_fn_bundle_configurations\u001b[49m\u001b[38;5;241;43m=\u001b[39;49m\u001b[43mmetric_fn_bundle_configurations\u001b[49m\u001b[43m,\u001b[49m\n\u001b[0;32m    293\u001b[0m \u001b[43m\u001b[49m\u001b[43m)\u001b[49m\n",
      "File \u001b[1;32m~\\AppData\\Local\\Programs\\Python\\Python311\\Lib\\site-packages\\great_expectations\\execution_engine\\execution_engine.py:559\u001b[0m, in \u001b[0;36mExecutionEngine._process_direct_and_bundled_metric_computation_configurations\u001b[1;34m(self, metric_fn_direct_configurations, metric_fn_bundle_configurations)\u001b[0m\n\u001b[0;32m    553\u001b[0m         resolved_metrics[\n\u001b[0;32m    554\u001b[0m             metric_computation_configuration\u001b[38;5;241m.\u001b[39mmetric_configuration\u001b[38;5;241m.\u001b[39mid\n\u001b[0;32m    555\u001b[0m         ] \u001b[38;5;241m=\u001b[39m metric_computation_configuration\u001b[38;5;241m.\u001b[39mmetric_fn(  \u001b[38;5;66;03m# type: ignore[misc] # F not callable\u001b[39;00m\n\u001b[0;32m    556\u001b[0m             \u001b[38;5;241m*\u001b[39m\u001b[38;5;241m*\u001b[39mmetric_computation_configuration\u001b[38;5;241m.\u001b[39mmetric_provider_kwargs\n\u001b[0;32m    557\u001b[0m         )\n\u001b[0;32m    558\u001b[0m     \u001b[38;5;28;01mexcept\u001b[39;00m \u001b[38;5;167;01mException\u001b[39;00m \u001b[38;5;28;01mas\u001b[39;00m e:\n\u001b[1;32m--> 559\u001b[0m         \u001b[38;5;28;01mraise\u001b[39;00m gx_exceptions\u001b[38;5;241m.\u001b[39mMetricResolutionError(\n\u001b[0;32m    560\u001b[0m             message\u001b[38;5;241m=\u001b[39m\u001b[38;5;28mstr\u001b[39m(e),\n\u001b[0;32m    561\u001b[0m             failed_metrics\u001b[38;5;241m=\u001b[39m(\n\u001b[0;32m    562\u001b[0m                 metric_computation_configuration\u001b[38;5;241m.\u001b[39mmetric_configuration,\n\u001b[0;32m    563\u001b[0m             ),\n\u001b[0;32m    564\u001b[0m         ) \u001b[38;5;28;01mfrom\u001b[39;00m \u001b[38;5;21;01me\u001b[39;00m\n\u001b[0;32m    566\u001b[0m \u001b[38;5;28;01mtry\u001b[39;00m:\n\u001b[0;32m    567\u001b[0m     \u001b[38;5;66;03m# an engine-specific way of computing metrics together\u001b[39;00m\n\u001b[0;32m    568\u001b[0m     resolved_metric_bundle: Dict[\n\u001b[0;32m    569\u001b[0m         Tuple[\u001b[38;5;28mstr\u001b[39m, \u001b[38;5;28mstr\u001b[39m, \u001b[38;5;28mstr\u001b[39m], MetricValue\n\u001b[0;32m    570\u001b[0m     ] \u001b[38;5;241m=\u001b[39m \u001b[38;5;28mself\u001b[39m\u001b[38;5;241m.\u001b[39mresolve_metric_bundle(\n\u001b[0;32m    571\u001b[0m         metric_fn_bundle\u001b[38;5;241m=\u001b[39mmetric_fn_bundle_configurations\n\u001b[0;32m    572\u001b[0m     )\n",
      "\u001b[1;31mMetricResolutionError\u001b[0m: Error: The column \"Size\" in BatchData does not exist."
     ]
    }
   ],
   "source": [
    "\n",
    "validator.expect_column_unique_value_count_to_be_between(column='Size', max_value=18, min_value=18, strict_max=False, strict_min=False, meta={'profiler_details': {'metric_configuration': {'domain_kwargs': {'column': 'Size'}, 'metric_name': 'column.distinct_values.count', 'metric_value_kwargs': None}, 'num_batches': 1}})"
   ]
  },
  {
   "cell_type": "code",
   "execution_count": 49,
   "id": "7891fa09",
   "metadata": {},
   "outputs": [
    {
     "data": {
      "application/vnd.jupyter.widget-view+json": {
       "model_id": "d42d7b8fe8ef4aafac2916f71a2f3168",
       "version_major": 2,
       "version_minor": 0
      },
      "text/plain": [
       "Calculating Metrics:   0%|          | 0/10 [00:00<?, ?it/s]"
      ]
     },
     "metadata": {},
     "output_type": "display_data"
    },
    {
     "ename": "MetricResolutionError",
     "evalue": "Error: The column \"Size\" in BatchData does not exist.",
     "output_type": "error",
     "traceback": [
      "\u001b[1;31m---------------------------------------------------------------------------\u001b[0m",
      "\u001b[1;31mInvalidMetricAccessorDomainKwargsKeyError\u001b[0m Traceback (most recent call last)",
      "File \u001b[1;32m~\\AppData\\Local\\Programs\\Python\\Python311\\Lib\\site-packages\\great_expectations\\execution_engine\\execution_engine.py:555\u001b[0m, in \u001b[0;36mExecutionEngine._process_direct_and_bundled_metric_computation_configurations\u001b[1;34m(self, metric_fn_direct_configurations, metric_fn_bundle_configurations)\u001b[0m\n\u001b[0;32m    552\u001b[0m \u001b[38;5;28;01mtry\u001b[39;00m:\n\u001b[0;32m    553\u001b[0m     resolved_metrics[\n\u001b[0;32m    554\u001b[0m         metric_computation_configuration\u001b[38;5;241m.\u001b[39mmetric_configuration\u001b[38;5;241m.\u001b[39mid\n\u001b[1;32m--> 555\u001b[0m     ] \u001b[38;5;241m=\u001b[39m \u001b[43mmetric_computation_configuration\u001b[49m\u001b[38;5;241;43m.\u001b[39;49m\u001b[43mmetric_fn\u001b[49m\u001b[43m(\u001b[49m\u001b[43m  \u001b[49m\u001b[38;5;66;43;03m# type: ignore[misc] # F not callable\u001b[39;49;00m\n\u001b[0;32m    556\u001b[0m \u001b[43m        \u001b[49m\u001b[38;5;241;43m*\u001b[39;49m\u001b[38;5;241;43m*\u001b[39;49m\u001b[43mmetric_computation_configuration\u001b[49m\u001b[38;5;241;43m.\u001b[39;49m\u001b[43mmetric_provider_kwargs\u001b[49m\n\u001b[0;32m    557\u001b[0m \u001b[43m    \u001b[49m\u001b[43m)\u001b[49m\n\u001b[0;32m    558\u001b[0m \u001b[38;5;28;01mexcept\u001b[39;00m \u001b[38;5;167;01mException\u001b[39;00m \u001b[38;5;28;01mas\u001b[39;00m e:\n",
      "File \u001b[1;32m~\\AppData\\Local\\Programs\\Python\\Python311\\Lib\\site-packages\\great_expectations\\expectations\\metrics\\metric_provider.py:90\u001b[0m, in \u001b[0;36mmetric_partial.<locals>.wrapper.<locals>.inner_func\u001b[1;34m(*args, **kwargs)\u001b[0m\n\u001b[0;32m     88\u001b[0m \u001b[38;5;129m@wraps\u001b[39m(metric_fn)\n\u001b[0;32m     89\u001b[0m \u001b[38;5;28;01mdef\u001b[39;00m \u001b[38;5;21minner_func\u001b[39m(\u001b[38;5;241m*\u001b[39margs, \u001b[38;5;241m*\u001b[39m\u001b[38;5;241m*\u001b[39mkwargs):\n\u001b[1;32m---> 90\u001b[0m     \u001b[38;5;28;01mreturn\u001b[39;00m \u001b[43mmetric_fn\u001b[49m\u001b[43m(\u001b[49m\u001b[38;5;241;43m*\u001b[39;49m\u001b[43margs\u001b[49m\u001b[43m,\u001b[49m\u001b[43m \u001b[49m\u001b[38;5;241;43m*\u001b[39;49m\u001b[38;5;241;43m*\u001b[39;49m\u001b[43mkwargs\u001b[49m\u001b[43m)\u001b[49m\n",
      "File \u001b[1;32m~\\AppData\\Local\\Programs\\Python\\Python311\\Lib\\site-packages\\great_expectations\\expectations\\metrics\\column_aggregate_metric_provider.py:161\u001b[0m, in \u001b[0;36mcolumn_aggregate_partial.<locals>.wrapper.<locals>.inner_func\u001b[1;34m(cls, execution_engine, metric_domain_kwargs, metric_value_kwargs, metrics, runtime_configuration)\u001b[0m\n\u001b[0;32m    159\u001b[0m column_name: Union[\u001b[38;5;28mstr\u001b[39m, quoted_name] \u001b[38;5;241m=\u001b[39m accessor_domain_kwargs[\u001b[38;5;124m\"\u001b[39m\u001b[38;5;124mcolumn\u001b[39m\u001b[38;5;124m\"\u001b[39m]\n\u001b[1;32m--> 161\u001b[0m column_name \u001b[38;5;241m=\u001b[39m \u001b[43mget_dbms_compatible_column_names\u001b[49m\u001b[43m(\u001b[49m\n\u001b[0;32m    162\u001b[0m \u001b[43m    \u001b[49m\u001b[43mcolumn_names\u001b[49m\u001b[38;5;241;43m=\u001b[39;49m\u001b[43mcolumn_name\u001b[49m\u001b[43m,\u001b[49m\n\u001b[0;32m    163\u001b[0m \u001b[43m    \u001b[49m\u001b[43mbatch_columns_list\u001b[49m\u001b[38;5;241;43m=\u001b[39;49m\u001b[43mmetrics\u001b[49m\u001b[43m[\u001b[49m\u001b[38;5;124;43m\"\u001b[39;49m\u001b[38;5;124;43mtable.columns\u001b[39;49m\u001b[38;5;124;43m\"\u001b[39;49m\u001b[43m]\u001b[49m\u001b[43m,\u001b[49m\n\u001b[0;32m    164\u001b[0m \u001b[43m\u001b[49m\u001b[43m)\u001b[49m\n\u001b[0;32m    166\u001b[0m sqlalchemy_engine: sa\u001b[38;5;241m.\u001b[39mengine\u001b[38;5;241m.\u001b[39mEngine \u001b[38;5;241m=\u001b[39m execution_engine\u001b[38;5;241m.\u001b[39mengine\n",
      "File \u001b[1;32m~\\AppData\\Local\\Programs\\Python\\Python311\\Lib\\site-packages\\great_expectations\\expectations\\metrics\\util.py:675\u001b[0m, in \u001b[0;36mget_dbms_compatible_column_names\u001b[1;34m(column_names, batch_columns_list, error_message_template)\u001b[0m\n\u001b[0;32m    655\u001b[0m \u001b[38;5;250m\u001b[39m\u001b[38;5;124;03m\"\"\"\u001b[39;00m\n\u001b[0;32m    656\u001b[0m \u001b[38;5;124;03mCase non-sensitivity is expressed in upper case by common DBMS backends and in lower case by SQLAlchemy, with any\u001b[39;00m\n\u001b[0;32m    657\u001b[0m \u001b[38;5;124;03mdeviations enclosed with double quotes.\u001b[39;00m\n\u001b[1;32m   (...)\u001b[0m\n\u001b[0;32m    670\u001b[0m \u001b[38;5;124;03m    Single property-typed column name object or list of property-typed column name objects (depending on input).\u001b[39;00m\n\u001b[0;32m    671\u001b[0m \u001b[38;5;124;03m\"\"\"\u001b[39;00m\n\u001b[0;32m    672\u001b[0m normalized_typed_batch_columns_mappings: List[\n\u001b[0;32m    673\u001b[0m     Tuple[\u001b[38;5;28mstr\u001b[39m, \u001b[38;5;28mstr\u001b[39m \u001b[38;5;241m|\u001b[39m sqlalchemy\u001b[38;5;241m.\u001b[39msql\u001b[38;5;241m.\u001b[39mquoted_name]\n\u001b[0;32m    674\u001b[0m ] \u001b[38;5;241m=\u001b[39m (\n\u001b[1;32m--> 675\u001b[0m     \u001b[43m_verify_column_names_exist_and_get_normalized_typed_column_names_map\u001b[49m\u001b[43m(\u001b[49m\n\u001b[0;32m    676\u001b[0m \u001b[43m        \u001b[49m\u001b[43mcolumn_names\u001b[49m\u001b[38;5;241;43m=\u001b[39;49m\u001b[43mcolumn_names\u001b[49m\u001b[43m,\u001b[49m\n\u001b[0;32m    677\u001b[0m \u001b[43m        \u001b[49m\u001b[43mbatch_columns_list\u001b[49m\u001b[38;5;241;43m=\u001b[39;49m\u001b[43mbatch_columns_list\u001b[49m\u001b[43m,\u001b[49m\n\u001b[0;32m    678\u001b[0m \u001b[43m        \u001b[49m\u001b[43merror_message_template\u001b[49m\u001b[38;5;241;43m=\u001b[39;49m\u001b[43merror_message_template\u001b[49m\u001b[43m,\u001b[49m\n\u001b[0;32m    679\u001b[0m \u001b[43m    \u001b[49m\u001b[43m)\u001b[49m\n\u001b[0;32m    680\u001b[0m     \u001b[38;5;129;01mor\u001b[39;00m []\n\u001b[0;32m    681\u001b[0m )\n\u001b[0;32m    683\u001b[0m element: Tuple[\u001b[38;5;28mstr\u001b[39m, \u001b[38;5;28mstr\u001b[39m \u001b[38;5;241m|\u001b[39m sqlalchemy\u001b[38;5;241m.\u001b[39msql\u001b[38;5;241m.\u001b[39mquoted_name]\n",
      "File \u001b[1;32m~\\AppData\\Local\\Programs\\Python\\Python311\\Lib\\site-packages\\great_expectations\\expectations\\metrics\\util.py:754\u001b[0m, in \u001b[0;36m_verify_column_names_exist_and_get_normalized_typed_column_names_map\u001b[1;34m(column_names, batch_columns_list, error_message_template, verify_only)\u001b[0m\n\u001b[0;32m    753\u001b[0m \u001b[38;5;28;01mif\u001b[39;00m normalized_column_name_mapping \u001b[38;5;129;01mis\u001b[39;00m \u001b[38;5;28;01mNone\u001b[39;00m:\n\u001b[1;32m--> 754\u001b[0m     \u001b[38;5;28;01mraise\u001b[39;00m gx_exceptions\u001b[38;5;241m.\u001b[39mInvalidMetricAccessorDomainKwargsKeyError(\n\u001b[0;32m    755\u001b[0m         message\u001b[38;5;241m=\u001b[39merror_message_template\u001b[38;5;241m.\u001b[39mformat(column_name\u001b[38;5;241m=\u001b[39mcolumn_name)\n\u001b[0;32m    756\u001b[0m     )\n\u001b[0;32m    757\u001b[0m \u001b[38;5;28;01melse\u001b[39;00m:\n",
      "\u001b[1;31mInvalidMetricAccessorDomainKwargsKeyError\u001b[0m: Error: The column \"Size\" in BatchData does not exist.",
      "\nThe above exception was the direct cause of the following exception:\n",
      "\u001b[1;31mMetricResolutionError\u001b[0m                     Traceback (most recent call last)",
      "Cell \u001b[1;32mIn[49], line 1\u001b[0m\n\u001b[1;32m----> 1\u001b[0m \u001b[43mvalidator\u001b[49m\u001b[38;5;241;43m.\u001b[39;49m\u001b[43mexpect_column_proportion_of_unique_values_to_be_between\u001b[49m\u001b[43m(\u001b[49m\u001b[43mcolumn\u001b[49m\u001b[38;5;241;43m=\u001b[39;49m\u001b[38;5;124;43m'\u001b[39;49m\u001b[38;5;124;43mSize\u001b[39;49m\u001b[38;5;124;43m'\u001b[39;49m\u001b[43m,\u001b[49m\u001b[43m \u001b[49m\u001b[43mmax_value\u001b[49m\u001b[38;5;241;43m=\u001b[39;49m\u001b[38;5;241;43m0.08530805687203792\u001b[39;49m\u001b[43m,\u001b[49m\u001b[43m \u001b[49m\u001b[43mmin_value\u001b[49m\u001b[38;5;241;43m=\u001b[39;49m\u001b[38;5;241;43m0.08530805687203792\u001b[39;49m\u001b[43m,\u001b[49m\u001b[43m \u001b[49m\u001b[43mstrict_max\u001b[49m\u001b[38;5;241;43m=\u001b[39;49m\u001b[38;5;28;43;01mFalse\u001b[39;49;00m\u001b[43m,\u001b[49m\u001b[43m \u001b[49m\u001b[43mstrict_min\u001b[49m\u001b[38;5;241;43m=\u001b[39;49m\u001b[38;5;28;43;01mFalse\u001b[39;49;00m\u001b[43m,\u001b[49m\u001b[43m \u001b[49m\u001b[43mmeta\u001b[49m\u001b[38;5;241;43m=\u001b[39;49m\u001b[43m{\u001b[49m\u001b[38;5;124;43m'\u001b[39;49m\u001b[38;5;124;43mprofiler_details\u001b[39;49m\u001b[38;5;124;43m'\u001b[39;49m\u001b[43m:\u001b[49m\u001b[43m \u001b[49m\u001b[43m{\u001b[49m\u001b[38;5;124;43m'\u001b[39;49m\u001b[38;5;124;43mmetric_configuration\u001b[39;49m\u001b[38;5;124;43m'\u001b[39;49m\u001b[43m:\u001b[49m\u001b[43m \u001b[49m\u001b[43m{\u001b[49m\u001b[38;5;124;43m'\u001b[39;49m\u001b[38;5;124;43mdomain_kwargs\u001b[39;49m\u001b[38;5;124;43m'\u001b[39;49m\u001b[43m:\u001b[49m\u001b[43m \u001b[49m\u001b[43m{\u001b[49m\u001b[38;5;124;43m'\u001b[39;49m\u001b[38;5;124;43mcolumn\u001b[39;49m\u001b[38;5;124;43m'\u001b[39;49m\u001b[43m:\u001b[49m\u001b[43m \u001b[49m\u001b[38;5;124;43m'\u001b[39;49m\u001b[38;5;124;43mSize\u001b[39;49m\u001b[38;5;124;43m'\u001b[39;49m\u001b[43m}\u001b[49m\u001b[43m,\u001b[49m\u001b[43m \u001b[49m\u001b[38;5;124;43m'\u001b[39;49m\u001b[38;5;124;43mmetric_name\u001b[39;49m\u001b[38;5;124;43m'\u001b[39;49m\u001b[43m:\u001b[49m\u001b[43m \u001b[49m\u001b[38;5;124;43m'\u001b[39;49m\u001b[38;5;124;43mcolumn.unique_proportion\u001b[39;49m\u001b[38;5;124;43m'\u001b[39;49m\u001b[43m,\u001b[49m\u001b[43m \u001b[49m\u001b[38;5;124;43m'\u001b[39;49m\u001b[38;5;124;43mmetric_value_kwargs\u001b[39;49m\u001b[38;5;124;43m'\u001b[39;49m\u001b[43m:\u001b[49m\u001b[43m \u001b[49m\u001b[38;5;28;43;01mNone\u001b[39;49;00m\u001b[43m}\u001b[49m\u001b[43m,\u001b[49m\u001b[43m \u001b[49m\u001b[38;5;124;43m'\u001b[39;49m\u001b[38;5;124;43mnum_batches\u001b[39;49m\u001b[38;5;124;43m'\u001b[39;49m\u001b[43m:\u001b[49m\u001b[43m \u001b[49m\u001b[38;5;241;43m1\u001b[39;49m\u001b[43m}\u001b[49m\u001b[43m}\u001b[49m\u001b[43m)\u001b[49m\n",
      "File \u001b[1;32m~\\AppData\\Local\\Programs\\Python\\Python311\\Lib\\site-packages\\great_expectations\\validator\\validator.py:608\u001b[0m, in \u001b[0;36mValidator.validate_expectation.<locals>.inst_expectation\u001b[1;34m(*args, **kwargs)\u001b[0m\n\u001b[0;32m    602\u001b[0m         validation_result \u001b[38;5;241m=\u001b[39m ExpectationValidationResult(\n\u001b[0;32m    603\u001b[0m             success\u001b[38;5;241m=\u001b[39m\u001b[38;5;28;01mFalse\u001b[39;00m,\n\u001b[0;32m    604\u001b[0m             exception_info\u001b[38;5;241m=\u001b[39mexception_info,\n\u001b[0;32m    605\u001b[0m             expectation_config\u001b[38;5;241m=\u001b[39mconfiguration,\n\u001b[0;32m    606\u001b[0m         )\n\u001b[0;32m    607\u001b[0m     \u001b[38;5;28;01melse\u001b[39;00m:\n\u001b[1;32m--> 608\u001b[0m         \u001b[38;5;28;01mraise\u001b[39;00m err\n\u001b[0;32m    610\u001b[0m \u001b[38;5;28;01mif\u001b[39;00m \u001b[38;5;28mself\u001b[39m\u001b[38;5;241m.\u001b[39m_include_rendered_content:\n\u001b[0;32m    611\u001b[0m     validation_result\u001b[38;5;241m.\u001b[39mrender()\n",
      "File \u001b[1;32m~\\AppData\\Local\\Programs\\Python\\Python311\\Lib\\site-packages\\great_expectations\\validator\\validator.py:571\u001b[0m, in \u001b[0;36mValidator.validate_expectation.<locals>.inst_expectation\u001b[1;34m(*args, **kwargs)\u001b[0m\n\u001b[0;32m    567\u001b[0m     validation_result \u001b[38;5;241m=\u001b[39m ExpectationValidationResult(\n\u001b[0;32m    568\u001b[0m         expectation_config\u001b[38;5;241m=\u001b[39mcopy\u001b[38;5;241m.\u001b[39mdeepcopy(expectation\u001b[38;5;241m.\u001b[39mconfiguration)\n\u001b[0;32m    569\u001b[0m     )\n\u001b[0;32m    570\u001b[0m \u001b[38;5;28;01melse\u001b[39;00m:\n\u001b[1;32m--> 571\u001b[0m     validation_result \u001b[38;5;241m=\u001b[39m \u001b[43mexpectation\u001b[49m\u001b[38;5;241;43m.\u001b[39;49m\u001b[43mvalidate\u001b[49m\u001b[43m(\u001b[49m\n\u001b[0;32m    572\u001b[0m \u001b[43m        \u001b[49m\u001b[43mvalidator\u001b[49m\u001b[38;5;241;43m=\u001b[39;49m\u001b[38;5;28;43mself\u001b[39;49m\u001b[43m,\u001b[49m\n\u001b[0;32m    573\u001b[0m \u001b[43m        \u001b[49m\u001b[43mevaluation_parameters\u001b[49m\u001b[38;5;241;43m=\u001b[39;49m\u001b[38;5;28;43mself\u001b[39;49m\u001b[38;5;241;43m.\u001b[39;49m\u001b[43m_expectation_suite\u001b[49m\u001b[38;5;241;43m.\u001b[39;49m\u001b[43mevaluation_parameters\u001b[49m\u001b[43m,\u001b[49m\n\u001b[0;32m    574\u001b[0m \u001b[43m        \u001b[49m\u001b[43mdata_context\u001b[49m\u001b[38;5;241;43m=\u001b[39;49m\u001b[38;5;28;43mself\u001b[39;49m\u001b[38;5;241;43m.\u001b[39;49m\u001b[43m_data_context\u001b[49m\u001b[43m,\u001b[49m\n\u001b[0;32m    575\u001b[0m \u001b[43m        \u001b[49m\u001b[43mruntime_configuration\u001b[49m\u001b[38;5;241;43m=\u001b[39;49m\u001b[43mbasic_runtime_configuration\u001b[49m\u001b[43m,\u001b[49m\n\u001b[0;32m    576\u001b[0m \u001b[43m    \u001b[49m\u001b[43m)\u001b[49m\n\u001b[0;32m    578\u001b[0m \u001b[38;5;66;03m# If validate has set active_validation to true, then we do not save the config to avoid\u001b[39;00m\n\u001b[0;32m    579\u001b[0m \u001b[38;5;66;03m# saving updating expectation configs to the same suite during validation runs\u001b[39;00m\n\u001b[0;32m    580\u001b[0m \u001b[38;5;28;01mif\u001b[39;00m \u001b[38;5;28mself\u001b[39m\u001b[38;5;241m.\u001b[39m_active_validation \u001b[38;5;129;01mis\u001b[39;00m \u001b[38;5;28;01mTrue\u001b[39;00m:\n",
      "File \u001b[1;32m~\\AppData\\Local\\Programs\\Python\\Python311\\Lib\\site-packages\\great_expectations\\expectations\\expectation.py:1264\u001b[0m, in \u001b[0;36mExpectation.validate\u001b[1;34m(self, validator, configuration, evaluation_parameters, interactive_evaluation, data_context, runtime_configuration)\u001b[0m\n\u001b[0;32m   1255\u001b[0m \u001b[38;5;28mself\u001b[39m\u001b[38;5;241m.\u001b[39m_warn_if_result_format_config_in_expectation_configuration(\n\u001b[0;32m   1256\u001b[0m     configuration\u001b[38;5;241m=\u001b[39mconfiguration\n\u001b[0;32m   1257\u001b[0m )\n\u001b[0;32m   1259\u001b[0m configuration\u001b[38;5;241m.\u001b[39mprocess_evaluation_parameters(\n\u001b[0;32m   1260\u001b[0m     evaluation_parameters, interactive_evaluation, data_context\n\u001b[0;32m   1261\u001b[0m )\n\u001b[0;32m   1262\u001b[0m expectation_validation_result_list: \u001b[38;5;28mlist\u001b[39m[\n\u001b[0;32m   1263\u001b[0m     ExpectationValidationResult\n\u001b[1;32m-> 1264\u001b[0m ] \u001b[38;5;241m=\u001b[39m \u001b[43mvalidator\u001b[49m\u001b[38;5;241;43m.\u001b[39;49m\u001b[43mgraph_validate\u001b[49m\u001b[43m(\u001b[49m\n\u001b[0;32m   1265\u001b[0m \u001b[43m    \u001b[49m\u001b[43mconfigurations\u001b[49m\u001b[38;5;241;43m=\u001b[39;49m\u001b[43m[\u001b[49m\u001b[43mconfiguration\u001b[49m\u001b[43m]\u001b[49m\u001b[43m,\u001b[49m\n\u001b[0;32m   1266\u001b[0m \u001b[43m    \u001b[49m\u001b[43mruntime_configuration\u001b[49m\u001b[38;5;241;43m=\u001b[39;49m\u001b[43mruntime_configuration\u001b[49m\u001b[43m,\u001b[49m\n\u001b[0;32m   1267\u001b[0m \u001b[43m\u001b[49m\u001b[43m)\u001b[49m\n\u001b[0;32m   1268\u001b[0m \u001b[38;5;28;01mreturn\u001b[39;00m expectation_validation_result_list[\u001b[38;5;241m0\u001b[39m]\n",
      "File \u001b[1;32m~\\AppData\\Local\\Programs\\Python\\Python311\\Lib\\site-packages\\great_expectations\\validator\\validator.py:1059\u001b[0m, in \u001b[0;36mValidator.graph_validate\u001b[1;34m(self, configurations, runtime_configuration)\u001b[0m\n\u001b[0;32m   1057\u001b[0m         \u001b[38;5;28;01mreturn\u001b[39;00m evrs\n\u001b[0;32m   1058\u001b[0m     \u001b[38;5;28;01melse\u001b[39;00m:\n\u001b[1;32m-> 1059\u001b[0m         \u001b[38;5;28;01mraise\u001b[39;00m err\n\u001b[0;32m   1061\u001b[0m configuration: ExpectationConfiguration\n\u001b[0;32m   1062\u001b[0m result: ExpectationValidationResult\n",
      "File \u001b[1;32m~\\AppData\\Local\\Programs\\Python\\Python311\\Lib\\site-packages\\great_expectations\\validator\\validator.py:1038\u001b[0m, in \u001b[0;36mValidator.graph_validate\u001b[1;34m(self, configurations, runtime_configuration)\u001b[0m\n\u001b[0;32m   1031\u001b[0m resolved_metrics: Dict[Tuple[\u001b[38;5;28mstr\u001b[39m, \u001b[38;5;28mstr\u001b[39m, \u001b[38;5;28mstr\u001b[39m], MetricValue]\n\u001b[0;32m   1033\u001b[0m \u001b[38;5;28;01mtry\u001b[39;00m:\n\u001b[0;32m   1034\u001b[0m     (\n\u001b[0;32m   1035\u001b[0m         resolved_metrics,\n\u001b[0;32m   1036\u001b[0m         evrs,\n\u001b[0;32m   1037\u001b[0m         processed_configurations,\n\u001b[1;32m-> 1038\u001b[0m     ) \u001b[38;5;241m=\u001b[39m \u001b[38;5;28;43mself\u001b[39;49m\u001b[38;5;241;43m.\u001b[39;49m\u001b[43m_resolve_suite_level_graph_and_process_metric_evaluation_errors\u001b[49m\u001b[43m(\u001b[49m\n\u001b[0;32m   1039\u001b[0m \u001b[43m        \u001b[49m\u001b[43mgraph\u001b[49m\u001b[38;5;241;43m=\u001b[39;49m\u001b[43mgraph\u001b[49m\u001b[43m,\u001b[49m\n\u001b[0;32m   1040\u001b[0m \u001b[43m        \u001b[49m\u001b[43mruntime_configuration\u001b[49m\u001b[38;5;241;43m=\u001b[39;49m\u001b[43mruntime_configuration\u001b[49m\u001b[43m,\u001b[49m\n\u001b[0;32m   1041\u001b[0m \u001b[43m        \u001b[49m\u001b[43mexpectation_validation_graphs\u001b[49m\u001b[38;5;241;43m=\u001b[39;49m\u001b[43mexpectation_validation_graphs\u001b[49m\u001b[43m,\u001b[49m\n\u001b[0;32m   1042\u001b[0m \u001b[43m        \u001b[49m\u001b[43mevrs\u001b[49m\u001b[38;5;241;43m=\u001b[39;49m\u001b[43mevrs\u001b[49m\u001b[43m,\u001b[49m\n\u001b[0;32m   1043\u001b[0m \u001b[43m        \u001b[49m\u001b[43mprocessed_configurations\u001b[49m\u001b[38;5;241;43m=\u001b[39;49m\u001b[43mprocessed_configurations\u001b[49m\u001b[43m,\u001b[49m\n\u001b[0;32m   1044\u001b[0m \u001b[43m        \u001b[49m\u001b[43mshow_progress_bars\u001b[49m\u001b[38;5;241;43m=\u001b[39;49m\u001b[38;5;28;43mself\u001b[39;49m\u001b[38;5;241;43m.\u001b[39;49m\u001b[43m_determine_progress_bars\u001b[49m\u001b[43m(\u001b[49m\u001b[43m)\u001b[49m\u001b[43m,\u001b[49m\n\u001b[0;32m   1045\u001b[0m \u001b[43m    \u001b[49m\u001b[43m)\u001b[49m\n\u001b[0;32m   1046\u001b[0m \u001b[38;5;28;01mexcept\u001b[39;00m \u001b[38;5;167;01mException\u001b[39;00m \u001b[38;5;28;01mas\u001b[39;00m err:\n\u001b[0;32m   1047\u001b[0m     \u001b[38;5;66;03m# If a general Exception occurs during the execution of \"ValidationGraph.resolve()\", then\u001b[39;00m\n\u001b[0;32m   1048\u001b[0m     \u001b[38;5;66;03m# all expectations in the suite are impacted, because it is impossible to attribute the failure to a metric.\u001b[39;00m\n\u001b[0;32m   1049\u001b[0m     \u001b[38;5;28;01mif\u001b[39;00m catch_exceptions:\n",
      "File \u001b[1;32m~\\AppData\\Local\\Programs\\Python\\Python311\\Lib\\site-packages\\great_expectations\\validator\\validator.py:1197\u001b[0m, in \u001b[0;36mValidator._resolve_suite_level_graph_and_process_metric_evaluation_errors\u001b[1;34m(self, graph, runtime_configuration, expectation_validation_graphs, evrs, processed_configurations, show_progress_bars)\u001b[0m\n\u001b[0;32m   1189\u001b[0m resolved_metrics: Dict[Tuple[\u001b[38;5;28mstr\u001b[39m, \u001b[38;5;28mstr\u001b[39m, \u001b[38;5;28mstr\u001b[39m], MetricValue]\n\u001b[0;32m   1190\u001b[0m aborted_metrics_info: Dict[\n\u001b[0;32m   1191\u001b[0m     Tuple[\u001b[38;5;28mstr\u001b[39m, \u001b[38;5;28mstr\u001b[39m, \u001b[38;5;28mstr\u001b[39m],\n\u001b[0;32m   1192\u001b[0m     Dict[\u001b[38;5;28mstr\u001b[39m, Union[MetricConfiguration, Set[ExceptionInfo], \u001b[38;5;28mint\u001b[39m]],\n\u001b[0;32m   1193\u001b[0m ]\n\u001b[0;32m   1194\u001b[0m (\n\u001b[0;32m   1195\u001b[0m     resolved_metrics,\n\u001b[0;32m   1196\u001b[0m     aborted_metrics_info,\n\u001b[1;32m-> 1197\u001b[0m ) \u001b[38;5;241m=\u001b[39m \u001b[38;5;28;43mself\u001b[39;49m\u001b[38;5;241;43m.\u001b[39;49m\u001b[43m_metrics_calculator\u001b[49m\u001b[38;5;241;43m.\u001b[39;49m\u001b[43mresolve_validation_graph\u001b[49m\u001b[43m(\u001b[49m\n\u001b[0;32m   1198\u001b[0m \u001b[43m    \u001b[49m\u001b[43mgraph\u001b[49m\u001b[38;5;241;43m=\u001b[39;49m\u001b[43mgraph\u001b[49m\u001b[43m,\u001b[49m\n\u001b[0;32m   1199\u001b[0m \u001b[43m    \u001b[49m\u001b[43mruntime_configuration\u001b[49m\u001b[38;5;241;43m=\u001b[39;49m\u001b[43mruntime_configuration\u001b[49m\u001b[43m,\u001b[49m\n\u001b[0;32m   1200\u001b[0m \u001b[43m    \u001b[49m\u001b[43mmin_graph_edges_pbar_enable\u001b[49m\u001b[38;5;241;43m=\u001b[39;49m\u001b[38;5;241;43m0\u001b[39;49m\u001b[43m,\u001b[49m\n\u001b[0;32m   1201\u001b[0m \u001b[43m\u001b[49m\u001b[43m)\u001b[49m\n\u001b[0;32m   1203\u001b[0m \u001b[38;5;66;03m# Trace MetricResolutionError occurrences to expectations relying on corresponding malfunctioning metrics.\u001b[39;00m\n\u001b[0;32m   1204\u001b[0m rejected_configurations: List[ExpectationConfiguration] \u001b[38;5;241m=\u001b[39m []\n",
      "File \u001b[1;32m~\\AppData\\Local\\Programs\\Python\\Python311\\Lib\\site-packages\\great_expectations\\validator\\metrics_calculator.py:268\u001b[0m, in \u001b[0;36mMetricsCalculator.resolve_validation_graph\u001b[1;34m(self, graph, runtime_configuration, min_graph_edges_pbar_enable)\u001b[0m\n\u001b[0;32m    263\u001b[0m resolved_metrics: Dict[Tuple[\u001b[38;5;28mstr\u001b[39m, \u001b[38;5;28mstr\u001b[39m, \u001b[38;5;28mstr\u001b[39m], MetricValue]\n\u001b[0;32m    264\u001b[0m aborted_metrics_info: Dict[\n\u001b[0;32m    265\u001b[0m     Tuple[\u001b[38;5;28mstr\u001b[39m, \u001b[38;5;28mstr\u001b[39m, \u001b[38;5;28mstr\u001b[39m],\n\u001b[0;32m    266\u001b[0m     Dict[\u001b[38;5;28mstr\u001b[39m, Union[MetricConfiguration, Set[ExceptionInfo], \u001b[38;5;28mint\u001b[39m]],\n\u001b[0;32m    267\u001b[0m ]\n\u001b[1;32m--> 268\u001b[0m resolved_metrics, aborted_metrics_info \u001b[38;5;241m=\u001b[39m \u001b[43mgraph\u001b[49m\u001b[38;5;241;43m.\u001b[39;49m\u001b[43mresolve\u001b[49m\u001b[43m(\u001b[49m\n\u001b[0;32m    269\u001b[0m \u001b[43m    \u001b[49m\u001b[43mruntime_configuration\u001b[49m\u001b[38;5;241;43m=\u001b[39;49m\u001b[43mruntime_configuration\u001b[49m\u001b[43m,\u001b[49m\n\u001b[0;32m    270\u001b[0m \u001b[43m    \u001b[49m\u001b[43mmin_graph_edges_pbar_enable\u001b[49m\u001b[38;5;241;43m=\u001b[39;49m\u001b[43mmin_graph_edges_pbar_enable\u001b[49m\u001b[43m,\u001b[49m\n\u001b[0;32m    271\u001b[0m \u001b[43m    \u001b[49m\u001b[43mshow_progress_bars\u001b[49m\u001b[38;5;241;43m=\u001b[39;49m\u001b[38;5;28;43mself\u001b[39;49m\u001b[38;5;241;43m.\u001b[39;49m\u001b[43m_show_progress_bars\u001b[49m\u001b[43m,\u001b[49m\n\u001b[0;32m    272\u001b[0m \u001b[43m\u001b[49m\u001b[43m)\u001b[49m\n\u001b[0;32m    273\u001b[0m \u001b[38;5;28;01mreturn\u001b[39;00m resolved_metrics, aborted_metrics_info\n",
      "File \u001b[1;32m~\\AppData\\Local\\Programs\\Python\\Python311\\Lib\\site-packages\\great_expectations\\validator\\validation_graph.py:200\u001b[0m, in \u001b[0;36mValidationGraph.resolve\u001b[1;34m(self, runtime_configuration, min_graph_edges_pbar_enable, show_progress_bars)\u001b[0m\n\u001b[0;32m    194\u001b[0m resolved_metrics: Dict[Tuple[\u001b[38;5;28mstr\u001b[39m, \u001b[38;5;28mstr\u001b[39m, \u001b[38;5;28mstr\u001b[39m], MetricValue] \u001b[38;5;241m=\u001b[39m {}\n\u001b[0;32m    196\u001b[0m \u001b[38;5;66;03m# updates graph with aborted metrics\u001b[39;00m\n\u001b[0;32m    197\u001b[0m aborted_metrics_info: Dict[\n\u001b[0;32m    198\u001b[0m     Tuple[\u001b[38;5;28mstr\u001b[39m, \u001b[38;5;28mstr\u001b[39m, \u001b[38;5;28mstr\u001b[39m],\n\u001b[0;32m    199\u001b[0m     Dict[\u001b[38;5;28mstr\u001b[39m, Union[MetricConfiguration, Set[ExceptionInfo], \u001b[38;5;28mint\u001b[39m]],\n\u001b[1;32m--> 200\u001b[0m ] \u001b[38;5;241m=\u001b[39m \u001b[38;5;28;43mself\u001b[39;49m\u001b[38;5;241;43m.\u001b[39;49m\u001b[43m_resolve\u001b[49m\u001b[43m(\u001b[49m\n\u001b[0;32m    201\u001b[0m \u001b[43m    \u001b[49m\u001b[43mmetrics\u001b[49m\u001b[38;5;241;43m=\u001b[39;49m\u001b[43mresolved_metrics\u001b[49m\u001b[43m,\u001b[49m\n\u001b[0;32m    202\u001b[0m \u001b[43m    \u001b[49m\u001b[43mruntime_configuration\u001b[49m\u001b[38;5;241;43m=\u001b[39;49m\u001b[43mruntime_configuration\u001b[49m\u001b[43m,\u001b[49m\n\u001b[0;32m    203\u001b[0m \u001b[43m    \u001b[49m\u001b[43mmin_graph_edges_pbar_enable\u001b[49m\u001b[38;5;241;43m=\u001b[39;49m\u001b[43mmin_graph_edges_pbar_enable\u001b[49m\u001b[43m,\u001b[49m\n\u001b[0;32m    204\u001b[0m \u001b[43m    \u001b[49m\u001b[43mshow_progress_bars\u001b[49m\u001b[38;5;241;43m=\u001b[39;49m\u001b[43mshow_progress_bars\u001b[49m\u001b[43m,\u001b[49m\n\u001b[0;32m    205\u001b[0m \u001b[43m\u001b[49m\u001b[43m)\u001b[49m\n\u001b[0;32m    207\u001b[0m \u001b[38;5;28;01mreturn\u001b[39;00m resolved_metrics, aborted_metrics_info\n",
      "File \u001b[1;32m~\\AppData\\Local\\Programs\\Python\\Python311\\Lib\\site-packages\\great_expectations\\validator\\validation_graph.py:306\u001b[0m, in \u001b[0;36mValidationGraph._resolve\u001b[1;34m(self, metrics, runtime_configuration, min_graph_edges_pbar_enable, show_progress_bars)\u001b[0m\n\u001b[0;32m    302\u001b[0m                 failed_metric_info[failed_metric\u001b[38;5;241m.\u001b[39mid][\u001b[38;5;124m\"\u001b[39m\u001b[38;5;124mexception_info\u001b[39m\u001b[38;5;124m\"\u001b[39m] \u001b[38;5;241m=\u001b[39m {\n\u001b[0;32m    303\u001b[0m                     exception_info\n\u001b[0;32m    304\u001b[0m                 }\n\u001b[0;32m    305\u001b[0m     \u001b[38;5;28;01melse\u001b[39;00m:\n\u001b[1;32m--> 306\u001b[0m         \u001b[38;5;28;01mraise\u001b[39;00m err\n\u001b[0;32m    307\u001b[0m \u001b[38;5;28;01mexcept\u001b[39;00m \u001b[38;5;167;01mException\u001b[39;00m \u001b[38;5;28;01mas\u001b[39;00m e:\n\u001b[0;32m    308\u001b[0m     \u001b[38;5;28;01mif\u001b[39;00m catch_exceptions:\n",
      "File \u001b[1;32m~\\AppData\\Local\\Programs\\Python\\Python311\\Lib\\site-packages\\great_expectations\\validator\\validation_graph.py:276\u001b[0m, in \u001b[0;36mValidationGraph._resolve\u001b[1;34m(self, metrics, runtime_configuration, min_graph_edges_pbar_enable, show_progress_bars)\u001b[0m\n\u001b[0;32m    271\u001b[0m         computable_metrics\u001b[38;5;241m.\u001b[39madd(metric)\n\u001b[0;32m    273\u001b[0m \u001b[38;5;28;01mtry\u001b[39;00m:\n\u001b[0;32m    274\u001b[0m     \u001b[38;5;66;03m# Access \"ExecutionEngine.resolve_metrics()\" method, to resolve missing \"MetricConfiguration\" objects.\u001b[39;00m\n\u001b[0;32m    275\u001b[0m     metrics\u001b[38;5;241m.\u001b[39mupdate(\n\u001b[1;32m--> 276\u001b[0m         \u001b[38;5;28;43mself\u001b[39;49m\u001b[38;5;241;43m.\u001b[39;49m\u001b[43m_execution_engine\u001b[49m\u001b[38;5;241;43m.\u001b[39;49m\u001b[43mresolve_metrics\u001b[49m\u001b[43m(\u001b[49m\n\u001b[0;32m    277\u001b[0m \u001b[43m            \u001b[49m\u001b[43mmetrics_to_resolve\u001b[49m\u001b[38;5;241;43m=\u001b[39;49m\u001b[43mcomputable_metrics\u001b[49m\u001b[43m,\u001b[49m\n\u001b[0;32m    278\u001b[0m \u001b[43m            \u001b[49m\u001b[43mmetrics\u001b[49m\u001b[38;5;241;43m=\u001b[39;49m\u001b[43mmetrics\u001b[49m\u001b[43m,\u001b[49m\n\u001b[0;32m    279\u001b[0m \u001b[43m            \u001b[49m\u001b[43mruntime_configuration\u001b[49m\u001b[38;5;241;43m=\u001b[39;49m\u001b[43mruntime_configuration\u001b[49m\u001b[43m,\u001b[49m\n\u001b[0;32m    280\u001b[0m \u001b[43m        \u001b[49m\u001b[43m)\u001b[49m\n\u001b[0;32m    281\u001b[0m     )\n\u001b[0;32m    282\u001b[0m     progress_bar\u001b[38;5;241m.\u001b[39mupdate(\u001b[38;5;28mlen\u001b[39m(computable_metrics))\n\u001b[0;32m    283\u001b[0m     progress_bar\u001b[38;5;241m.\u001b[39mrefresh()\n",
      "File \u001b[1;32m~\\AppData\\Local\\Programs\\Python\\Python311\\Lib\\site-packages\\great_expectations\\execution_engine\\execution_engine.py:290\u001b[0m, in \u001b[0;36mExecutionEngine.resolve_metrics\u001b[1;34m(self, metrics_to_resolve, metrics, runtime_configuration)\u001b[0m\n\u001b[0;32m    281\u001b[0m metric_fn_bundle_configurations: List[MetricComputationConfiguration]\n\u001b[0;32m    282\u001b[0m (\n\u001b[0;32m    283\u001b[0m     metric_fn_direct_configurations,\n\u001b[0;32m    284\u001b[0m     metric_fn_bundle_configurations,\n\u001b[1;32m   (...)\u001b[0m\n\u001b[0;32m    288\u001b[0m     runtime_configuration\u001b[38;5;241m=\u001b[39mruntime_configuration,\n\u001b[0;32m    289\u001b[0m )\n\u001b[1;32m--> 290\u001b[0m \u001b[38;5;28;01mreturn\u001b[39;00m \u001b[38;5;28;43mself\u001b[39;49m\u001b[38;5;241;43m.\u001b[39;49m\u001b[43m_process_direct_and_bundled_metric_computation_configurations\u001b[49m\u001b[43m(\u001b[49m\n\u001b[0;32m    291\u001b[0m \u001b[43m    \u001b[49m\u001b[43mmetric_fn_direct_configurations\u001b[49m\u001b[38;5;241;43m=\u001b[39;49m\u001b[43mmetric_fn_direct_configurations\u001b[49m\u001b[43m,\u001b[49m\n\u001b[0;32m    292\u001b[0m \u001b[43m    \u001b[49m\u001b[43mmetric_fn_bundle_configurations\u001b[49m\u001b[38;5;241;43m=\u001b[39;49m\u001b[43mmetric_fn_bundle_configurations\u001b[49m\u001b[43m,\u001b[49m\n\u001b[0;32m    293\u001b[0m \u001b[43m\u001b[49m\u001b[43m)\u001b[49m\n",
      "File \u001b[1;32m~\\AppData\\Local\\Programs\\Python\\Python311\\Lib\\site-packages\\great_expectations\\execution_engine\\execution_engine.py:559\u001b[0m, in \u001b[0;36mExecutionEngine._process_direct_and_bundled_metric_computation_configurations\u001b[1;34m(self, metric_fn_direct_configurations, metric_fn_bundle_configurations)\u001b[0m\n\u001b[0;32m    553\u001b[0m         resolved_metrics[\n\u001b[0;32m    554\u001b[0m             metric_computation_configuration\u001b[38;5;241m.\u001b[39mmetric_configuration\u001b[38;5;241m.\u001b[39mid\n\u001b[0;32m    555\u001b[0m         ] \u001b[38;5;241m=\u001b[39m metric_computation_configuration\u001b[38;5;241m.\u001b[39mmetric_fn(  \u001b[38;5;66;03m# type: ignore[misc] # F not callable\u001b[39;00m\n\u001b[0;32m    556\u001b[0m             \u001b[38;5;241m*\u001b[39m\u001b[38;5;241m*\u001b[39mmetric_computation_configuration\u001b[38;5;241m.\u001b[39mmetric_provider_kwargs\n\u001b[0;32m    557\u001b[0m         )\n\u001b[0;32m    558\u001b[0m     \u001b[38;5;28;01mexcept\u001b[39;00m \u001b[38;5;167;01mException\u001b[39;00m \u001b[38;5;28;01mas\u001b[39;00m e:\n\u001b[1;32m--> 559\u001b[0m         \u001b[38;5;28;01mraise\u001b[39;00m gx_exceptions\u001b[38;5;241m.\u001b[39mMetricResolutionError(\n\u001b[0;32m    560\u001b[0m             message\u001b[38;5;241m=\u001b[39m\u001b[38;5;28mstr\u001b[39m(e),\n\u001b[0;32m    561\u001b[0m             failed_metrics\u001b[38;5;241m=\u001b[39m(\n\u001b[0;32m    562\u001b[0m                 metric_computation_configuration\u001b[38;5;241m.\u001b[39mmetric_configuration,\n\u001b[0;32m    563\u001b[0m             ),\n\u001b[0;32m    564\u001b[0m         ) \u001b[38;5;28;01mfrom\u001b[39;00m \u001b[38;5;21;01me\u001b[39;00m\n\u001b[0;32m    566\u001b[0m \u001b[38;5;28;01mtry\u001b[39;00m:\n\u001b[0;32m    567\u001b[0m     \u001b[38;5;66;03m# an engine-specific way of computing metrics together\u001b[39;00m\n\u001b[0;32m    568\u001b[0m     resolved_metric_bundle: Dict[\n\u001b[0;32m    569\u001b[0m         Tuple[\u001b[38;5;28mstr\u001b[39m, \u001b[38;5;28mstr\u001b[39m, \u001b[38;5;28mstr\u001b[39m], MetricValue\n\u001b[0;32m    570\u001b[0m     ] \u001b[38;5;241m=\u001b[39m \u001b[38;5;28mself\u001b[39m\u001b[38;5;241m.\u001b[39mresolve_metric_bundle(\n\u001b[0;32m    571\u001b[0m         metric_fn_bundle\u001b[38;5;241m=\u001b[39mmetric_fn_bundle_configurations\n\u001b[0;32m    572\u001b[0m     )\n",
      "\u001b[1;31mMetricResolutionError\u001b[0m: Error: The column \"Size\" in BatchData does not exist."
     ]
    }
   ],
   "source": [
    "\n",
    "validator.expect_column_proportion_of_unique_values_to_be_between(column='Size', max_value=0.08530805687203792, min_value=0.08530805687203792, strict_max=False, strict_min=False, meta={'profiler_details': {'metric_configuration': {'domain_kwargs': {'column': 'Size'}, 'metric_name': 'column.unique_proportion', 'metric_value_kwargs': None}, 'num_batches': 1}})"
   ]
  },
  {
   "cell_type": "markdown",
   "id": "032116e3",
   "metadata": {},
   "source": [
    "## Review & Save Your Expectations\n",
    "\n",
    "Let's save the expectation suite as a JSON file in the `great_expectations/expectations` directory of your project.\n",
    "\n",
    "Let's now rebuild your Data Docs, which helps you communicate about your data with both machines and humans."
   ]
  },
  {
   "cell_type": "code",
   "execution_count": 50,
   "id": "60ff2908",
   "metadata": {},
   "outputs": [
    {
     "name": "stdout",
     "output_type": "stream",
     "text": [
      "2023-04-29T22:50:27+0200 - INFO - \t48 expectation(s) included in expectation_suite.\n",
      "{\n",
      "  \"meta\": {\n",
      "    \"citations\": [\n",
      "      {\n",
      "        \"citation_date\": \"2023-04-29T20:25:28.898541Z\",\n",
      "        \"comment\": \"Created by effective Rule-Based Profiler of OnboardingDataAssistant with the configuration included.\\n\"\n",
      "      },\n",
      "      {\n",
      "        \"batch_request\": {\n",
      "          \"data_asset_name\": \"Product\",\n",
      "          \"data_connector_name\": \"default_configured_data_connector_name\",\n",
      "          \"datasource_name\": \"my_datasource\",\n",
      "          \"limit\": 1000\n",
      "        },\n",
      "        \"citation_date\": \"2023-04-29T20:45:22.104305Z\",\n",
      "        \"comment\": \"Created suite added via CLI\"\n",
      "      }\n",
      "    ],\n",
      "    \"great_expectations_version\": \"0.16.0\"\n",
      "  },\n",
      "  \"ge_cloud_id\": null,\n",
      "  \"expectations\": [\n",
      "    {\n",
      "      \"meta\": {},\n",
      "      \"expectation_type\": \"expect_table_row_count_to_be_between\",\n",
      "      \"kwargs\": {\n",
      "        \"max_value\": 504,\n",
      "        \"min_value\": 504\n",
      "      }\n",
      "    },\n",
      "    {\n",
      "      \"meta\": {},\n",
      "      \"expectation_type\": \"expect_table_columns_to_match_set\",\n",
      "      \"kwargs\": {\n",
      "        \"column_set\": [\n",
      "          \"MakeFlag\",\n",
      "          \"ProductNumber\",\n",
      "          \"Style\",\n",
      "          \"FinishedGoodsFlag\",\n",
      "          \"Weight\",\n",
      "          \"SafetyStockLevel\",\n",
      "          \"SellEndDate\",\n",
      "          \"ModifiedDate\",\n",
      "          \"Color\",\n",
      "          \"ProductID\",\n",
      "          \"ProductSubcategoryID\",\n",
      "          \"Name\",\n",
      "          \"ListPrice\",\n",
      "          \"ReorderPoint\",\n",
      "          \"ProductModelID\",\n",
      "          \"Size\",\n",
      "          \"SizeUnitMeasureCode\",\n",
      "          \"ProductLine\",\n",
      "          \"DaysToManufacture\",\n",
      "          \"rowguid\",\n",
      "          \"StandardCost\",\n",
      "          \"Class\",\n",
      "          \"WeightUnitMeasureCode\",\n",
      "          \"DiscontinuedDate\",\n",
      "          \"SellStartDate\"\n",
      "        ]\n",
      "      }\n",
      "    },\n",
      "    {\n",
      "      \"meta\": {\n",
      "        \"profiler_details\": {\n",
      "          \"metric_configuration\": {\n",
      "            \"domain_kwargs\": {\n",
      "              \"column\": \"ProductID\"\n",
      "            },\n",
      "            \"metric_name\": \"column_values.unique.unexpected_count\",\n",
      "            \"metric_value_kwargs\": null\n",
      "          },\n",
      "          \"num_batches\": 1\n",
      "        }\n",
      "      },\n",
      "      \"expectation_type\": \"expect_column_values_to_be_unique\",\n",
      "      \"kwargs\": {\n",
      "        \"column\": \"ProductID\"\n",
      "      }\n",
      "    },\n",
      "    {\n",
      "      \"meta\": {\n",
      "        \"profiler_details\": {\n",
      "          \"metric_configuration\": {\n",
      "            \"domain_kwargs\": {\n",
      "              \"column\": \"Name\"\n",
      "            },\n",
      "            \"metric_name\": \"column_values.unique.unexpected_count\",\n",
      "            \"metric_value_kwargs\": null\n",
      "          },\n",
      "          \"num_batches\": 1\n",
      "        }\n",
      "      },\n",
      "      \"expectation_type\": \"expect_column_values_to_be_unique\",\n",
      "      \"kwargs\": {\n",
      "        \"column\": \"Name\"\n",
      "      }\n",
      "    },\n",
      "    {\n",
      "      \"meta\": {\n",
      "        \"profiler_details\": {\n",
      "          \"metric_configuration\": {\n",
      "            \"domain_kwargs\": {\n",
      "              \"column\": \"ProductNumber\"\n",
      "            },\n",
      "            \"metric_name\": \"column_values.unique.unexpected_count\",\n",
      "            \"metric_value_kwargs\": null\n",
      "          },\n",
      "          \"num_batches\": 1\n",
      "        }\n",
      "      },\n",
      "      \"expectation_type\": \"expect_column_values_to_be_unique\",\n",
      "      \"kwargs\": {\n",
      "        \"column\": \"ProductNumber\"\n",
      "      }\n",
      "    },\n",
      "    {\n",
      "      \"meta\": {\n",
      "        \"profiler_details\": {\n",
      "          \"metric_configuration\": {\n",
      "            \"domain_kwargs\": {\n",
      "              \"column\": \"ProductID\"\n",
      "            },\n",
      "            \"metric_name\": \"column_values.nonnull.unexpected_count\",\n",
      "            \"metric_value_kwargs\": null\n",
      "          },\n",
      "          \"num_batches\": 1\n",
      "        }\n",
      "      },\n",
      "      \"expectation_type\": \"expect_column_values_to_not_be_null\",\n",
      "      \"kwargs\": {\n",
      "        \"column\": \"ProductID\"\n",
      "      }\n",
      "    },\n",
      "    {\n",
      "      \"meta\": {\n",
      "        \"profiler_details\": {\n",
      "          \"metric_configuration\": {\n",
      "            \"domain_kwargs\": {\n",
      "              \"column\": \"Name\"\n",
      "            },\n",
      "            \"metric_name\": \"column_values.nonnull.unexpected_count\",\n",
      "            \"metric_value_kwargs\": null\n",
      "          },\n",
      "          \"num_batches\": 1\n",
      "        }\n",
      "      },\n",
      "      \"expectation_type\": \"expect_column_values_to_not_be_null\",\n",
      "      \"kwargs\": {\n",
      "        \"column\": \"Name\"\n",
      "      }\n",
      "    },\n",
      "    {\n",
      "      \"meta\": {\n",
      "        \"profiler_details\": {\n",
      "          \"metric_configuration\": {\n",
      "            \"domain_kwargs\": {\n",
      "              \"column\": \"ProductNumber\"\n",
      "            },\n",
      "            \"metric_name\": \"column_values.nonnull.unexpected_count\",\n",
      "            \"metric_value_kwargs\": null\n",
      "          },\n",
      "          \"num_batches\": 1\n",
      "        }\n",
      "      },\n",
      "      \"expectation_type\": \"expect_column_values_to_not_be_null\",\n",
      "      \"kwargs\": {\n",
      "        \"column\": \"ProductNumber\"\n",
      "      }\n",
      "    },\n",
      "    {\n",
      "      \"meta\": {\n",
      "        \"profiler_details\": {\n",
      "          \"metric_configuration\": {\n",
      "            \"domain_kwargs\": {\n",
      "              \"column\": \"StandardCost\"\n",
      "            },\n",
      "            \"metric_name\": \"column_values.nonnull.unexpected_count\",\n",
      "            \"metric_value_kwargs\": null\n",
      "          },\n",
      "          \"num_batches\": 1\n",
      "        }\n",
      "      },\n",
      "      \"expectation_type\": \"expect_column_values_to_not_be_null\",\n",
      "      \"kwargs\": {\n",
      "        \"column\": \"StandardCost\"\n",
      "      }\n",
      "    },\n",
      "    {\n",
      "      \"meta\": {\n",
      "        \"profiler_details\": {\n",
      "          \"metric_configuration\": {\n",
      "            \"domain_kwargs\": {\n",
      "              \"column\": \"ListPrice\"\n",
      "            },\n",
      "            \"metric_name\": \"column_values.nonnull.unexpected_count\",\n",
      "            \"metric_value_kwargs\": null\n",
      "          },\n",
      "          \"num_batches\": 1\n",
      "        }\n",
      "      },\n",
      "      \"expectation_type\": \"expect_column_values_to_not_be_null\",\n",
      "      \"kwargs\": {\n",
      "        \"column\": \"ListPrice\"\n",
      "      }\n",
      "    },\n",
      "    {\n",
      "      \"meta\": {\n",
      "        \"profiler_details\": {\n",
      "          \"metric_configuration\": {\n",
      "            \"domain_kwargs\": {\n",
      "              \"column\": \"SellStartDate\"\n",
      "            },\n",
      "            \"metric_name\": \"column_values.nonnull.unexpected_count\",\n",
      "            \"metric_value_kwargs\": null\n",
      "          },\n",
      "          \"num_batches\": 1\n",
      "        }\n",
      "      },\n",
      "      \"expectation_type\": \"expect_column_values_to_not_be_null\",\n",
      "      \"kwargs\": {\n",
      "        \"column\": \"SellStartDate\"\n",
      "      }\n",
      "    },\n",
      "    {\n",
      "      \"meta\": {\n",
      "        \"profiler_details\": {\n",
      "          \"metric_configuration\": {\n",
      "            \"domain_kwargs\": {\n",
      "              \"column\": \"ProductID\"\n",
      "            },\n",
      "            \"metric_name\": \"column.min\",\n",
      "            \"metric_value_kwargs\": null\n",
      "          },\n",
      "          \"num_batches\": 1\n",
      "        }\n",
      "      },\n",
      "      \"expectation_type\": \"expect_column_min_to_be_between\",\n",
      "      \"kwargs\": {\n",
      "        \"column\": \"ProductID\",\n",
      "        \"max_value\": 1,\n",
      "        \"min_value\": 1,\n",
      "        \"strict_max\": false,\n",
      "        \"strict_min\": false\n",
      "      }\n",
      "    },\n",
      "    {\n",
      "      \"meta\": {\n",
      "        \"profiler_details\": {\n",
      "          \"metric_configuration\": {\n",
      "            \"domain_kwargs\": {\n",
      "              \"column\": \"ProductID\"\n",
      "            },\n",
      "            \"metric_name\": \"column.max\",\n",
      "            \"metric_value_kwargs\": null\n",
      "          },\n",
      "          \"num_batches\": 1\n",
      "        }\n",
      "      },\n",
      "      \"expectation_type\": \"expect_column_max_to_be_between\",\n",
      "      \"kwargs\": {\n",
      "        \"column\": \"ProductID\",\n",
      "        \"max_value\": 999,\n",
      "        \"min_value\": 999,\n",
      "        \"strict_max\": false,\n",
      "        \"strict_min\": false\n",
      "      }\n",
      "    },\n",
      "    {\n",
      "      \"meta\": {\n",
      "        \"profiler_details\": {\n",
      "          \"column_max_values_range_estimator\": {\n",
      "            \"metric_configuration\": {\n",
      "              \"domain_kwargs\": {\n",
      "                \"column\": \"ProductID\"\n",
      "              },\n",
      "              \"metric_name\": \"column.max\",\n",
      "              \"metric_value_kwargs\": null\n",
      "            },\n",
      "            \"num_batches\": 1\n",
      "          },\n",
      "          \"column_min_values_range_estimator\": {\n",
      "            \"metric_configuration\": {\n",
      "              \"domain_kwargs\": {\n",
      "                \"column\": \"ProductID\"\n",
      "              },\n",
      "              \"metric_name\": \"column.min\",\n",
      "              \"metric_value_kwargs\": null\n",
      "            },\n",
      "            \"num_batches\": 1\n",
      "          }\n",
      "        }\n",
      "      },\n",
      "      \"expectation_type\": \"expect_column_values_to_be_between\",\n",
      "      \"kwargs\": {\n",
      "        \"column\": \"ProductID\",\n",
      "        \"max_value\": 999,\n",
      "        \"min_value\": 1,\n",
      "        \"mostly\": 1.0,\n",
      "        \"strict_max\": false,\n",
      "        \"strict_min\": false\n",
      "      }\n",
      "    },\n",
      "    {\n",
      "      \"meta\": {\n",
      "        \"profiler_details\": {\n",
      "          \"metric_configuration\": {\n",
      "            \"domain_kwargs\": {\n",
      "              \"column\": \"ProductID\"\n",
      "            },\n",
      "            \"metric_name\": \"column.quantile_values\",\n",
      "            \"metric_value_kwargs\": {\n",
      "              \"allow_relative_error\": false,\n",
      "              \"quantiles\": [\n",
      "                0.25,\n",
      "                0.5,\n",
      "                0.75\n",
      "              ]\n",
      "            }\n",
      "          },\n",
      "          \"num_batches\": 1\n",
      "        }\n",
      "      },\n",
      "      \"expectation_type\": \"expect_column_quantile_values_to_be_between\",\n",
      "      \"kwargs\": {\n",
      "        \"column\": \"ProductID\",\n",
      "        \"allow_relative_error\": false,\n",
      "        \"quantile_ranges\": {\n",
      "          \"quantiles\": [\n",
      "            0.25,\n",
      "            0.5,\n",
      "            0.75\n",
      "          ],\n",
      "          \"value_ranges\": [\n",
      "            [\n",
      "              447,\n",
      "              447\n",
      "            ],\n",
      "            [\n",
      "              747,\n",
      "              747\n",
      "            ],\n",
      "            [\n",
      "              873,\n",
      "              873\n",
      "            ]\n",
      "          ]\n",
      "        }\n",
      "      }\n",
      "    },\n",
      "    {\n",
      "      \"meta\": {\n",
      "        \"profiler_details\": {\n",
      "          \"metric_configuration\": {\n",
      "            \"domain_kwargs\": {\n",
      "              \"column\": \"ProductID\"\n",
      "            },\n",
      "            \"metric_name\": \"column.median\",\n",
      "            \"metric_value_kwargs\": null\n",
      "          },\n",
      "          \"num_batches\": 1\n",
      "        }\n",
      "      },\n",
      "      \"expectation_type\": \"expect_column_median_to_be_between\",\n",
      "      \"kwargs\": {\n",
      "        \"column\": \"ProductID\",\n",
      "        \"max_value\": 747.5,\n",
      "        \"min_value\": 747.5,\n",
      "        \"strict_max\": false,\n",
      "        \"strict_min\": false\n",
      "      }\n",
      "    },\n",
      "    {\n",
      "      \"meta\": {\n",
      "        \"profiler_details\": {\n",
      "          \"metric_configuration\": {\n",
      "            \"domain_kwargs\": {\n",
      "              \"column\": \"ProductID\"\n",
      "            },\n",
      "            \"metric_name\": \"column.mean\",\n",
      "            \"metric_value_kwargs\": null\n",
      "          },\n",
      "          \"num_batches\": 1\n",
      "        }\n",
      "      },\n",
      "      \"expectation_type\": \"expect_column_mean_to_be_between\",\n",
      "      \"kwargs\": {\n",
      "        \"column\": \"ProductID\",\n",
      "        \"max_value\": 673.0396825396825,\n",
      "        \"min_value\": 673.0396825396825,\n",
      "        \"strict_max\": false,\n",
      "        \"strict_min\": false\n",
      "      }\n",
      "    },\n",
      "    {\n",
      "      \"meta\": {\n",
      "        \"profiler_details\": {\n",
      "          \"metric_configuration\": {\n",
      "            \"domain_kwargs\": {\n",
      "              \"column\": \"ProductID\"\n",
      "            },\n",
      "            \"metric_name\": \"column.standard_deviation\",\n",
      "            \"metric_value_kwargs\": null\n",
      "          },\n",
      "          \"num_batches\": 1\n",
      "        }\n",
      "      },\n",
      "      \"expectation_type\": \"expect_column_stdev_to_be_between\",\n",
      "      \"kwargs\": {\n",
      "        \"column\": \"ProductID\",\n",
      "        \"max_value\": 229.37314180957807,\n",
      "        \"min_value\": 229.37314180957807,\n",
      "        \"strict_max\": false,\n",
      "        \"strict_min\": false\n",
      "      }\n",
      "    },\n",
      "    {\n",
      "      \"meta\": {\n",
      "        \"profiler_details\": {\n",
      "          \"metric_configuration\": {\n",
      "            \"domain_kwargs\": {\n",
      "              \"column\": \"ProductSubcategoryID\"\n",
      "            },\n",
      "            \"metric_name\": \"column.min\",\n",
      "            \"metric_value_kwargs\": null\n",
      "          },\n",
      "          \"num_batches\": 1\n",
      "        }\n",
      "      },\n",
      "      \"expectation_type\": \"expect_column_min_to_be_between\",\n",
      "      \"kwargs\": {\n",
      "        \"column\": \"ProductSubcategoryID\",\n",
      "        \"max_value\": 1,\n",
      "        \"min_value\": 1,\n",
      "        \"strict_max\": false,\n",
      "        \"strict_min\": false\n",
      "      }\n",
      "    },\n",
      "    {\n",
      "      \"meta\": {\n",
      "        \"profiler_details\": {\n",
      "          \"metric_configuration\": {\n",
      "            \"domain_kwargs\": {\n",
      "              \"column\": \"ProductSubcategoryID\"\n",
      "            },\n",
      "            \"metric_name\": \"column.max\",\n",
      "            \"metric_value_kwargs\": null\n",
      "          },\n",
      "          \"num_batches\": 1\n",
      "        }\n",
      "      },\n",
      "      \"expectation_type\": \"expect_column_max_to_be_between\",\n",
      "      \"kwargs\": {\n",
      "        \"column\": \"ProductSubcategoryID\",\n",
      "        \"max_value\": 37,\n",
      "        \"min_value\": 37,\n",
      "        \"strict_max\": false,\n",
      "        \"strict_min\": false\n",
      "      }\n",
      "    },\n",
      "    {\n",
      "      \"meta\": {\n",
      "        \"profiler_details\": {\n",
      "          \"column_max_values_range_estimator\": {\n",
      "            \"metric_configuration\": {\n",
      "              \"domain_kwargs\": {\n",
      "                \"column\": \"ProductSubcategoryID\"\n",
      "              },\n",
      "              \"metric_name\": \"column.max\",\n",
      "              \"metric_value_kwargs\": null\n",
      "            },\n",
      "            \"num_batches\": 1\n",
      "          },\n",
      "          \"column_min_values_range_estimator\": {\n",
      "            \"metric_configuration\": {\n",
      "              \"domain_kwargs\": {\n",
      "                \"column\": \"ProductSubcategoryID\"\n",
      "              },\n",
      "              \"metric_name\": \"column.min\",\n",
      "              \"metric_value_kwargs\": null\n",
      "            },\n",
      "            \"num_batches\": 1\n",
      "          }\n",
      "        }\n",
      "      },\n",
      "      \"expectation_type\": \"expect_column_values_to_be_between\",\n",
      "      \"kwargs\": {\n",
      "        \"column\": \"ProductSubcategoryID\",\n",
      "        \"max_value\": 37,\n",
      "        \"min_value\": 1,\n",
      "        \"mostly\": 1.0,\n",
      "        \"strict_max\": false,\n",
      "        \"strict_min\": false\n",
      "      }\n",
      "    },\n",
      "    {\n",
      "      \"meta\": {\n",
      "        \"profiler_details\": {\n",
      "          \"metric_configuration\": {\n",
      "            \"domain_kwargs\": {\n",
      "              \"column\": \"ProductSubcategoryID\"\n",
      "            },\n",
      "            \"metric_name\": \"column.quantile_values\",\n",
      "            \"metric_value_kwargs\": {\n",
      "              \"allow_relative_error\": false,\n",
      "              \"quantiles\": [\n",
      "                0.25,\n",
      "                0.5,\n",
      "                0.75\n",
      "              ]\n",
      "            }\n",
      "          },\n",
      "          \"num_batches\": 1\n",
      "        }\n",
      "      },\n",
      "      \"expectation_type\": \"expect_column_quantile_values_to_be_between\",\n",
      "      \"kwargs\": {\n",
      "        \"column\": \"ProductSubcategoryID\",\n",
      "        \"allow_relative_error\": false,\n",
      "        \"quantile_ranges\": {\n",
      "          \"quantiles\": [\n",
      "            0.25,\n",
      "            0.5,\n",
      "            0.75\n",
      "          ],\n",
      "          \"value_ranges\": [\n",
      "            [\n",
      "              2,\n",
      "              2\n",
      "            ],\n",
      "            [\n",
      "              12,\n",
      "              12\n",
      "            ],\n",
      "            [\n",
      "              17,\n",
      "              17\n",
      "            ]\n",
      "          ]\n",
      "        }\n",
      "      }\n",
      "    },\n",
      "    {\n",
      "      \"meta\": {\n",
      "        \"profiler_details\": {\n",
      "          \"metric_configuration\": {\n",
      "            \"domain_kwargs\": {\n",
      "              \"column\": \"ProductSubcategoryID\"\n",
      "            },\n",
      "            \"metric_name\": \"column.median\",\n",
      "            \"metric_value_kwargs\": null\n",
      "          },\n",
      "          \"num_batches\": 1\n",
      "        }\n",
      "      },\n",
      "      \"expectation_type\": \"expect_column_median_to_be_between\",\n",
      "      \"kwargs\": {\n",
      "        \"column\": \"ProductSubcategoryID\",\n",
      "        \"max_value\": 12,\n",
      "        \"min_value\": 12,\n",
      "        \"strict_max\": false,\n",
      "        \"strict_min\": false\n",
      "      }\n",
      "    },\n",
      "    {\n",
      "      \"meta\": {\n",
      "        \"profiler_details\": {\n",
      "          \"metric_configuration\": {\n",
      "            \"domain_kwargs\": {\n",
      "              \"column\": \"ProductSubcategoryID\"\n",
      "            },\n",
      "            \"metric_name\": \"column.mean\",\n",
      "            \"metric_value_kwargs\": null\n",
      "          },\n",
      "          \"num_batches\": 1\n",
      "        }\n",
      "      },\n",
      "      \"expectation_type\": \"expect_column_mean_to_be_between\",\n",
      "      \"kwargs\": {\n",
      "        \"column\": \"ProductSubcategoryID\",\n",
      "        \"max_value\": 12.294915254237289,\n",
      "        \"min_value\": 12.294915254237289,\n",
      "        \"strict_max\": false,\n",
      "        \"strict_min\": false\n",
      "      }\n",
      "    },\n",
      "    {\n",
      "      \"meta\": {\n",
      "        \"profiler_details\": {\n",
      "          \"metric_configuration\": {\n",
      "            \"domain_kwargs\": {\n",
      "              \"column\": \"ProductSubcategoryID\"\n",
      "            },\n",
      "            \"metric_name\": \"column.standard_deviation\",\n",
      "            \"metric_value_kwargs\": null\n",
      "          },\n",
      "          \"num_batches\": 1\n",
      "        }\n",
      "      },\n",
      "      \"expectation_type\": \"expect_column_stdev_to_be_between\",\n",
      "      \"kwargs\": {\n",
      "        \"column\": \"ProductSubcategoryID\",\n",
      "        \"max_value\": 9.860134530977973,\n",
      "        \"min_value\": 9.860134530977973,\n",
      "        \"strict_max\": false,\n",
      "        \"strict_min\": false\n",
      "      }\n",
      "    },\n",
      "    {\n",
      "      \"meta\": {\n",
      "        \"profiler_details\": {\n",
      "          \"metric_configuration\": {\n",
      "            \"domain_kwargs\": {\n",
      "              \"column\": \"ProductModelID\"\n",
      "            },\n",
      "            \"metric_name\": \"column.min\",\n",
      "            \"metric_value_kwargs\": null\n",
      "          },\n",
      "          \"num_batches\": 1\n",
      "        }\n",
      "      },\n",
      "      \"expectation_type\": \"expect_column_min_to_be_between\",\n",
      "      \"kwargs\": {\n",
      "        \"column\": \"ProductModelID\",\n",
      "        \"max_value\": 1,\n",
      "        \"min_value\": 1,\n",
      "        \"strict_max\": false,\n",
      "        \"strict_min\": false\n",
      "      }\n",
      "    },\n",
      "    {\n",
      "      \"meta\": {\n",
      "        \"profiler_details\": {\n",
      "          \"metric_configuration\": {\n",
      "            \"domain_kwargs\": {\n",
      "              \"column\": \"ProductModelID\"\n",
      "            },\n",
      "            \"metric_name\": \"column.max\",\n",
      "            \"metric_value_kwargs\": null\n",
      "          },\n",
      "          \"num_batches\": 1\n",
      "        }\n",
      "      },\n",
      "      \"expectation_type\": \"expect_column_max_to_be_between\",\n",
      "      \"kwargs\": {\n",
      "        \"column\": \"ProductModelID\",\n",
      "        \"max_value\": 128,\n",
      "        \"min_value\": 128,\n",
      "        \"strict_max\": false,\n",
      "        \"strict_min\": false\n",
      "      }\n",
      "    },\n",
      "    {\n",
      "      \"meta\": {\n",
      "        \"profiler_details\": {\n",
      "          \"column_max_values_range_estimator\": {\n",
      "            \"metric_configuration\": {\n",
      "              \"domain_kwargs\": {\n",
      "                \"column\": \"ProductModelID\"\n",
      "              },\n",
      "              \"metric_name\": \"column.max\",\n",
      "              \"metric_value_kwargs\": null\n",
      "            },\n",
      "            \"num_batches\": 1\n",
      "          },\n",
      "          \"column_min_values_range_estimator\": {\n",
      "            \"metric_configuration\": {\n",
      "              \"domain_kwargs\": {\n",
      "                \"column\": \"ProductModelID\"\n",
      "              },\n",
      "              \"metric_name\": \"column.min\",\n",
      "              \"metric_value_kwargs\": null\n",
      "            },\n",
      "            \"num_batches\": 1\n",
      "          }\n",
      "        }\n",
      "      },\n",
      "      \"expectation_type\": \"expect_column_values_to_be_between\",\n",
      "      \"kwargs\": {\n",
      "        \"column\": \"ProductModelID\",\n",
      "        \"max_value\": 128,\n",
      "        \"min_value\": 1,\n",
      "        \"mostly\": 1.0,\n",
      "        \"strict_max\": false,\n",
      "        \"strict_min\": false\n",
      "      }\n",
      "    },\n",
      "    {\n",
      "      \"meta\": {\n",
      "        \"profiler_details\": {\n",
      "          \"metric_configuration\": {\n",
      "            \"domain_kwargs\": {\n",
      "              \"column\": \"ProductModelID\"\n",
      "            },\n",
      "            \"metric_name\": \"column.quantile_values\",\n",
      "            \"metric_value_kwargs\": {\n",
      "              \"allow_relative_error\": false,\n",
      "              \"quantiles\": [\n",
      "                0.25,\n",
      "                0.5,\n",
      "                0.75\n",
      "              ]\n",
      "            }\n",
      "          },\n",
      "          \"num_batches\": 1\n",
      "        }\n",
      "      },\n",
      "      \"expectation_type\": \"expect_column_quantile_values_to_be_between\",\n",
      "      \"kwargs\": {\n",
      "        \"column\": \"ProductModelID\",\n",
      "        \"allow_relative_error\": false,\n",
      "        \"quantile_ranges\": {\n",
      "          \"quantiles\": [\n",
      "            0.25,\n",
      "            0.5,\n",
      "            0.75\n",
      "          ],\n",
      "          \"value_ranges\": [\n",
      "            [\n",
      "              11,\n",
      "              11\n",
      "            ],\n",
      "            [\n",
      "              26,\n",
      "              26\n",
      "            ],\n",
      "            [\n",
      "              49,\n",
      "              49\n",
      "            ]\n",
      "          ]\n",
      "        }\n",
      "      }\n",
      "    },\n",
      "    {\n",
      "      \"meta\": {\n",
      "        \"profiler_details\": {\n",
      "          \"metric_configuration\": {\n",
      "            \"domain_kwargs\": {\n",
      "              \"column\": \"ProductModelID\"\n",
      "            },\n",
      "            \"metric_name\": \"column.median\",\n",
      "            \"metric_value_kwargs\": null\n",
      "          },\n",
      "          \"num_batches\": 1\n",
      "        }\n",
      "      },\n",
      "      \"expectation_type\": \"expect_column_median_to_be_between\",\n",
      "      \"kwargs\": {\n",
      "        \"column\": \"ProductModelID\",\n",
      "        \"max_value\": 26,\n",
      "        \"min_value\": 26,\n",
      "        \"strict_max\": false,\n",
      "        \"strict_min\": false\n",
      "      }\n",
      "    },\n",
      "    {\n",
      "      \"meta\": {\n",
      "        \"profiler_details\": {\n",
      "          \"metric_configuration\": {\n",
      "            \"domain_kwargs\": {\n",
      "              \"column\": \"ProductModelID\"\n",
      "            },\n",
      "            \"metric_name\": \"column.mean\",\n",
      "            \"metric_value_kwargs\": null\n",
      "          },\n",
      "          \"num_batches\": 1\n",
      "        }\n",
      "      },\n",
      "      \"expectation_type\": \"expect_column_mean_to_be_between\",\n",
      "      \"kwargs\": {\n",
      "        \"column\": \"ProductModelID\",\n",
      "        \"max_value\": 37.44406779661017,\n",
      "        \"min_value\": 37.44406779661017,\n",
      "        \"strict_max\": false,\n",
      "        \"strict_min\": false\n",
      "      }\n",
      "    },\n",
      "    {\n",
      "      \"meta\": {\n",
      "        \"profiler_details\": {\n",
      "          \"metric_configuration\": {\n",
      "            \"domain_kwargs\": {\n",
      "              \"column\": \"ProductModelID\"\n",
      "            },\n",
      "            \"metric_name\": \"column.standard_deviation\",\n",
      "            \"metric_value_kwargs\": null\n",
      "          },\n",
      "          \"num_batches\": 1\n",
      "        }\n",
      "      },\n",
      "      \"expectation_type\": \"expect_column_stdev_to_be_between\",\n",
      "      \"kwargs\": {\n",
      "        \"column\": \"ProductModelID\",\n",
      "        \"max_value\": 34.025442017484266,\n",
      "        \"min_value\": 34.025442017484266,\n",
      "        \"strict_max\": false,\n",
      "        \"strict_min\": false\n",
      "      }\n",
      "    },\n",
      "    {\n",
      "      \"meta\": {\n",
      "        \"profiler_details\": {\n",
      "          \"metric_configuration\": {\n",
      "            \"domain_kwargs\": {\n",
      "              \"column\": \"SellStartDate\"\n",
      "            },\n",
      "            \"metric_name\": \"column.min\",\n",
      "            \"metric_value_kwargs\": null\n",
      "          },\n",
      "          \"num_batches\": 1\n",
      "        }\n",
      "      },\n",
      "      \"expectation_type\": \"expect_column_min_to_be_between\",\n",
      "      \"kwargs\": {\n",
      "        \"column\": \"SellStartDate\",\n",
      "        \"max_value\": \"2008-04-30T00:00:00\",\n",
      "        \"min_value\": \"2008-04-30T00:00:00\",\n",
      "        \"strict_max\": false,\n",
      "        \"strict_min\": false\n",
      "      }\n",
      "    },\n",
      "    {\n",
      "      \"meta\": {\n",
      "        \"profiler_details\": {\n",
      "          \"metric_configuration\": {\n",
      "            \"domain_kwargs\": {\n",
      "              \"column\": \"SellStartDate\"\n",
      "            },\n",
      "            \"metric_name\": \"column.max\",\n",
      "            \"metric_value_kwargs\": null\n",
      "          },\n",
      "          \"num_batches\": 1\n",
      "        }\n",
      "      },\n",
      "      \"expectation_type\": \"expect_column_max_to_be_between\",\n",
      "      \"kwargs\": {\n",
      "        \"column\": \"SellStartDate\",\n",
      "        \"max_value\": \"2013-05-30T00:00:00\",\n",
      "        \"min_value\": \"2013-05-30T00:00:00\",\n",
      "        \"strict_max\": false,\n",
      "        \"strict_min\": false\n",
      "      }\n",
      "    },\n",
      "    {\n",
      "      \"meta\": {\n",
      "        \"profiler_details\": {\n",
      "          \"column_max_values_range_estimator\": {\n",
      "            \"metric_configuration\": {\n",
      "              \"domain_kwargs\": {\n",
      "                \"column\": \"SellStartDate\"\n",
      "              },\n",
      "              \"metric_name\": \"column.max\",\n",
      "              \"metric_value_kwargs\": null\n",
      "            },\n",
      "            \"num_batches\": 1\n",
      "          },\n",
      "          \"column_min_values_range_estimator\": {\n",
      "            \"metric_configuration\": {\n",
      "              \"domain_kwargs\": {\n",
      "                \"column\": \"SellStartDate\"\n",
      "              },\n",
      "              \"metric_name\": \"column.min\",\n",
      "              \"metric_value_kwargs\": null\n",
      "            },\n",
      "            \"num_batches\": 1\n",
      "          }\n",
      "        }\n",
      "      },\n",
      "      \"expectation_type\": \"expect_column_values_to_be_between\",\n",
      "      \"kwargs\": {\n",
      "        \"column\": \"SellStartDate\",\n",
      "        \"max_value\": \"2013-05-30T00:00:00\",\n",
      "        \"min_value\": \"2008-04-30T00:00:00\",\n",
      "        \"mostly\": 1.0,\n",
      "        \"strict_max\": false,\n",
      "        \"strict_min\": false\n",
      "      }\n",
      "    },\n",
      "    {\n",
      "      \"meta\": {\n",
      "        \"profiler_details\": {\n",
      "          \"metric_configuration\": {\n",
      "            \"domain_kwargs\": {\n",
      "              \"column\": \"SellEndDate\"\n",
      "            },\n",
      "            \"metric_name\": \"column.min\",\n",
      "            \"metric_value_kwargs\": null\n",
      "          },\n",
      "          \"num_batches\": 1\n",
      "        }\n",
      "      },\n",
      "      \"expectation_type\": \"expect_column_min_to_be_between\",\n",
      "      \"kwargs\": {\n",
      "        \"column\": \"SellEndDate\",\n",
      "        \"max_value\": \"2012-05-29T00:00:00\",\n",
      "        \"min_value\": \"2012-05-29T00:00:00\",\n",
      "        \"strict_max\": false,\n",
      "        \"strict_min\": false\n",
      "      }\n",
      "    },\n",
      "    {\n",
      "      \"meta\": {\n",
      "        \"profiler_details\": {\n",
      "          \"metric_configuration\": {\n",
      "            \"domain_kwargs\": {\n",
      "              \"column\": \"SellEndDate\"\n",
      "            },\n",
      "            \"metric_name\": \"column.max\",\n",
      "            \"metric_value_kwargs\": null\n",
      "          },\n",
      "          \"num_batches\": 1\n",
      "        }\n",
      "      },\n",
      "      \"expectation_type\": \"expect_column_max_to_be_between\",\n",
      "      \"kwargs\": {\n",
      "        \"column\": \"SellEndDate\",\n",
      "        \"max_value\": \"2013-05-29T00:00:00\",\n",
      "        \"min_value\": \"2013-05-29T00:00:00\",\n",
      "        \"strict_max\": false,\n",
      "        \"strict_min\": false\n",
      "      }\n",
      "    },\n",
      "    {\n",
      "      \"meta\": {\n",
      "        \"profiler_details\": {\n",
      "          \"column_max_values_range_estimator\": {\n",
      "            \"metric_configuration\": {\n",
      "              \"domain_kwargs\": {\n",
      "                \"column\": \"SellEndDate\"\n",
      "              },\n",
      "              \"metric_name\": \"column.max\",\n",
      "              \"metric_value_kwargs\": null\n",
      "            },\n",
      "            \"num_batches\": 1\n",
      "          },\n",
      "          \"column_min_values_range_estimator\": {\n",
      "            \"metric_configuration\": {\n",
      "              \"domain_kwargs\": {\n",
      "                \"column\": \"SellEndDate\"\n",
      "              },\n",
      "              \"metric_name\": \"column.min\",\n",
      "              \"metric_value_kwargs\": null\n",
      "            },\n",
      "            \"num_batches\": 1\n",
      "          }\n",
      "        }\n",
      "      },\n",
      "      \"expectation_type\": \"expect_column_values_to_be_between\",\n",
      "      \"kwargs\": {\n",
      "        \"column\": \"SellEndDate\",\n",
      "        \"max_value\": \"2013-05-29T00:00:00\",\n",
      "        \"min_value\": \"2012-05-29T00:00:00\",\n",
      "        \"mostly\": 1.0,\n",
      "        \"strict_max\": false,\n",
      "        \"strict_min\": false\n",
      "      }\n",
      "    },\n",
      "    {\n",
      "      \"meta\": {\n",
      "        \"profiler_details\": {\n",
      "          \"metric_configuration\": {\n",
      "            \"domain_kwargs\": {\n",
      "              \"column\": \"Size\"\n",
      "            },\n",
      "            \"metric_name\": \"column.distinct_values\",\n",
      "            \"metric_value_kwargs\": null\n",
      "          },\n",
      "          \"num_batches\": 1,\n",
      "          \"parse_strings_as_datetimes\": false\n",
      "        }\n",
      "      },\n",
      "      \"expectation_type\": \"expect_column_values_to_be_in_set\",\n",
      "      \"kwargs\": {\n",
      "        \"column\": \"Size\",\n",
      "        \"mostly\": 1.0,\n",
      "        \"value_set\": [\n",
      "          \"L\",\n",
      "          \"46\",\n",
      "          \"40\",\n",
      "          \"S\",\n",
      "          \"56\",\n",
      "          \"XL\",\n",
      "          \"38\",\n",
      "          \"42\",\n",
      "          \"48\",\n",
      "          \"50\",\n",
      "          \"58\",\n",
      "          \"70\",\n",
      "          \"M\",\n",
      "          \"44\",\n",
      "          \"62\",\n",
      "          \"60\",\n",
      "          \"54\",\n",
      "          \"52\"\n",
      "        ]\n",
      "      }\n",
      "    },\n",
      "    {\n",
      "      \"meta\": {\n",
      "        \"profiler_details\": {\n",
      "          \"metric_configuration\": {\n",
      "            \"domain_kwargs\": {\n",
      "              \"column\": \"Size\"\n",
      "            },\n",
      "            \"metric_name\": \"column.distinct_values.count\",\n",
      "            \"metric_value_kwargs\": null\n",
      "          },\n",
      "          \"num_batches\": 1\n",
      "        }\n",
      "      },\n",
      "      \"expectation_type\": \"expect_column_unique_value_count_to_be_between\",\n",
      "      \"kwargs\": {\n",
      "        \"column\": \"Size\",\n",
      "        \"max_value\": 18,\n",
      "        \"min_value\": 18,\n",
      "        \"strict_max\": false,\n",
      "        \"strict_min\": false\n",
      "      }\n",
      "    },\n",
      "    {\n",
      "      \"meta\": {\n",
      "        \"profiler_details\": {\n",
      "          \"metric_configuration\": {\n",
      "            \"domain_kwargs\": {\n",
      "              \"column\": \"Size\"\n",
      "            },\n",
      "            \"metric_name\": \"column.unique_proportion\",\n",
      "            \"metric_value_kwargs\": null\n",
      "          },\n",
      "          \"num_batches\": 1\n",
      "        }\n",
      "      },\n",
      "      \"expectation_type\": \"expect_column_proportion_of_unique_values_to_be_between\",\n",
      "      \"kwargs\": {\n",
      "        \"column\": \"Size\",\n",
      "        \"max_value\": 0.08530805687203792,\n",
      "        \"min_value\": 0.08530805687203792,\n",
      "        \"strict_max\": false,\n",
      "        \"strict_min\": false\n",
      "      }\n",
      "    },\n",
      "    {\n",
      "      \"meta\": {\n",
      "        \"profiler_details\": {\n",
      "          \"metric_configuration\": {\n",
      "            \"domain_kwargs\": {\n",
      "              \"column\": \"ProductSubcategoryID\"\n",
      "            },\n",
      "            \"metric_name\": \"column.distinct_values\",\n",
      "            \"metric_value_kwargs\": null\n",
      "          },\n",
      "          \"num_batches\": 1,\n",
      "          \"parse_strings_as_datetimes\": false\n",
      "        }\n",
      "      },\n",
      "      \"expectation_type\": \"expect_column_values_to_be_in_set\",\n",
      "      \"kwargs\": {\n",
      "        \"column\": \"ProductSubcategoryID\",\n",
      "        \"mostly\": 1.0,\n",
      "        \"value_set\": [\n",
      "          1,\n",
      "          2,\n",
      "          3,\n",
      "          4,\n",
      "          5,\n",
      "          6,\n",
      "          7,\n",
      "          8,\n",
      "          9,\n",
      "          10,\n",
      "          11,\n",
      "          12,\n",
      "          13,\n",
      "          14,\n",
      "          15,\n",
      "          16,\n",
      "          17,\n",
      "          18,\n",
      "          19,\n",
      "          20,\n",
      "          21,\n",
      "          22,\n",
      "          23,\n",
      "          24,\n",
      "          25,\n",
      "          26,\n",
      "          27,\n",
      "          28,\n",
      "          29,\n",
      "          30,\n",
      "          31,\n",
      "          32,\n",
      "          33,\n",
      "          34,\n",
      "          35,\n",
      "          36,\n",
      "          37\n",
      "        ]\n",
      "      }\n",
      "    },\n",
      "    {\n",
      "      \"meta\": {\n",
      "        \"profiler_details\": {\n",
      "          \"metric_configuration\": {\n",
      "            \"domain_kwargs\": {\n",
      "              \"column\": \"ProductSubcategoryID\"\n",
      "            },\n",
      "            \"metric_name\": \"column.distinct_values.count\",\n",
      "            \"metric_value_kwargs\": null\n",
      "          },\n",
      "          \"num_batches\": 1\n",
      "        }\n",
      "      },\n",
      "      \"expectation_type\": \"expect_column_unique_value_count_to_be_between\",\n",
      "      \"kwargs\": {\n",
      "        \"column\": \"ProductSubcategoryID\",\n",
      "        \"max_value\": 37,\n",
      "        \"min_value\": 37,\n",
      "        \"strict_max\": false,\n",
      "        \"strict_min\": false\n",
      "      }\n",
      "    },\n",
      "    {\n",
      "      \"meta\": {\n",
      "        \"profiler_details\": {\n",
      "          \"metric_configuration\": {\n",
      "            \"domain_kwargs\": {\n",
      "              \"column\": \"ProductSubcategoryID\"\n",
      "            },\n",
      "            \"metric_name\": \"column.unique_proportion\",\n",
      "            \"metric_value_kwargs\": null\n",
      "          },\n",
      "          \"num_batches\": 1\n",
      "        }\n",
      "      },\n",
      "      \"expectation_type\": \"expect_column_proportion_of_unique_values_to_be_between\",\n",
      "      \"kwargs\": {\n",
      "        \"column\": \"ProductSubcategoryID\",\n",
      "        \"max_value\": 0.12542372881355932,\n",
      "        \"min_value\": 0.12542372881355932,\n",
      "        \"strict_max\": false,\n",
      "        \"strict_min\": false\n",
      "      }\n",
      "    },\n",
      "    {\n",
      "      \"meta\": {\n",
      "        \"profiler_details\": {\n",
      "          \"metric_configuration\": {\n",
      "            \"domain_kwargs\": {\n",
      "              \"column\": \"SellStartDate\"\n",
      "            },\n",
      "            \"metric_name\": \"column.distinct_values.count\",\n",
      "            \"metric_value_kwargs\": null\n",
      "          },\n",
      "          \"num_batches\": 1\n",
      "        }\n",
      "      },\n",
      "      \"expectation_type\": \"expect_column_unique_value_count_to_be_between\",\n",
      "      \"kwargs\": {\n",
      "        \"column\": \"SellStartDate\",\n",
      "        \"max_value\": 4,\n",
      "        \"min_value\": 4,\n",
      "        \"strict_max\": false,\n",
      "        \"strict_min\": false\n",
      "      }\n",
      "    },\n",
      "    {\n",
      "      \"meta\": {\n",
      "        \"profiler_details\": {\n",
      "          \"metric_configuration\": {\n",
      "            \"domain_kwargs\": {\n",
      "              \"column\": \"SellStartDate\"\n",
      "            },\n",
      "            \"metric_name\": \"column.unique_proportion\",\n",
      "            \"metric_value_kwargs\": null\n",
      "          },\n",
      "          \"num_batches\": 1\n",
      "        }\n",
      "      },\n",
      "      \"expectation_type\": \"expect_column_proportion_of_unique_values_to_be_between\",\n",
      "      \"kwargs\": {\n",
      "        \"column\": \"SellStartDate\",\n",
      "        \"max_value\": 0.007936507936507936,\n",
      "        \"min_value\": 0.007936507936507936,\n",
      "        \"strict_max\": false,\n",
      "        \"strict_min\": false\n",
      "      }\n",
      "    },\n",
      "    {\n",
      "      \"meta\": {\n",
      "        \"profiler_details\": {\n",
      "          \"metric_configuration\": {\n",
      "            \"domain_kwargs\": {\n",
      "              \"column\": \"SellEndDate\"\n",
      "            },\n",
      "            \"metric_name\": \"column.distinct_values.count\",\n",
      "            \"metric_value_kwargs\": null\n",
      "          },\n",
      "          \"num_batches\": 1\n",
      "        }\n",
      "      },\n",
      "      \"expectation_type\": \"expect_column_unique_value_count_to_be_between\",\n",
      "      \"kwargs\": {\n",
      "        \"column\": \"SellEndDate\",\n",
      "        \"max_value\": 2,\n",
      "        \"min_value\": 2,\n",
      "        \"strict_max\": false,\n",
      "        \"strict_min\": false\n",
      "      }\n",
      "    },\n",
      "    {\n",
      "      \"meta\": {\n",
      "        \"profiler_details\": {\n",
      "          \"metric_configuration\": {\n",
      "            \"domain_kwargs\": {\n",
      "              \"column\": \"SellEndDate\"\n",
      "            },\n",
      "            \"metric_name\": \"column.unique_proportion\",\n",
      "            \"metric_value_kwargs\": null\n",
      "          },\n",
      "          \"num_batches\": 1\n",
      "        }\n",
      "      },\n",
      "      \"expectation_type\": \"expect_column_proportion_of_unique_values_to_be_between\",\n",
      "      \"kwargs\": {\n",
      "        \"column\": \"SellEndDate\",\n",
      "        \"max_value\": 0.02040816326530612,\n",
      "        \"min_value\": 0.02040816326530612,\n",
      "        \"strict_max\": false,\n",
      "        \"strict_min\": false\n",
      "      }\n",
      "    }\n",
      "  ],\n",
      "  \"expectation_suite_name\": \"hw_product_suite\",\n",
      "  \"data_asset_type\": null\n",
      "}\n",
      "2023-04-29T22:50:27+0200 - INFO - \t48 expectation(s) included in expectation_suite.\n"
     ]
    },
    {
     "name": "stdout",
     "output_type": "stream",
     "text": [
      "2023-04-29T22:50:27+0200 - INFO - \t48 expectation(s) included in expectation_suite.\n"
     ]
    },
    {
     "data": {
      "application/vnd.jupyter.widget-view+json": {
       "model_id": "217fba36be0641619fbbc2eddc8d03ce",
       "version_major": 2,
       "version_minor": 0
      },
      "text/plain": [
       "Calculating Metrics:   0%|          | 0/171 [00:00<?, ?it/s]"
      ]
     },
     "metadata": {},
     "output_type": "display_data"
    }
   ],
   "source": [
    "print(validator.get_expectation_suite(discard_failed_expectations=False))\n",
    "validator.save_expectation_suite(discard_failed_expectations=False)\n",
    "\n",
    "checkpoint_config = {\n",
    "    \"class_name\": \"SimpleCheckpoint\",\n",
    "    \"validations\": [\n",
    "        {\n",
    "            \"batch_request\": batch_request,\n",
    "            \"expectation_suite_name\": expectation_suite_name\n",
    "        }\n",
    "    ]\n",
    "}\n",
    "checkpoint = SimpleCheckpoint(\n",
    "    f\"{validator.active_batch_definition.data_asset_name}_{expectation_suite_name}\",\n",
    "    context,\n",
    "    **checkpoint_config\n",
    ")\n",
    "checkpoint_result = checkpoint.run()\n",
    "\n",
    "context.build_data_docs()\n",
    "\n",
    "validation_result_identifier = checkpoint_result.list_validation_result_identifiers()[0]\n",
    "context.open_data_docs(resource_identifier=validation_result_identifier)"
   ]
  }
 ],
 "metadata": {
  "kernelspec": {
   "display_name": "Python 3 (ipykernel)",
   "language": "python",
   "name": "python3"
  },
  "language_info": {
   "codemirror_mode": {
    "name": "ipython",
    "version": 3
   },
   "file_extension": ".py",
   "mimetype": "text/x-python",
   "name": "python",
   "nbconvert_exporter": "python",
   "pygments_lexer": "ipython3",
   "version": "3.11.0"
  }
 },
 "nbformat": 4,
 "nbformat_minor": 5
}
