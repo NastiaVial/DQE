{
 "cells": [
  {
   "cell_type": "markdown",
   "id": "c28c8559",
   "metadata": {},
   "source": [
    "# Create Your Checkpoint\n",
    "Use this notebook to configure a new Checkpoint and add it to your project:\n",
    "\n",
    "**Checkpoint Name**: `product_checkpoint`"
   ]
  },
  {
   "cell_type": "code",
   "execution_count": 1,
   "id": "7b67b3cc",
   "metadata": {},
   "outputs": [],
   "source": [
    "from ruamel.yaml import YAML\n",
    "import great_expectations as gx\n",
    "from pprint import pprint\n",
    "\n",
    "yaml = YAML()\n",
    "context = gx.get_context()"
   ]
  },
  {
   "cell_type": "markdown",
   "id": "45055b83",
   "metadata": {},
   "source": [
    "# Create a Checkpoint Configuration\n",
    "\n",
    "**If you are new to Great Expectations or the Checkpoint feature**, you should start with SimpleCheckpoint because it includes default configurations like a default list of post validation actions.\n",
    "\n",
    "In the cell below we have created a sample Checkpoint configuration using **your configuration** and **SimpleCheckpoint** to run a single validation of a single Expectation Suite against a single Batch of data.\n",
    "\n",
    "To keep it simple, we are just choosing the first available instance of each of the following items you have configured in your Data Context:\n",
    "* Datasource\n",
    "* DataConnector\n",
    "* DataAsset\n",
    "* Partition\n",
    "* Expectation Suite\n",
    "\n",
    "Of course this is purely an example, you may edit this to your heart's content.\n",
    "\n",
    "**My configuration is not so simple - are there more advanced options?**\n",
    "\n",
    "Glad you asked! Checkpoints are very versatile. For example, you can validate many Batches in a single Checkpoint, validate Batches against different Expectation Suites or against many Expectation Suites, control the specific post-validation actions based on Expectation Suite / Batch / results of validation among other features. Check out our documentation on Checkpoints for more details and for instructions on how to implement other more advanced features including using the **Checkpoint** class:\n",
    "- https://docs.greatexpectations.io/docs/reference/checkpoints_and_actions\n",
    "- https://docs.greatexpectations.io/docs/guides/validation/checkpoints/how_to_create_a_new_checkpoint\n",
    "- https://docs.greatexpectations.io/docs/guides/validation/checkpoints/how_to_configure_a_new_checkpoint_using_test_yaml_config"
   ]
  },
  {
   "cell_type": "code",
   "execution_count": 2,
   "id": "e5925b12",
   "metadata": {},
   "outputs": [
    {
     "name": "stdout",
     "output_type": "stream",
     "text": [
      "\n",
      "name: product_checkpoint\n",
      "config_version: 1.0\n",
      "class_name: SimpleCheckpoint\n",
      "run_name_template: \"%Y%m%d-%H%M%S-my-run-name-template\"\n",
      "validations:\n",
      "  - batch_request:\n",
      "      datasource_name: my_datasource\n",
      "      data_connector_name: default_inferred_data_connector_name\n",
      "      data_asset_name: Production.Product\n",
      "      data_connector_query:\n",
      "        index: -1\n",
      "    expectation_suite_name: hw_product_suite\n",
      "\n"
     ]
    }
   ],
   "source": [
    "my_checkpoint_name = \"product_checkpoint\" # This was populated from your CLI command.\n",
    "\n",
    "yaml_config = f\"\"\"\n",
    "name: {my_checkpoint_name}\n",
    "config_version: 1.0\n",
    "class_name: SimpleCheckpoint\n",
    "run_name_template: \"%Y%m%d-%H%M%S-my-run-name-template\"\n",
    "validations:\n",
    "  - batch_request:\n",
    "      datasource_name: my_datasource\n",
    "      data_connector_name: default_inferred_data_connector_name\n",
    "      data_asset_name: Production.Product\n",
    "      data_connector_query:\n",
    "        index: -1\n",
    "    expectation_suite_name: hw_product_suite\n",
    "\"\"\"\n",
    "print(yaml_config)"
   ]
  },
  {
   "cell_type": "markdown",
   "id": "cc6ba058",
   "metadata": {},
   "source": [
    "# Customize Your Configuration\n",
    "The following cells show examples for listing your current configuration. You can replace values in the sample configuration with these values to customize your Checkpoint."
   ]
  },
  {
   "cell_type": "code",
   "execution_count": 3,
   "id": "0f3bd2fe",
   "metadata": {},
   "outputs": [
    {
     "name": "stdout",
     "output_type": "stream",
     "text": [
      "{'my_datasource': {'default_configured_data_connector_name': ['Product'],\n",
      "                   'default_inferred_data_connector_name': ['Production.BillOfMaterials',\n",
      "                                                            'Production.Culture',\n",
      "                                                            'Production.Document',\n",
      "                                                            'Production.Illustration',\n",
      "                                                            'Production.Location',\n",
      "                                                            'Production.Product',\n",
      "                                                            'Production.ProductCategory',\n",
      "                                                            'Production.ProductCostHistory',\n",
      "                                                            'Production.ProductDescription',\n",
      "                                                            'Production.ProductDocument',\n",
      "                                                            'Production.ProductInventory',\n",
      "                                                            'Production.ProductListPriceHistory',\n",
      "                                                            'Production.ProductModel',\n",
      "                                                            'Production.ProductModelIllustration',\n",
      "                                                            'Production.ProductModelProductDescriptionCulture',\n",
      "                                                            'Production.ProductPhoto',\n",
      "                                                            'Production.ProductProductPhoto',\n",
      "                                                            'Production.ProductReview',\n",
      "                                                            'Production.ProductSubcategory',\n",
      "                                                            'Production.ScrapReason',\n",
      "                                                            'Production.TransactionHistory',\n",
      "                                                            'Production.TransactionHistoryArchive',\n",
      "                                                            'Production.UnitMeasure',\n",
      "                                                            'Production.WorkOrder',\n",
      "                                                            'Production.WorkOrderRouting',\n",
      "                                                            'Production.vProductAndDescription',\n",
      "                                                            'Production.vProductModelCatalogDescription',\n",
      "                                                            'Production.vProductModelInstructions'],\n",
      "                   'default_runtime_data_connector_name': []}}\n"
     ]
    }
   ],
   "source": [
    "# Run this cell to print out the names of your Datasources, Data Connectors and Data Assets\n",
    "pprint(context.get_available_data_asset_names())"
   ]
  },
  {
   "cell_type": "code",
   "execution_count": null,
   "id": "3b4c1c3d",
   "metadata": {},
   "outputs": [],
   "source": [
    "context.list_expectation_suite_names()"
   ]
  },
  {
   "cell_type": "markdown",
   "id": "a722b2ff",
   "metadata": {},
   "source": [
    "# Test Your Checkpoint Configuration\n",
    "Here we will test your Checkpoint configuration to make sure it is valid.\n",
    "\n",
    "This `test_yaml_config()` function is meant to enable fast dev loops. If your configuration is correct, this cell will show a message that you successfully instantiated a Checkpoint. You can continually edit your Checkpoint config yaml and re-run the cell to check until the new config is valid.\n",
    "\n",
    "If you instead wish to use python instead of yaml to configure your Checkpoint, you can use `context.add_checkpoint()` and specify all the required parameters."
   ]
  },
  {
   "cell_type": "code",
   "execution_count": null,
   "id": "3b5d250c",
   "metadata": {},
   "outputs": [],
   "source": [
    "my_checkpoint = context.test_yaml_config(yaml_config=yaml_config)"
   ]
  },
  {
   "cell_type": "markdown",
   "id": "995ec7e2",
   "metadata": {},
   "source": [
    "# Review Your Checkpoint\n",
    "\n",
    "You can run the following cell to print out the full yaml configuration. For example, if you used **SimpleCheckpoint**  this will show you the default action list."
   ]
  },
  {
   "cell_type": "code",
   "execution_count": null,
   "id": "04acef53",
   "metadata": {},
   "outputs": [],
   "source": [
    "print(my_checkpoint.get_config(mode=\"yaml\"))"
   ]
  },
  {
   "cell_type": "markdown",
   "id": "710f9d9c",
   "metadata": {},
   "source": [
    "# Add Your Checkpoint\n",
    "\n",
    "Run the following cell to save this Checkpoint to your Checkpoint Store."
   ]
  },
  {
   "cell_type": "code",
   "execution_count": null,
   "id": "46b1396f",
   "metadata": {},
   "outputs": [],
   "source": [
    "context.add_checkpoint(**yaml.load(yaml_config))"
   ]
  },
  {
   "cell_type": "markdown",
   "id": "af26391b",
   "metadata": {},
   "source": [
    "# Run Your Checkpoint & Open Data Docs(Optional)\n",
    "\n",
    "You may wish to run the Checkpoint now and review its output in Data Docs. If so uncomment and run the following cell."
   ]
  },
  {
   "cell_type": "code",
   "execution_count": null,
   "id": "d0b1f867",
   "metadata": {},
   "outputs": [],
   "source": [
    "# context.run_checkpoint(checkpoint_name=my_checkpoint_name)\n",
    "# context.open_data_docs()"
   ]
  }
 ],
 "metadata": {
  "kernelspec": {
   "display_name": "Python 3 (ipykernel)",
   "language": "python",
   "name": "python3"
  },
  "language_info": {
   "codemirror_mode": {
    "name": "ipython",
    "version": 3
   },
   "file_extension": ".py",
   "mimetype": "text/x-python",
   "name": "python",
   "nbconvert_exporter": "python",
   "pygments_lexer": "ipython3",
   "version": "3.11.0"
  }
 },
 "nbformat": 4,
 "nbformat_minor": 5
}
